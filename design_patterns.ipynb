{
 "cells": [
  {
   "cell_type": "markdown",
   "id": "898cdec1",
   "metadata": {},
   "source": [
    "| Pattern       | Category       | Purpose                                                                  |\n",
    "| ------------- | -------------- | ------------------------------------------------------------------------ |\n",
    "| **Singleton** | **Creational** | Ensures only one instance of a class exists.                             |\n",
    "| **Factory** | **Creational** | Creates objects without specifying exact class.                          |\n",
    "| **Builder** | **Creational** | Builds complex objects step-by-step.                                     |\n",
    "| **Adapter** | **Structural** | Converts one interface into another expected by the client.              |\n",
    "| **Strategy** | **Behavioral** | Allows selecting an algorithm/strategy at runtime.                       |\n",
    "| **Observer** | **Behavioral** | Notifies objects automatically when another object changes.              |\n",
    "| **State** | **Behavioral** | Allows an object to change its behavior when its internal state changes. |"
   ]
  },
  {
   "cell_type": "markdown",
   "id": "cf4a4b64",
   "metadata": {},
   "source": [
    "# Singleton Design Pattern"
   ]
  },
  {
   "cell_type": "code",
   "execution_count": 121,
   "id": "5dbc22d4",
   "metadata": {},
   "outputs": [],
   "source": [
    "import logging\n",
    "from abc import ABC, abstractmethod, ABCMeta\n",
    "import threading\n",
    "\n",
    "# Thread-safe Singleton Metaclass\n",
    "class ThreadSafeSingleton(ABCMeta):\n",
    "    _instances = {}\n",
    "    _lock = threading.Lock()\n",
    "\n",
    "    def __call__(cls, *args, **kwargs):\n",
    "        with cls._lock:\n",
    "            if cls not in cls._instances:\n",
    "                cls._instances[cls] = super().__call__(*args, **kwargs)\n",
    "        return cls._instances[cls]"
   ]
  },
  {
   "cell_type": "code",
   "execution_count": 122,
   "id": "6bc87ada",
   "metadata": {},
   "outputs": [],
   "source": [
    "# Interface for Logger\n",
    "class BaseLogger(ABC):\n",
    "    @abstractmethod\n",
    "    def debug(self, message): pass\n",
    "\n",
    "    @abstractmethod\n",
    "    def info(self, message): pass\n",
    "\n",
    "    @abstractmethod\n",
    "    def warning(self, message): pass\n",
    "\n",
    "    @abstractmethod\n",
    "    def error(self, message): pass"
   ]
  },
  {
   "cell_type": "code",
   "execution_count": 123,
   "id": "e16b806a",
   "metadata": {},
   "outputs": [
    {
     "name": "stderr",
     "output_type": "stream",
     "text": [
      "[2025-07-27 15:12:46,030] DEBUG - Hi]\n",
      "[2025-07-27 15:12:46,034] INFO - Hi]\n",
      "[2025-07-27 15:12:46,038] WARNING - Hi]\n",
      "[2025-07-27 15:12:46,040] ERROR - Hi]\n"
     ]
    },
    {
     "name": "stdout",
     "output_type": "stream",
     "text": [
      "2797220710864\n",
      "2797220710864\n"
     ]
    }
   ],
   "source": [
    "import logging\n",
    "\n",
    "class LoggerSystem(BaseLogger, metaclass=ThreadSafeSingleton):\n",
    "    \"\"\"\n",
    "        LoggerSystem is a class which deals with invoking the logger methods\n",
    "        Methods :- \n",
    "            _get_or_create_logger :- Helps to get or create the logger instance\n",
    "            debug :- This Functions reads the level 10 logger data\n",
    "            info :- This Functions reads the level 20 logger data\n",
    "            error :- This Functions reads the level 40 logger data\n",
    "            warning :- This Functions reads the level 30 logger data\n",
    "\n",
    "    \"\"\"\n",
    "    def __init__(self):\n",
    "        self.app_name = 'CodeGeN'\n",
    "        self.level = logging.DEBUG  \n",
    "        self.formatter = '[%(asctime)s] %(levelname)s - %(message)s]'\n",
    "        self._logger = self._get_or_create_logger()\n",
    "        \n",
    "    def _get_or_create_logger(self):\n",
    "        logger = logging.getLogger(self.app_name)\n",
    "        logger.setLevel(self.level)\n",
    "\n",
    "        if logger.hasHandlers():\n",
    "            return logger\n",
    "\n",
    "        formatter = logging.Formatter(self.formatter)\n",
    "\n",
    "        # Console Handler\n",
    "        console_handler = logging.StreamHandler()\n",
    "        console_handler.setFormatter(formatter)\n",
    "\n",
    "        # File Handler\n",
    "        file_handler = logging.FileHandler('app.log', mode='a')\n",
    "        file_handler.setFormatter(formatter)\n",
    "\n",
    "        # Add handlers\n",
    "        logger.addHandler(console_handler)\n",
    "        logger.addHandler(file_handler)\n",
    "\n",
    "        return logger\n",
    "    \n",
    "    def debug(self, message):\n",
    "        return self._logger.debug(message)\n",
    "    def error(self, message):\n",
    "        return self._logger.error(message)\n",
    "    def warning(self, message):\n",
    "        return self._logger.warning(message)\n",
    "    def info(self, message):\n",
    "        return self._logger.info(message)\n",
    "\n",
    "logger =  LoggerSystem()\n",
    "logger1 =  LoggerSystem()\n",
    "print(id(logger))\n",
    "print(id(logger1))\n",
    "\n",
    "logger.debug(\"Hi\")\n",
    "logger.info(\"Hi\")\n",
    "logger.warning(\"Hi\")\n",
    "logger.error(\"Hi\")\n",
    "\n"
   ]
  },
  {
   "cell_type": "code",
   "execution_count": 124,
   "id": "a1eb4e69",
   "metadata": {},
   "outputs": [],
   "source": [
    "## Example -2 Config Manager"
   ]
  },
  {
   "cell_type": "code",
   "execution_count": 125,
   "id": "611f6e3e",
   "metadata": {},
   "outputs": [],
   "source": [
    "import yaml\n",
    "from abc import ABC, abstractmethod\n",
    "\n",
    "class BaseConfig(ABC):\n",
    "    def __init__(self):\n",
    "        self._config = self._load_config()  # No path passed here\n",
    "    \n",
    "    @abstractmethod        \n",
    "    def _load_config(self, path=None):\n",
    "        pass\n",
    "\n",
    "    @abstractmethod\n",
    "    def get_data(self, parent, child):\n",
    "        pass\n",
    "\n",
    "\n",
    "# Assuming ThreadSafeSingleton is a metaclass you already have\n",
    "class ConfigManager(BaseConfig, metaclass=ThreadSafeSingleton):\n",
    "    def _load_config(self, path='config/config.yaml'):\n",
    "        with open(path, 'r') as file:\n",
    "            return yaml.safe_load(file)\n",
    "    \n",
    "    def get_data(self, parent, child):\n",
    "        parent_data = self._config.get(parent)\n",
    "        if parent_data is None:\n",
    "            raise ValueError(f\"Invalid parent key: '{parent}'\")\n",
    "\n",
    "        child_data = parent_data.get(child)\n",
    "        if child_data is None:\n",
    "            raise ValueError(f\"Invalid child key: '{child}' under parent '{parent}'\")\n",
    "        \n",
    "        return child_data\n"
   ]
  },
  {
   "cell_type": "code",
   "execution_count": 126,
   "id": "d170cabb",
   "metadata": {},
   "outputs": [
    {
     "name": "stdout",
     "output_type": "stream",
     "text": [
      "2797220608912\n",
      "2797220608912\n"
     ]
    },
    {
     "data": {
      "text/plain": [
       "'logs/app.log'"
      ]
     },
     "execution_count": 126,
     "metadata": {},
     "output_type": "execute_result"
    }
   ],
   "source": [
    "config_1 = ConfigManager()\n",
    "config_2 = ConfigManager()\n",
    "print(id(config_1))\n",
    "print(id(config_2))\n",
    "config_1.get_data(\"logging\",\"level\")\n",
    "config_2.get_data(\"logging\",\"file\")\n",
    "\n"
   ]
  },
  {
   "cell_type": "markdown",
   "id": "23d9336e",
   "metadata": {},
   "source": [
    "# Factory Method"
   ]
  },
  {
   "cell_type": "code",
   "execution_count": 127,
   "id": "3d4e7375",
   "metadata": {},
   "outputs": [
    {
     "name": "stdout",
     "output_type": "stream",
     "text": [
      "Processing payment via RazorPay: 1000\n"
     ]
    }
   ],
   "source": [
    "from abc import ABC, abstractmethod\n",
    "\n",
    "# Step 1: Interface\n",
    "class PaymentGateway(ABC):\n",
    "    @abstractmethod\n",
    "    def process_payment(self, amount):\n",
    "        pass\n",
    "\n",
    "# Step 2: Concrete Classes\n",
    "class PayPal(PaymentGateway):\n",
    "    def process_payment(self, amount):\n",
    "        print(\"Processing payment via PayPal:\", amount)\n",
    "\n",
    "class RazoPay(PaymentGateway):\n",
    "    def process_payment(self, amount):\n",
    "        print(\"Processing payment via RazorPay:\", amount)\n",
    "\n",
    "# Step 3: Factory\n",
    "class PaymentGatewayFactory:\n",
    "    @staticmethod\n",
    "    def get_gateway(payment_type: str) -> PaymentGateway:\n",
    "        payment_type = payment_type.lower()\n",
    "        if payment_type == 'razopay':\n",
    "            return RazoPay()\n",
    "        elif payment_type == 'paypal':\n",
    "            return PayPal()\n",
    "        else:\n",
    "            raise ValueError(\"Invalid payment type\")\n",
    "\n",
    "gateway = PaymentGatewayFactory.get_gateway(\"razopay\")\n",
    "gateway.process_payment(1000)"
   ]
  },
  {
   "cell_type": "markdown",
   "id": "3ccfb2ec",
   "metadata": {},
   "source": [
    "# Builder Design Pattern\n",
    "- The Builder Pattern is a creational design pattern used to construct complex objects step-by-step. It separates the construction process from the actual representation of the object."
   ]
  },
  {
   "cell_type": "code",
   "execution_count": 128,
   "id": "c0fa491e",
   "metadata": {},
   "outputs": [],
   "source": [
    "# 🍕 1. Without Builder Pattern (Simple Instantiation)"
   ]
  },
  {
   "cell_type": "code",
   "execution_count": 129,
   "id": "95effb27",
   "metadata": {},
   "outputs": [
    {
     "name": "stdout",
     "output_type": "stream",
     "text": [
      "Pizza with pan baked dough, spicy sauce, and pepperoni topping.\n"
     ]
    }
   ],
   "source": [
    "class Pizza:\n",
    "    def __init__(self, dough, sauce, topping):\n",
    "        self.dough = dough\n",
    "        self.sauce = sauce\n",
    "        self.topping = topping\n",
    "\n",
    "    def __str__(self):\n",
    "        return f\"Pizza with {self.dough} dough, {self.sauce} sauce, and {self.topping} topping.\"\n",
    "\n",
    "# Create pizza directly\n",
    "pizza = Pizza(\"pan baked\", \"spicy\", \"pepperoni\")\n",
    "print(pizza)\n"
   ]
  },
  {
   "cell_type": "markdown",
   "id": "6a8bd0de",
   "metadata": {},
   "source": [
    "## Downsides:\n",
    "* Hard to manage when there are many options or configurations.\n",
    "\n",
    "* Constructor can get messy if more ingredients are added.\n",
    "\n",
    "* Changing construction logic means changing the core class."
   ]
  },
  {
   "cell_type": "markdown",
   "id": "6d53f60b",
   "metadata": {},
   "source": [
    "### 🧩 Components of the Builder Pattern\n",
    "\n",
    "| Component         | Role & Responsibility                                                               |\n",
    "|-------------------|--------------------------------------------------------------------------------------|\n",
    "| **Product**        | The complex object being built (e.g., `Pizza`, `Car`, etc.)                         |\n",
    "| **Builder Interface** | Defines the abstract methods for building parts of the product                    |\n",
    "| **Concrete Builder**  | Implements the builder interface and provides specifics for each build step       |\n",
    "| **Director**       | Orchestrates the steps using the builder to create the product                      |\n",
    "| **Client**         | Initiates the building process by choosing a builder and optionally a director      |\n"
   ]
  },
  {
   "cell_type": "code",
   "execution_count": 130,
   "id": "97244f46",
   "metadata": {},
   "outputs": [],
   "source": [
    "# 1. 🧱 Product: Pizza\n",
    "class Pizza:\n",
    "    def __init__(self):\n",
    "        self.dough = None\n",
    "        self.sauce = None\n",
    "        self.topping = None\n",
    "\n",
    "    def __str__(self):\n",
    "        return f\"Pizza with {self.dough} dough, {self.sauce} sauce, and {self.topping} topping.\"\n"
   ]
  },
  {
   "cell_type": "code",
   "execution_count": 131,
   "id": "902add93",
   "metadata": {},
   "outputs": [],
   "source": [
    "# 2. 🔧 Builder Interface\n",
    "\n",
    "from abc import ABC, abstractmethod\n",
    "\n",
    "class PizzaBuilder(ABC):\n",
    "    @abstractmethod\n",
    "    def build_dough(self): pass\n",
    "\n",
    "    @abstractmethod\n",
    "    def build_sauce(self): pass\n",
    "\n",
    "    @abstractmethod\n",
    "    def build_topping(self): pass\n",
    "\n",
    "    @abstractmethod\n",
    "    def get_pizza(self): pass\n"
   ]
  },
  {
   "cell_type": "code",
   "execution_count": 132,
   "id": "9b7cf541",
   "metadata": {},
   "outputs": [],
   "source": [
    "# 3. 🏗️ Concrete Builder\n",
    "\n",
    "class VegPizzaBuilder(PizzaBuilder):\n",
    "    def __init__(self):\n",
    "        self.pizza = Pizza()\n",
    "\n",
    "    def build_dough(self):\n",
    "        self.pizza.dough = \"whole wheat\"\n",
    "\n",
    "    def build_sauce(self):\n",
    "        self.pizza.sauce = \"herb tomato\"\n",
    "\n",
    "    def build_topping(self):\n",
    "        self.pizza.topping = \"bell peppers, olives, corn\"\n",
    "\n",
    "    def get_pizza(self):\n",
    "        return self.pizza\n",
    "\n",
    "\n",
    "class ChickenPizzaBuilder(PizzaBuilder):\n",
    "    def __init__(self):\n",
    "        self.pizza = Pizza()\n",
    "\n",
    "    def build_dough(self):\n",
    "        self.pizza.dough = \"classic\"\n",
    "\n",
    "    def build_sauce(self):\n",
    "        self.pizza.sauce = \"bbq\"\n",
    "\n",
    "    def build_topping(self):\n",
    "        self.pizza.topping = \"grilled chicken, onions\"\n",
    "\n",
    "    def get_pizza(self):\n",
    "        return self.pizza\n",
    "\n",
    "class MushroomPizzaBuilder(PizzaBuilder):\n",
    "    def __init__(self):\n",
    "        self.pizza = Pizza()\n",
    "\n",
    "    def build_dough(self):\n",
    "        self.pizza.dough = \"cheese burst\"\n",
    "\n",
    "    def build_sauce(self):\n",
    "        self.pizza.sauce = \"garlic white\"\n",
    "\n",
    "    def build_topping(self):\n",
    "        self.pizza.topping = \"button mushrooms, jalapeños\"\n",
    "\n",
    "    def get_pizza(self):\n",
    "        return self.pizza\n"
   ]
  },
  {
   "cell_type": "code",
   "execution_count": 133,
   "id": "aadf9682",
   "metadata": {},
   "outputs": [],
   "source": [
    "class PizzaChef:\n",
    "    def __init__(self, builder: PizzaBuilder):\n",
    "        self.builder = builder\n",
    "\n",
    "    def make_pizza(self):\n",
    "        self.builder.build_dough()\n",
    "        self.builder.build_sauce()\n",
    "        self.builder.build_topping()\n",
    "        return self.builder.get_pizza()\n"
   ]
  },
  {
   "cell_type": "code",
   "execution_count": 134,
   "id": "cb53e879",
   "metadata": {},
   "outputs": [
    {
     "name": "stdout",
     "output_type": "stream",
     "text": [
      "Pizza with whole wheat dough, herb tomato sauce, and bell peppers, olives, corn topping.\n",
      "Pizza with classic dough, bbq sauce, and grilled chicken, onions topping.\n",
      "Pizza with cheese burst dough, garlic white sauce, and button mushrooms, jalapeños topping.\n"
     ]
    }
   ],
   "source": [
    "for builder in [VegPizzaBuilder(), ChickenPizzaBuilder(), MushroomPizzaBuilder()]:\n",
    "    chef = PizzaChef(builder)\n",
    "    pizza = chef.make_pizza()\n",
    "    print(pizza)\n"
   ]
  },
  {
   "cell_type": "code",
   "execution_count": 135,
   "id": "258ad6c6",
   "metadata": {},
   "outputs": [],
   "source": [
    "# Example - 2\n",
    "# Notification System"
   ]
  },
  {
   "cell_type": "code",
   "execution_count": 153,
   "id": "c8e4985d",
   "metadata": {},
   "outputs": [],
   "source": [
    "import uuid\n",
    "# Product\n",
    "class Notification:\n",
    "    def __init__(self):\n",
    "        self.id = uuid.uuid4()\n",
    "        self.notification_type = None\n",
    "        self.sender = None\n",
    "        self.receiver = None\n",
    "        self.message = None\n",
    "    \n",
    "    def __str__(self):\n",
    "        return f'{self.id}-{self.notification_type}'"
   ]
  },
  {
   "cell_type": "code",
   "execution_count": 154,
   "id": "2e9807aa",
   "metadata": {},
   "outputs": [],
   "source": [
    "# notification builder\n",
    "from abc import abstractmethod, ABC\n",
    "class NotificationBuilder(ABC):\n",
    "    @abstractmethod\n",
    "    def add_notification_type(self):\n",
    "        pass\n",
    "    \n",
    "    @abstractmethod\n",
    "    def add_sender(self):\n",
    "        pass\n",
    "    \n",
    "    @abstractmethod\n",
    "    def add_receiver(self):\n",
    "        pass\n",
    "\n",
    "    @abstractmethod\n",
    "    def add_message(self):\n",
    "        pass\n",
    "    \n",
    "    @abstractmethod\n",
    "    def get_notification(self):\n",
    "        pass"
   ]
  },
  {
   "cell_type": "code",
   "execution_count": 155,
   "id": "539e568d",
   "metadata": {},
   "outputs": [],
   "source": [
    "# 3. 🏗️ Concrete Builder\n",
    "class EmailNotification(NotificationBuilder):\n",
    "    def __init__(self):\n",
    "        self.notification = Notification()\n",
    "    def add_notification_type(self):\n",
    "        self.notification.notification_type = \"Email\"\n",
    "    def add_sender(self):\n",
    "        self.notification.sender = \"shanu@gmail.com\"\n",
    "    def add_receiver(self):\n",
    "        self.notification.receiver = \"adari@gmail.com\"\n",
    "    def add_message(self):\n",
    "        self.notification.message = \"Hi Hello through email\"\n",
    "    def get_notification(self):\n",
    "        return self.notification\n",
    "\n",
    "\n",
    "class SMSNotification(NotificationBuilder):\n",
    "    def __init__(self):\n",
    "        self.notification = Notification()\n",
    "    def add_notification_type(self):\n",
    "        self.notification.notification_type = \"phone\"\n",
    "    def add_sender(self):\n",
    "        self.notification.sender = \"9999999999999999\"\n",
    "    def add_receiver(self):\n",
    "        self.notification.receiver = \"2222222222222222222\"\n",
    "    def add_message(self):\n",
    "        self.notification.message = \"Hi Hello\"\n",
    "    def get_notification(self):\n",
    "        return self.notification\n",
    "    \n",
    "    "
   ]
  },
  {
   "cell_type": "code",
   "execution_count": 156,
   "id": "a23963c2",
   "metadata": {},
   "outputs": [],
   "source": [
    "class NotificationOrchestrator:\n",
    "    def __init__(self, builder):\n",
    "        self.builder = builder\n",
    "    def create_notification(self):\n",
    "        self.builder.add_notification_type()\n",
    "        self.builder.add_sender()\n",
    "        self.builder.add_receiver()\n",
    "        self.builder.add_message()\n",
    "        return self.builder.get_notification()\n",
    "        "
   ]
  },
  {
   "cell_type": "code",
   "execution_count": 157,
   "id": "c83ca0de",
   "metadata": {},
   "outputs": [
    {
     "name": "stdout",
     "output_type": "stream",
     "text": [
      "e8042f24-8f54-40d6-83d2-0aba164ba9ce-Email\n",
      "9b33941f-5373-4b19-93bb-8849c2fee645-phone\n"
     ]
    }
   ],
   "source": [
    "for notify in [EmailNotification(), SMSNotification()]:\n",
    "    orchestrator = NotificationOrchestrator(notify)\n",
    "    result = orchestrator.create_notification()\n",
    "    print(result)\n"
   ]
  },
  {
   "cell_type": "markdown",
   "id": "503d41dc",
   "metadata": {},
   "source": [
    "# What is the Adapter Pattern?\n",
    "The Adapter pattern is a structural design pattern that facilitates the interaction between two interfaces that are incompatible or cannot work together directly. It acts as a bridge, allowing objects with different interfaces to collaborate.\n",
    "- We have an old method in  a class which users love to use now we have to replace it with another vendor but client does not want to change the way its invoked so now the new methods changes in such a way it adapates to format of old method\n",
    "\n",
    "\n"
   ]
  },
  {
   "cell_type": "markdown",
   "id": "b4b22d93",
   "metadata": {},
   "source": [
    "## Conceptual Diagram\n",
    "\n",
    "The diagram you provided illustrates this pattern perfectly.\n",
    "\n",
    "```text\n",
    "                 ┌────────────────────┐\n",
    "                 │    UpiPayment      │◄───────┐  (Target Interface)\n",
    "                 └────────────────────┘        │\n",
    "                      ▲                        │\n",
    "     ┌────────────────┴─────────────┐          │\n",
    "     │        Adapter Classes        │          │\n",
    "     │ VisaPaymentAdapter           │           │\n",
    "     │ MasterCardPaymentAdapter     │           │\n",
    "     └──────────────────────────────┘           │\n",
    "             ▲                       ▲          │\n",
    "             │                       │          │\n",
    "     ┌───────┴───────┐     ┌─────────┴─────┐    │\n",
    "     │  VisaPayment  │     │ MasterCardPayment│ │\n",
    "     └───────────────┘     └──────────────────┘ │\n",
    "          (Adaptees)                            │\n",
    "                                                │\n",
    "                   ┌────────────────────────────┘\n",
    "                   │\n",
    "          Client Code Uses: `.make_payment()`"
   ]
  },
  {
   "cell_type": "code",
   "execution_count": 7,
   "id": "4da12020",
   "metadata": {},
   "outputs": [
    {
     "name": "stdout",
     "output_type": "stream",
     "text": [
      "Amount Credited via Visa: ₹500\n",
      "Amount Credited via MasterCard: ₹1000\n"
     ]
    }
   ],
   "source": [
    "class UpiPayment:  # Target interface\n",
    "    def make_payment(self, amount):\n",
    "        print(f\"Amount Credited via UPI: ₹{amount}\")\n",
    "\n",
    "\n",
    "# Adaptees\n",
    "class VisaPayment:\n",
    "    def pay(self, amount):\n",
    "        print(f\"Amount Credited via Visa: ₹{amount}\")\n",
    "\n",
    "\n",
    "class MasterCardPayment:\n",
    "    def add_payment(self, amount):\n",
    "        print(f\"Amount Credited via MasterCard: ₹{amount}\")\n",
    "\n",
    "\n",
    "# Adapters\n",
    "class VisaPaymentAdapter(UpiPayment):\n",
    "    def __init__(self, visa: VisaPayment):\n",
    "        self.visa = visa\n",
    "\n",
    "    def make_payment(self, amount):\n",
    "        self.visa.pay(amount)\n",
    "\n",
    "\n",
    "class MasterCardPaymentAdapter(UpiPayment):\n",
    "    def __init__(self, mastercard: MasterCardPayment):\n",
    "        self.mastercard = mastercard\n",
    "\n",
    "    def make_payment(self, amount):\n",
    "        self.mastercard.add_payment(amount)\n",
    "\n",
    "\n",
    "# Usage\n",
    "visa_adapter = VisaPaymentAdapter(VisaPayment())\n",
    "visa_adapter.make_payment(500)\n",
    "\n",
    "mastercard_adapter = MasterCardPaymentAdapter(MasterCardPayment())\n",
    "mastercard_adapter.make_payment(1000)\n"
   ]
  },
  {
   "cell_type": "code",
   "execution_count": null,
   "id": "73803603",
   "metadata": {},
   "outputs": [],
   "source": []
  }
 ],
 "metadata": {
  "kernelspec": {
   "display_name": "Python 3",
   "language": "python",
   "name": "python3"
  },
  "language_info": {
   "codemirror_mode": {
    "name": "ipython",
    "version": 3
   },
   "file_extension": ".py",
   "mimetype": "text/x-python",
   "name": "python",
   "nbconvert_exporter": "python",
   "pygments_lexer": "ipython3",
   "version": "3.11.4"
  }
 },
 "nbformat": 4,
 "nbformat_minor": 5
}

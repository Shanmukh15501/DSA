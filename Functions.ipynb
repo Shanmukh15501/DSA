{
 "cells": [
  {
   "cell_type": "markdown",
   "id": "ec9b2759",
   "metadata": {},
   "source": [
    "# Problem Statement 1\n"
   ]
  },
  {
   "cell_type": "code",
   "execution_count": null,
   "id": "c89f66c9",
   "metadata": {},
   "outputs": [],
   "source": [
    "\"\"\"Celsius to Fahrenheit\n",
    "Problem Description:\n",
    "\n",
    "You are given a temperature in Celsius. Your task is to convert it to Fahrenheit and return the result.\n",
    "\n",
    "Formula:\n",
    "\n",
    "To convert Celsius to Fahrenheit, use the formula:\n",
    "\n",
    "F = (9/5 * C) + 32\n",
    "\n",
    "Where F is the temperature in Fahrenheit and C is the temperature in Celsius.\n",
    "\n",
    "\n",
    "\n",
    "Input:\n",
    "\n",
    "A floating-point number C representing the temperature in Celsius.\n",
    "\n",
    "\n",
    "\n",
    "Output:\n",
    "\n",
    "A floating-point number representing the temperature in Fahrenheit.\n",
    "\n",
    "\"\"\""
   ]
  },
  {
   "cell_type": "markdown",
   "id": "e299c59e",
   "metadata": {},
   "source": [
    "\"\"\"\n",
    "BEGIN\n",
    "\n",
    "    FUNCTION celsius_to_fahrenheit(C):\n",
    "        SET F = (9 / 5 * C) + 32\n",
    "        RETURN F\n",
    "    END FUNCTION\n",
    "\n",
    "    // Main Program\n",
    "    READ Celsius as FLOAT\n",
    "    SET Fahrenheit = CALL celsius_to_fahrenheit(Celsius)\n",
    "    PRINT Fahrenheit\n",
    "\n",
    "END\n",
    "\"\"\""
   ]
  },
  {
   "cell_type": "code",
   "execution_count": 6,
   "id": "e6680106",
   "metadata": {},
   "outputs": [
    {
     "name": "stdout",
     "output_type": "stream",
     "text": [
      "Temperature in Fahrenheit: 249.8\n"
     ]
    }
   ],
   "source": [
    "def celsius_to_fahrenheit(celsius: float) -> float:\n",
    "    fahrenheit = (9 / 5) * celsius + 32\n",
    "    return fahrenheit\n",
    "\n",
    "# Main program\n",
    "celsius = float(input(\"Enter temperature in Celsius: \"))\n",
    "fahrenheit = celsius_to_fahrenheit(celsius)\n",
    "print(f\"Temperature in Fahrenheit: {fahrenheit}\")\n"
   ]
  },
  {
   "cell_type": "markdown",
   "id": "efde8f20",
   "metadata": {},
   "source": [
    "# Problem Statement 2"
   ]
  },
  {
   "cell_type": "code",
   "execution_count": null,
   "id": "bc35f7d9",
   "metadata": {},
   "outputs": [],
   "source": [
    "\"\"\"\n",
    "Area of a Rectangle\n",
    "Problem Description:\n",
    "\n",
    "You are given the length and breadth of a rectangle. Your task is to compute and return the area of the rectangle.\n",
    "\n",
    "Formula:\n",
    "\n",
    "To calculate the area of a rectangle:\n",
    "\n",
    "Area=length×breadth\n",
    "\n",
    "\n",
    "\n",
    "Input:\n",
    "\n",
    "Two floating-point numbers, length and breadth, representing the dimensions of the rectangle.\n",
    "\n",
    "\n",
    "\n",
    "Output:\n",
    "\n",
    "A floating-point number representing the area of the rectangle.\n",
    "\n",
    "\n",
    "\n",
    "Example:\n",
    "\n",
    "Input: length = 5, breadth = 3\n",
    "Output: 15.0\n",
    " \n",
    "Input: length = 7.5, breadth = 2.4\n",
    "Output: 18.0\n",
    "\"\"\""
   ]
  },
  {
   "cell_type": "code",
   "execution_count": null,
   "id": "5f992ef7",
   "metadata": {},
   "outputs": [],
   "source": [
    "\"\"\"\n",
    "BEGIN\n",
    "    FUNCTION area_of_rectange(l,b)\n",
    "        SET area =  l*b\n",
    "        RETURN area\n",
    "    END FUNCTION\n",
    "    \n",
    "    //MAIN\n",
    "    READ l,b as FLOAT\n",
    "    SET area = CALL area_of_rectange(l,b)\n",
    "    PRINT area\n",
    "END\n",
    "\"\"\"\n",
    "    \n",
    "    "
   ]
  },
  {
   "cell_type": "code",
   "execution_count": 8,
   "id": "de3c0f94",
   "metadata": {},
   "outputs": [
    {
     "name": "stdout",
     "output_type": "stream",
     "text": [
      "2.0\n"
     ]
    }
   ],
   "source": [
    "def area_of_rectange(l: float, b: float) -> float:\n",
    "    return l*b\n",
    "\n",
    "l , b  =  input().split()\n",
    "l = float(l)\n",
    "b = float(b)\n",
    "\n",
    "area =  area_of_rectange(l,b)\n",
    "print(area)\n"
   ]
  },
  {
   "cell_type": "markdown",
   "id": "80285fbe",
   "metadata": {},
   "source": [
    "# Problem Statement 3"
   ]
  },
  {
   "cell_type": "code",
   "execution_count": null,
   "id": "e19ceaf3",
   "metadata": {},
   "outputs": [],
   "source": [
    "\"\"\"\n",
    "Distance covered by a Vehicle\n",
    "Problem Description:\n",
    "\n",
    "You are given the speed of a vehicle and the time it has traveled.\n",
    "Your task is to compute and return the distance traveled by the vehicle.\n",
    "\n",
    "Formula:\n",
    "\n",
    "To calculate the distance traveled by a vehicle:\n",
    "\n",
    "Distance=Speed×Time\n",
    "\n",
    "\n",
    "\n",
    "Input:\n",
    "\n",
    "Two floating-point numbers, speed and time, representing the speed of the vehicle and the time it has been traveling.\n",
    "\n",
    "\n",
    "\n",
    "Output:\n",
    "\n",
    "A floating-point number representing the distance traveled.\n",
    "\"\"\"\n"
   ]
  },
  {
   "cell_type": "code",
   "execution_count": null,
   "id": "a4722604",
   "metadata": {},
   "outputs": [],
   "source": [
    "\"\"\"\n",
    "BEGIN\n",
    "    FUNCTION distance_calculater(speed,time)\n",
    "                SET distance = speed * time\n",
    "                RETURN distance\n",
    "    END FUNCTION\n",
    "    \n",
    "    // Main\n",
    "        READ SPEED,TIME as FLOAT\n",
    "        SET DISTANCE = CALL distance_calculater(SPEED, TIME)\n",
    "        PRINT(DISTANCE)\n",
    "END\n",
    "\"\"\""
   ]
  },
  {
   "cell_type": "code",
   "execution_count": 10,
   "id": "ea443794",
   "metadata": {},
   "outputs": [
    {
     "name": "stdout",
     "output_type": "stream",
     "text": [
      "2.0\n"
     ]
    }
   ],
   "source": [
    "def distance_calculater(speed: float,time: float) -> float:\n",
    "    \n",
    "    return speed * time\n",
    "\n",
    "speed , time  = input().split()\n",
    "speed = float(speed)\n",
    "time = float(time)\n",
    "distance = distance_calculater(speed,time)\n",
    "print(distance)"
   ]
  },
  {
   "cell_type": "markdown",
   "id": "66794c04",
   "metadata": {},
   "source": [
    "# Problem Statement 4"
   ]
  },
  {
   "cell_type": "code",
   "execution_count": null,
   "id": "9789daa6",
   "metadata": {},
   "outputs": [],
   "source": [
    "\"\"\"\n",
    "Number of Rounds of Lift\n",
    "Problem Description:\n",
    "\n",
    "You are given n, the total number of people, and capacity, \n",
    "the maximum number of people the lift can carry at a time.\n",
    "All people want to go from the ground floor to the top floor.\n",
    "Your task is to calculate the number of rounds the lift has to make to transport all the people to the top floor.\n",
    "\n",
    "\n",
    "\n",
    "Input:\n",
    "\n",
    "Two integers, n and capacity, where n is the total number of people, and capacity is the maximum number of people the lift can carry in one round.\n",
    "\n",
    "\n",
    "\n",
    "Output:\n",
    "\n",
    "An integer representing the number of rounds the lift needs to cover to transport all people to the top floor.\n",
    "\n",
    "\n",
    "\n",
    "Example:\n",
    "\n",
    "Input: n = 10, capacity = 3\n",
    "Output: 4\n",
    " \n",
    "Input: n = 7, capacity = 4\n",
    "Output: 2\n",
    "\"\"\""
   ]
  },
  {
   "cell_type": "code",
   "execution_count": null,
   "id": "5dd91e69",
   "metadata": {},
   "outputs": [],
   "source": [
    "\"\"\"\n",
    "BEGIN\n",
    "    FUNCTION determine_capability(n,capacity)\n",
    "           SET capability\n",
    "            IF n % capacity == 0:\n",
    "                capability =  n // capacity\n",
    "            ELSE:\n",
    "                capability = n / capacity + 1\n",
    "            RETURN capability\n",
    "    END FUNCTION\n",
    "    \n",
    "    // Main\n",
    "        READ N , CAPACITY\n",
    "        SET capability = call determine_capability(N, CAPACITY)\n",
    "        PRINT capability\n",
    "END\n",
    "\"\"\""
   ]
  },
  {
   "cell_type": "code",
   "execution_count": null,
   "id": "8eca2a0e",
   "metadata": {},
   "outputs": [
    {
     "name": "stdout",
     "output_type": "stream",
     "text": [
      "capability 2\n"
     ]
    }
   ],
   "source": [
    "def determine_capability(n ,capacity):\n",
    "    capability = \"\"\n",
    "    if n%capacity == 0:\n",
    "        capability =  n//capacity\n",
    "    else:\n",
    "        capability = n//capacity + 1\n",
    "    return capability\n",
    "\n",
    "n, capacity = input().split()\n",
    "n=int(n)\n",
    "capacity=int(capacity) \n",
    "capability = determine_capability(n,capacity)\n",
    "print(\"capability\",capability)"
   ]
  },
  {
   "cell_type": "markdown",
   "id": "a82d8ffd",
   "metadata": {},
   "source": [
    "# Problem Statement 5"
   ]
  },
  {
   "cell_type": "code",
   "execution_count": null,
   "id": "7202e85d",
   "metadata": {},
   "outputs": [],
   "source": [
    "\"\"\"\n",
    "Line Equation\n",
    "Problem Description:\n",
    "\n",
    "You are given the slope m and the y-intercept b of a line, along with a value x.\n",
    "Your task is to calculate and return the value of y using the equation of a line in slope-intercept form: y=mx+b\n",
    "\n",
    "\n",
    "\n",
    "Input:\n",
    "Three floating-point numbers: slope, intercept, and x.\n",
    "\n",
    "\n",
    "\n",
    "Output:\n",
    "\n",
    "A floating-point number representing the value of yyy corresponding to the given xxx.\n",
    "\n",
    "Example:\n",
    "\n",
    "Input: slope = 2, intercept = 3, x = 4\n",
    "Output: 11.0\n",
    " \n",
    "Input: slope = 1.5, intercept = -2, x = 2\n",
    "Output: 1.0\n",
    "\"\"\""
   ]
  },
  {
   "cell_type": "code",
   "execution_count": null,
   "id": "5eff68d7",
   "metadata": {},
   "outputs": [],
   "source": [
    "\"\"\"\n",
    "BEGIN\n",
    "\n",
    "    FUNCTION determine_line_eq(slope,x_intercept,constant):\n",
    "                SET y_intercept = slope*x_intercept + constant\n",
    "                RETURN  y_intercept\n",
    "    END FUNCTION\n",
    "    \n",
    "    // MAIN\n",
    "        READ slope, x_intercept, constant\n",
    "        y_intercept =  CALL determine_line_eq(slope,x_intercept,constant)\n",
    "        PRINT(y_intercept)\n",
    "\n",
    "END\n",
    "\"\"\""
   ]
  }
 ],
 "metadata": {
  "kernelspec": {
   "display_name": "Python 3",
   "language": "python",
   "name": "python3"
  },
  "language_info": {
   "codemirror_mode": {
    "name": "ipython",
    "version": 3
   },
   "file_extension": ".py",
   "mimetype": "text/x-python",
   "name": "python",
   "nbconvert_exporter": "python",
   "pygments_lexer": "ipython3",
   "version": "3.11.4"
  }
 },
 "nbformat": 4,
 "nbformat_minor": 5
}

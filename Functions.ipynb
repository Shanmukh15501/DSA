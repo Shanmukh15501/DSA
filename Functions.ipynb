{
 "cells": [
  {
   "cell_type": "markdown",
   "id": "ec9b2759",
   "metadata": {},
   "source": [
    "# Problem Statement 1\n"
   ]
  },
  {
   "cell_type": "code",
   "execution_count": null,
   "id": "c89f66c9",
   "metadata": {},
   "outputs": [],
   "source": [
    "\"\"\"Celsius to Fahrenheit\n",
    "Problem Description:\n",
    "\n",
    "You are given a temperature in Celsius. Your task is to convert it to Fahrenheit and return the result.\n",
    "\n",
    "Formula:\n",
    "\n",
    "To convert Celsius to Fahrenheit, use the formula:\n",
    "\n",
    "F = (9/5 * C) + 32\n",
    "\n",
    "Where F is the temperature in Fahrenheit and C is the temperature in Celsius.\n",
    "\n",
    "\n",
    "\n",
    "Input:\n",
    "\n",
    "A floating-point number C representing the temperature in Celsius.\n",
    "\n",
    "\n",
    "\n",
    "Output:\n",
    "\n",
    "A floating-point number representing the temperature in Fahrenheit.\n",
    "\n",
    "\"\"\""
   ]
  },
  {
   "cell_type": "markdown",
   "id": "e299c59e",
   "metadata": {},
   "source": [
    "\"\"\"\n",
    "BEGIN\n",
    "\n",
    "    FUNCTION celsius_to_fahrenheit(C):\n",
    "        SET F = (9 / 5 * C) + 32\n",
    "        RETURN F\n",
    "    END FUNCTION\n",
    "\n",
    "    // Main Program\n",
    "    READ Celsius as FLOAT\n",
    "    SET Fahrenheit = CALL celsius_to_fahrenheit(Celsius)\n",
    "    PRINT Fahrenheit\n",
    "\n",
    "END\n",
    "\"\"\""
   ]
  },
  {
   "cell_type": "code",
   "execution_count": 6,
   "id": "e6680106",
   "metadata": {},
   "outputs": [
    {
     "name": "stdout",
     "output_type": "stream",
     "text": [
      "Temperature in Fahrenheit: 249.8\n"
     ]
    }
   ],
   "source": [
    "def celsius_to_fahrenheit(celsius: float) -> float:\n",
    "    fahrenheit = (9 / 5) * celsius + 32\n",
    "    return fahrenheit\n",
    "\n",
    "# Main program\n",
    "celsius = float(input(\"Enter temperature in Celsius: \"))\n",
    "fahrenheit = celsius_to_fahrenheit(celsius)\n",
    "print(f\"Temperature in Fahrenheit: {fahrenheit}\")\n"
   ]
  },
  {
   "cell_type": "markdown",
   "id": "efde8f20",
   "metadata": {},
   "source": [
    "# Problem Statement 2"
   ]
  },
  {
   "cell_type": "code",
   "execution_count": null,
   "id": "bc35f7d9",
   "metadata": {},
   "outputs": [],
   "source": [
    "\"\"\"\n",
    "Area of a Rectangle\n",
    "Problem Description:\n",
    "\n",
    "You are given the length and breadth of a rectangle. Your task is to compute and return the area of the rectangle.\n",
    "\n",
    "Formula:\n",
    "\n",
    "To calculate the area of a rectangle:\n",
    "\n",
    "Area=length×breadth\n",
    "\n",
    "\n",
    "\n",
    "Input:\n",
    "\n",
    "Two floating-point numbers, length and breadth, representing the dimensions of the rectangle.\n",
    "\n",
    "\n",
    "\n",
    "Output:\n",
    "\n",
    "A floating-point number representing the area of the rectangle.\n",
    "\n",
    "\n",
    "\n",
    "Example:\n",
    "\n",
    "Input: length = 5, breadth = 3\n",
    "Output: 15.0\n",
    " \n",
    "Input: length = 7.5, breadth = 2.4\n",
    "Output: 18.0\n",
    "\"\"\""
   ]
  },
  {
   "cell_type": "code",
   "execution_count": null,
   "id": "5f992ef7",
   "metadata": {},
   "outputs": [],
   "source": [
    "\"\"\"\n",
    "BEGIN\n",
    "    FUNCTION area_of_rectange(l,b)\n",
    "        SET area =  l*b\n",
    "        RETURN area\n",
    "    END FUNCTION\n",
    "    \n",
    "    //MAIN\n",
    "    READ l,b as FLOAT\n",
    "    SET area = CALL area_of_rectange(l,b)\n",
    "    PRINT area\n",
    "END\n",
    "\"\"\"\n",
    "    \n",
    "    "
   ]
  },
  {
   "cell_type": "code",
   "execution_count": 8,
   "id": "de3c0f94",
   "metadata": {},
   "outputs": [
    {
     "name": "stdout",
     "output_type": "stream",
     "text": [
      "2.0\n"
     ]
    }
   ],
   "source": [
    "def area_of_rectange(l: float, b: float) -> float:\n",
    "    return l*b\n",
    "\n",
    "l , b  =  input().split()\n",
    "l = float(l)\n",
    "b = float(b)\n",
    "\n",
    "area =  area_of_rectange(l,b)\n",
    "print(area)\n"
   ]
  },
  {
   "cell_type": "markdown",
   "id": "80285fbe",
   "metadata": {},
   "source": [
    "# Problem Statement 3"
   ]
  },
  {
   "cell_type": "code",
   "execution_count": null,
   "id": "e19ceaf3",
   "metadata": {},
   "outputs": [],
   "source": [
    "\"\"\"\n",
    "Distance covered by a Vehicle\n",
    "Problem Description:\n",
    "\n",
    "You are given the speed of a vehicle and the time it has traveled.\n",
    "Your task is to compute and return the distance traveled by the vehicle.\n",
    "\n",
    "Formula:\n",
    "\n",
    "To calculate the distance traveled by a vehicle:\n",
    "\n",
    "Distance=Speed×Time\n",
    "\n",
    "\n",
    "\n",
    "Input:\n",
    "\n",
    "Two floating-point numbers, speed and time, representing the speed of the vehicle and the time it has been traveling.\n",
    "\n",
    "\n",
    "\n",
    "Output:\n",
    "\n",
    "A floating-point number representing the distance traveled.\n",
    "\"\"\"\n"
   ]
  },
  {
   "cell_type": "code",
   "execution_count": null,
   "id": "a4722604",
   "metadata": {},
   "outputs": [],
   "source": [
    "\"\"\"\n",
    "BEGIN\n",
    "    FUNCTION distance_calculater(speed,time)\n",
    "                SET distance = speed * time\n",
    "                RETURN distance\n",
    "    END FUNCTION\n",
    "    \n",
    "    // Main\n",
    "        READ SPEED,TIME as FLOAT\n",
    "        SET DISTANCE = CALL distance_calculater(SPEED, TIME)\n",
    "        PRINT(DISTANCE)\n",
    "END\n",
    "\"\"\""
   ]
  },
  {
   "cell_type": "code",
   "execution_count": 10,
   "id": "ea443794",
   "metadata": {},
   "outputs": [
    {
     "name": "stdout",
     "output_type": "stream",
     "text": [
      "2.0\n"
     ]
    }
   ],
   "source": [
    "def distance_calculater(speed: float,time: float) -> float:\n",
    "    \n",
    "    return speed * time\n",
    "\n",
    "speed , time  = input().split()\n",
    "speed = float(speed)\n",
    "time = float(time)\n",
    "distance = distance_calculater(speed,time)\n",
    "print(distance)"
   ]
  },
  {
   "cell_type": "markdown",
   "id": "66794c04",
   "metadata": {},
   "source": [
    "# Problem Statement 4"
   ]
  },
  {
   "cell_type": "code",
   "execution_count": null,
   "id": "9789daa6",
   "metadata": {},
   "outputs": [],
   "source": [
    "\"\"\"\n",
    "Number of Rounds of Lift\n",
    "Problem Description:\n",
    "\n",
    "You are given n, the total number of people, and capacity, \n",
    "the maximum number of people the lift can carry at a time.\n",
    "All people want to go from the ground floor to the top floor.\n",
    "Your task is to calculate the number of rounds the lift has to make to transport all the people to the top floor.\n",
    "\n",
    "\n",
    "\n",
    "Input:\n",
    "\n",
    "Two integers, n and capacity, where n is the total number of people, and capacity is the maximum number of people the lift can carry in one round.\n",
    "\n",
    "\n",
    "\n",
    "Output:\n",
    "\n",
    "An integer representing the number of rounds the lift needs to cover to transport all people to the top floor.\n",
    "\n",
    "\n",
    "\n",
    "Example:\n",
    "\n",
    "Input: n = 10, capacity = 3\n",
    "Output: 4\n",
    " \n",
    "Input: n = 7, capacity = 4\n",
    "Output: 2\n",
    "\"\"\""
   ]
  },
  {
   "cell_type": "code",
   "execution_count": null,
   "id": "5dd91e69",
   "metadata": {},
   "outputs": [],
   "source": [
    "\"\"\"\n",
    "BEGIN\n",
    "    FUNCTION determine_capability(n,capacity)\n",
    "           SET capability\n",
    "            IF n % capacity == 0:\n",
    "                capability =  n // capacity\n",
    "            ELSE:\n",
    "                capability = n / capacity + 1\n",
    "            RETURN capability\n",
    "    END FUNCTION\n",
    "    \n",
    "    // Main\n",
    "        READ N , CAPACITY\n",
    "        SET capability = call determine_capability(N, CAPACITY)\n",
    "        PRINT capability\n",
    "END\n",
    "\"\"\""
   ]
  },
  {
   "cell_type": "code",
   "execution_count": null,
   "id": "8eca2a0e",
   "metadata": {},
   "outputs": [
    {
     "name": "stdout",
     "output_type": "stream",
     "text": [
      "capability 2\n"
     ]
    }
   ],
   "source": [
    "def determine_capability(n ,capacity):\n",
    "    capability = \"\"\n",
    "    if n%capacity == 0:\n",
    "        capability =  n//capacity\n",
    "    else:\n",
    "        capability = n//capacity + 1\n",
    "    return capability\n",
    "\n",
    "n, capacity = input().split()\n",
    "n=int(n)\n",
    "capacity=int(capacity) \n",
    "capability = determine_capability(n,capacity)\n",
    "print(\"capability\",capability)"
   ]
  },
  {
   "cell_type": "markdown",
   "id": "a82d8ffd",
   "metadata": {},
   "source": [
    "# Problem Statement 5"
   ]
  },
  {
   "cell_type": "code",
   "execution_count": null,
   "id": "7202e85d",
   "metadata": {},
   "outputs": [],
   "source": [
    "\"\"\"\n",
    "Line Equation\n",
    "Problem Description:\n",
    "\n",
    "You are given the slope m and the y-intercept b of a line, along with a value x.\n",
    "Your task is to calculate and return the value of y using the equation of a line in slope-intercept form: y=mx+b\n",
    "\n",
    "\n",
    "\n",
    "Input:\n",
    "Three floating-point numbers: slope, intercept, and x.\n",
    "\n",
    "\n",
    "\n",
    "Output:\n",
    "\n",
    "A floating-point number representing the value of yyy corresponding to the given xxx.\n",
    "\n",
    "Example:\n",
    "\n",
    "Input: slope = 2, intercept = 3, x = 4\n",
    "Output: 11.0\n",
    " \n",
    "Input: slope = 1.5, intercept = -2, x = 2\n",
    "Output: 1.0\n",
    "\"\"\""
   ]
  },
  {
   "cell_type": "code",
   "execution_count": null,
   "id": "5eff68d7",
   "metadata": {},
   "outputs": [],
   "source": [
    "\"\"\"\n",
    "BEGIN\n",
    "\n",
    "    FUNCTION determine_line_eq(slope,x_intercept,constant):\n",
    "                SET y_intercept = slope*x_intercept + constant\n",
    "                RETURN  y_intercept\n",
    "    END FUNCTION\n",
    "    \n",
    "    // MAIN\n",
    "        READ slope, x_intercept, constant\n",
    "        y_intercept =  CALL determine_line_eq(slope,x_intercept,constant)\n",
    "        PRINT(y_intercept)\n",
    "\n",
    "END\n",
    "\"\"\""
   ]
  },
  {
   "cell_type": "code",
   "execution_count": 17,
   "id": "fc66d955",
   "metadata": {},
   "outputs": [
    {
     "name": "stdout",
     "output_type": "stream",
     "text": [
      "y_intercept 5.0\n"
     ]
    }
   ],
   "source": [
    "def determine_line_eq(slope:float, x_intercept:float, constant:float)->float:\n",
    "    y_intercept = slope*x_intercept + constant\n",
    "    return y_intercept\n",
    "slope, x_intercept, constant = input().split()\n",
    "slope = float(slope)\n",
    "x_intercept = float(x_intercept)\n",
    "constant = float(constant)\n",
    "y_intercept = determine_line_eq(slope, x_intercept, constant)\n",
    "print(\"y_intercept\",y_intercept)"
   ]
  },
  {
   "cell_type": "markdown",
   "id": "b0718a8c",
   "metadata": {},
   "source": [
    "# Problem Statement 6"
   ]
  },
  {
   "cell_type": "code",
   "execution_count": null,
   "id": "a62eb96e",
   "metadata": {},
   "outputs": [],
   "source": [
    "\"\"\"\n",
    "Sum of List Elements\n",
    "Problem Description\n",
    "\n",
    "Sum of List Elements\n",
    "\n",
    "Write a Python function that calculates the sum of all elements in a given list of integers.\n",
    "\n",
    "Parameters:\n",
    "\n",
    "numbers (List of integers): The input list containing integers.\n",
    "\n",
    "Returns:\n",
    "\n",
    "An integer representing the sum of all elements in the input list.\n",
    "\n",
    "Example:\n",
    "\n",
    "Input: numbers = [1, 2, 3, 4, 5]\n",
    "Output: 15\n",
    "\n",
    "Input: numbers = [10, -5, 7, 8, -2]\n",
    "Output: 18\n",
    "\"\"\""
   ]
  },
  {
   "cell_type": "code",
   "execution_count": null,
   "id": "484c6814",
   "metadata": {},
   "outputs": [],
   "source": [
    "\"\"\"\n",
    "BEGIN\n",
    "\n",
    "    FUNCTION determine_sum(num_list)\n",
    "        SET sum TO 0\n",
    "        FOR EACH num IN num_list DO:\n",
    "            sum = sum + num\n",
    "        END FOR\n",
    "        RETURN sum\n",
    "    END FUNCTION\n",
    "\n",
    "    // MAIN PROGRAM\n",
    "    READ input_line\n",
    "    SPLIT input_line INTO num_list\n",
    "    CONVERT EACH element IN num_list TO INTEGER\n",
    "\n",
    "    SET result TO CALL determine_sum(num_list)\n",
    "    PRINT \"result\", result\n",
    "\n",
    "END\n",
    "\"\"\""
   ]
  },
  {
   "cell_type": "code",
   "execution_count": 24,
   "id": "261388cd",
   "metadata": {},
   "outputs": [
    {
     "name": "stdout",
     "output_type": "stream",
     "text": [
      "result 3\n"
     ]
    }
   ],
   "source": [
    "def determine_sum(num_list):\n",
    "    sum = 0\n",
    "    for num in num_list:\n",
    "        sum = sum + num\n",
    "    return sum\n",
    "num_list = list(map(int, input().split()))\n",
    "result = determine_sum(num_list)\n",
    "print(\"result\",result)"
   ]
  },
  {
   "cell_type": "markdown",
   "id": "990f7d88",
   "metadata": {},
   "source": [
    "# Problem Statement 7"
   ]
  },
  {
   "cell_type": "code",
   "execution_count": null,
   "id": "42f1f307",
   "metadata": {},
   "outputs": [],
   "source": [
    "\"\"\"\n",
    "Largest Element in a List\n",
    "Find the Largest Element in a List\n",
    "\n",
    "Write a Python function that finds and returns the largest element in a given list of integers.\n",
    "\n",
    "Parameters:\n",
    "\n",
    "numbers (List of integers): The input list containing integers.\n",
    "\n",
    "Returns:\n",
    "\n",
    "An integer representing the largest element in the input list.\n",
    "\n",
    "Example:\n",
    "\n",
    "Input: numbers = [3, 8, 2, 10, 5]\n",
    "Output: 10\n",
    "\n",
    "Input: numbers = [-5, -10, -2, -1, -7]\n",
    "Output: -1\n",
    "\"\"\""
   ]
  },
  {
   "cell_type": "code",
   "execution_count": null,
   "id": "e24ac015",
   "metadata": {},
   "outputs": [],
   "source": [
    "\"\"\"\n",
    "BEGIN \n",
    "\n",
    "    FUNCTION determine_largest_num(num_list):\n",
    "        SET LARGE_NUM =  num_list[0]\n",
    "        FOR EACH NUM IN num_list DO:\n",
    "            IF LARGE_NUM > NUM:\n",
    "                LARGE_NUM = NUM\n",
    "            END IF\n",
    "        END FOR\n",
    "        RETURN LARGE_NUM\n",
    "    END FUNCTION\n",
    "\n",
    "    \n",
    "    END FUNCTION\n",
    "    \n",
    "    // MAIN\n",
    "    \n",
    "    READ INPUT_LIST\n",
    "    ADD INPUT_LIST TO NUM_LIST AND CONVERT TO INTEGER TYPE \n",
    "    SET RESULT = CALL determine_largest_num(num_list)\n",
    "    PRINT RESULT\n",
    "\n",
    "END \n",
    "\"\"\""
   ]
  },
  {
   "cell_type": "code",
   "execution_count": 28,
   "id": "8cc1a9e7",
   "metadata": {},
   "outputs": [
    {
     "name": "stdout",
     "output_type": "stream",
     "text": [
      "3\n"
     ]
    }
   ],
   "source": [
    "def determine_largest_num(num_list:list)->int:\n",
    "    large_num = num_list[0]\n",
    "    for num in  num_list:\n",
    "        if num > large_num:\n",
    "            large_num = num\n",
    "    return large_num\n",
    "\n",
    "num_list = list(map(int,input().split()))\n",
    "result = determine_largest_num(num_list)\n",
    "print(result)"
   ]
  },
  {
   "cell_type": "markdown",
   "id": "f778620c",
   "metadata": {},
   "source": [
    "# Problem Statement 8"
   ]
  },
  {
   "cell_type": "code",
   "execution_count": null,
   "id": "110c1ee2",
   "metadata": {},
   "outputs": [],
   "source": [
    "\"\"\"\n",
    "Remove Duplicate in a List\n",
    "Remove Duplicates from a List\n",
    "\n",
    "You are given a list of integers. Write a Python program that removes any duplicate elements from the list and returns a new list with only unique elements. The order of elements in the list should be maintained.\n",
    "\n",
    "Parameters:\n",
    "\n",
    "lst (List of integers): The list of integers from which duplicates should be removed.\n",
    "\n",
    "Returns:\n",
    "\n",
    "A list of integers where all duplicates have been removed, preserving the original order.\n",
    "\n",
    "Example:\n",
    "\n",
    "Input: lst = [1, 2, 2, 3, 4, 4, 5]\n",
    "Output: [1, 2, 3, 4, 5]\n",
    "\n",
    "Input: lst = [4, 5, 5, 4, 6, 7]\n",
    "Output: [4, 5, 6, 7]\n",
    "\n",
    "\n",
    "Note :- Please don't use set or inbuilt functions. Try to use brute force logic.\n",
    "\n",
    "\"\"\""
   ]
  },
  {
   "cell_type": "code",
   "execution_count": null,
   "id": "24e81b69",
   "metadata": {},
   "outputs": [],
   "source": [
    "\"\"\"\n",
    "BEGIN\n",
    "    FUNCTION remove_duplicates(num_list):\n",
    "                SET RESULT = []\n",
    "                FOR EACH num in num_list:\n",
    "                    IF num not in RESULT:\n",
    "                        ADD num to RESULT\n",
    "                    END IF\n",
    "                RETURN RESULT\n",
    "                END FOR\n",
    "    END FUNCTION\n",
    "    \n",
    "    //MAIN\n",
    "    READ INPUT_LIST\n",
    "    SPLIT THE LIST AND ASSIGN TO NUM_LIST\n",
    "    CONVERT EACH ITEM TO INT IN NUM_LIST\n",
    "    \n",
    "    SET RESULT = CALL remove_duplicates(INPUT_LIST)\n",
    "    PRINT(RESULT) \n",
    "    \n",
    "END\n",
    "\"\"\""
   ]
  },
  {
   "cell_type": "code",
   "execution_count": 30,
   "id": "ac67f9f2",
   "metadata": {},
   "outputs": [
    {
     "name": "stdout",
     "output_type": "stream",
     "text": [
      "result [1, 2, 3]\n"
     ]
    }
   ],
   "source": [
    "def remove_duplicates(num_list:list)->list:\n",
    "    \"\"\"Provided a num_list of integers return the unique list\n",
    "    \n",
    "    Parameters\n",
    "    ----------\n",
    "        num_list: A list of numbers of int type\n",
    "    \n",
    "    Returns\n",
    "    -------\n",
    "        list : The unique list\n",
    "    \"\"\"    \n",
    "    \n",
    "    result = []\n",
    "    for num in num_list:\n",
    "        if num not in result:\n",
    "            result.append(num)\n",
    "    return result\n",
    "\n",
    "num_list = list(map(int,input().split()))     \n",
    "result  =  remove_duplicates(num_list)\n",
    "print(\"result\",result)"
   ]
  },
  {
   "cell_type": "markdown",
   "id": "f09cb254",
   "metadata": {},
   "source": [
    "# Problem Statement 9"
   ]
  },
  {
   "cell_type": "code",
   "execution_count": null,
   "id": "766d4de1",
   "metadata": {},
   "outputs": [],
   "source": [
    "\"\"\"\n",
    "Check if all elements in a list are Unique\n",
    "Check if All Elements in a List are Unique\n",
    "\n",
    "You are given a list of integers. Write a Python program that checks if all elements in the list are unique. If all elements are unique, return True; otherwise, return False.\n",
    "\n",
    "Parameters:\n",
    "\n",
    "lst (List of integers): The list of integers to check for uniqueness.\n",
    "\n",
    "Returns:\n",
    "\n",
    "A boolean value True if all elements in the list are unique, False otherwise.\n",
    "\n",
    "Example:\n",
    "\n",
    "Input: lst = [1, 2, 3, 4, 5]\n",
    "Output: True\n",
    "\n",
    "Input: lst = [1, 2, 3, 3, 4, 5]\n",
    "Output: False\n",
    "\n",
    "\"\"\""
   ]
  },
  {
   "cell_type": "code",
   "execution_count": null,
   "id": "b605929a",
   "metadata": {},
   "outputs": [
    {
     "data": {
      "text/plain": [
       "'\\nBEGIN\\n    FUNCTION determine_uniqueness(num_list):\\n                SET RESULT = []\\n                FOR EACH num in num_list:\\n                    IF num in RESULT:\\n                        return FALSE\\n                    ELSE:\\n                        ADD num to RESULT    \\n                END FOR \\n                RETURN TRUE\\n                \\nEND\\n'"
      ]
     },
     "execution_count": 32,
     "metadata": {},
     "output_type": "execute_result"
    }
   ],
   "source": [
    "\"\"\"\n",
    "BEGIN\n",
    "    FUNCTION determine_uniqueness(num_list):\n",
    "                SET RESULT = []\n",
    "                FOR EACH num in num_list:\n",
    "                    IF num in RESULT:\n",
    "                        return FALSE\n",
    "                    ELSE:\n",
    "                        ADD num to RESULT    \n",
    "                END FOR \n",
    "                RETURN TRUE\n",
    "    END FUNCTION\n",
    "    \n",
    "    //MAIN\n",
    "        READ INPUT_LIST\n",
    "        CONVERT INPUT_LIST TO INTEGER AND ASSIGN TO NUM_LIST\n",
    "        SET RESULT =  CALL determine_uniqueness(NUM_LIST)\n",
    "        PRINT(RESULT)\n",
    "                \n",
    "END\n",
    "\"\"\""
   ]
  },
  {
   "cell_type": "code",
   "execution_count": 35,
   "id": "1d1914b7",
   "metadata": {},
   "outputs": [
    {
     "name": "stdout",
     "output_type": "stream",
     "text": [
      "result True\n"
     ]
    }
   ],
   "source": [
    "def determine_uniqueness(num_list:list)->bool:\n",
    "    \"\"\"Determines the provided list is unique or not\n",
    "    Paramerters\n",
    "    -----------\n",
    "        num_list: list  A list of number of type int\n",
    "    Returns\n",
    "    -------\n",
    "        bool : If its unique it returns true else false \n",
    "    \"\"\"\n",
    "    result = []\n",
    "    for num in num_list:\n",
    "        if num in result:\n",
    "            return False\n",
    "        else:\n",
    "            result.append(num)\n",
    "    return  True\n",
    "num_list =  list(map(int,input().split()))\n",
    "result = determine_uniqueness(num_list)\n",
    "print(\"result\",result)\n"
   ]
  },
  {
   "cell_type": "markdown",
   "id": "326bf257",
   "metadata": {},
   "source": [
    "# Problem Statement 10"
   ]
  },
  {
   "cell_type": "code",
   "execution_count": null,
   "id": "0bd7ff10",
   "metadata": {},
   "outputs": [],
   "source": [
    "\"\"\"\n",
    "Program to Reverse a List\n",
    "Reverse a List (Non-Slicing Approach)\n",
    "\n",
    "You are given a list of integers. Write a Python program that reverses the list without using slicing (lst[::-1]). The program should return the reversed list.\n",
    "\n",
    "Parameters:\n",
    "\n",
    "lst (List of integers): The list of integers to be reversed.\n",
    "\n",
    "Returns:\n",
    "\n",
    "A list of integers where the order of elements is reversed from the input list.\n",
    "\n",
    "Example:\n",
    "\n",
    "Input: lst = [1, 2, 3, 4, 5]\n",
    "Output: [5, 4, 3, 2, 1]\n",
    "\"\"\""
   ]
  },
  {
   "cell_type": "code",
   "execution_count": null,
   "id": "ca7fc608",
   "metadata": {},
   "outputs": [
    {
     "data": {
      "text/plain": [
       "'\\nBEGIN\\n    FUNCTION reverse_the_list(num_list):\\n                SET RESULT = []\\n                for num FROM len(num_list)-1 to 0 DO:\\n                    ADD num_list[num] TP RESULT\\n                RETURN RESULT\\nEND\\n'"
      ]
     },
     "execution_count": 37,
     "metadata": {},
     "output_type": "execute_result"
    }
   ],
   "source": [
    "\"\"\"\n",
    "BEGIN\n",
    "    \n",
    "    FUNCTION reverse_the_list(num_list):\n",
    "                \n",
    "                SET RESULT = []\n",
    "                \n",
    "                for index FROM len(num_list)-1 to 0 DO:\n",
    "                    ADD num_list[index] TO RESULT\n",
    "                END FOR\n",
    "                \n",
    "                RETURN RESULT\n",
    "    END FUNCTION\n",
    "    \n",
    "    \n",
    "    //MAIN\n",
    "    \n",
    "    READ INPUT_LIST\n",
    "    CONVERT INPUT_LIST TO INT TYPE AND ASSIGN TO NUM_LIST\n",
    "    SET RESULT = CALL reverse_the_list(NUM_LIST)\n",
    "    PRINT(RESULT)\n",
    "    \n",
    "END\n",
    "\"\"\""
   ]
  },
  {
   "cell_type": "code",
   "execution_count": 40,
   "id": "5445299d",
   "metadata": {},
   "outputs": [
    {
     "name": "stdout",
     "output_type": "stream",
     "text": [
      "result [1, 2, 3]\n"
     ]
    }
   ],
   "source": [
    "def reverse_the_list(num_list:list)->list:\n",
    "    \"\"\"Given a list of numbers need to return in reverse order\n",
    "    \n",
    "    Paramerters\n",
    "    -----------\n",
    "        num_list:list This includes a list of integers\n",
    "    Returns\n",
    "    ---------\n",
    "        list: The reverse order list\n",
    "    \"\"\"\n",
    "    result = []\n",
    "    \n",
    "    for index in range(len(num_list)-1,-1,-1):\n",
    "        result.append(num_list[index])\n",
    "    return result\n",
    "\n",
    "num_list = list(map(int,input().split()))\n",
    "result =  reverse_the_list(num_list)\n",
    "print(\"result\",result)\n",
    "\n"
   ]
  },
  {
   "cell_type": "markdown",
   "id": "b2091890",
   "metadata": {},
   "source": [
    "# Problem Statement 11"
   ]
  },
  {
   "cell_type": "code",
   "execution_count": null,
   "id": "5277d6ef",
   "metadata": {},
   "outputs": [],
   "source": [
    "\"\"\"\n",
    "Count Number of Odd and Even Elements in a List\n",
    "Count Even and Odd Numbers in a List\n",
    "\n",
    "You are given a list of integers. Write a Python program that counts and returns the number of even and odd numbers in the list.\n",
    "\n",
    "Parameters:\n",
    "\n",
    "lst (List of integers): The list of integers where you will count the even and odd numbers.\n",
    "\n",
    "Returns:\n",
    "\n",
    "A tuple (even_count, odd_count) where even_count is the number of even numbers and odd_count is the number of odd numbers.\n",
    "\n",
    "Example:\n",
    "\n",
    "Input: lst = [1, 2, 3, 4, 5]\n",
    "Output: (2, 3)\n",
    "\n",
    "There are 2 even numbers: 2, 4\n",
    "\n",
    "There are 3 odd numbers: 1, 3, 5\n",
    "\"\"\""
   ]
  },
  {
   "cell_type": "code",
   "execution_count": null,
   "id": "da5ff0da",
   "metadata": {},
   "outputs": [],
   "source": [
    "\"\"\"\n",
    "BEGIN\n",
    "    \n",
    "    FUNCTION count_even_odd(num_list):\n",
    "                SET EVEN_C = 0\n",
    "                SET ODD_C = 0\n",
    "                \n",
    "                FOR EACH num in num_list DO:\n",
    "                    IF num%2 ==0 :\n",
    "                        EVEN_C + = 1\n",
    "                    ELSE:\n",
    "                        ODD_C + = 1\n",
    "                END FOR\n",
    "                \n",
    "                RETURN (EVEN_C,ODD_C)\n",
    "    END FUNCTION\n",
    "    \n",
    "    //MAIN\n",
    "        READ INPUT_LIST\n",
    "        CONVERT INPUT_LIST DATA TO INT TYPE AND ASSIGN TO NUM_LIST\n",
    "        SET RESULT = count_even_odd(NUM_LIST)\n",
    "        PRINT RESULT\n",
    "                \n",
    "END\n",
    "\"\"\""
   ]
  },
  {
   "cell_type": "code",
   "execution_count": 43,
   "id": "8697c738",
   "metadata": {},
   "outputs": [
    {
     "name": "stdout",
     "output_type": "stream",
     "text": [
      "result (2, 2)\n"
     ]
    }
   ],
   "source": [
    "def count_even_odd(num_list:list)->tuple:\n",
    "    \"\"\"Determines the count of even and odd in the given list of numbers\n",
    "    \n",
    "        Parameters:\n",
    "        ----------\n",
    "            num_list:list The list of numbers of int type\n",
    "        Returns:\n",
    "        --------\n",
    "            It returns a tuple of even_count and odd_count\n",
    "    \"\"\"\n",
    "    \n",
    "    odd_c = 0\n",
    "    even_c = 0\n",
    "    for num in num_list:\n",
    "        if num % 2 == 0:\n",
    "            even_c = even_c + 1 \n",
    "        else:\n",
    "            odd_c = odd_c + 1\n",
    "    return (even_c,odd_c,)   \n",
    "    \n",
    "    \n",
    "num_list =  list(map(int,input().split()))\n",
    "result = count_even_odd(num_list)\n",
    "print(\"result\",result)"
   ]
  },
  {
   "cell_type": "markdown",
   "id": "41d136d6",
   "metadata": {},
   "source": [
    "# Problem Statement 12"
   ]
  },
  {
   "cell_type": "code",
   "execution_count": null,
   "id": "999d565b",
   "metadata": {},
   "outputs": [],
   "source": [
    "\"\"\"\n",
    "Maximum difference between two consecutive elements in a list.\n",
    "Find Maximum Difference Between Two Consecutive Elements (Brute Force Approach)\n",
    "\n",
    "You are given a list of integers. Write a Python program to find the maximum difference between two consecutive elements in the list using a brute-force approach. The difference is defined as the absolute value of the difference between two consecutive elements.\n",
    "\n",
    "Parameters:\n",
    "\n",
    "lst (List of integers): A list of integers.\n",
    "\n",
    "Returns:\n",
    "\n",
    "An integer representing the maximum difference between two consecutive elements.\n",
    "\n",
    "Example:\n",
    "\n",
    "Input: lst = [1, 7, 3, 10, 5]\n",
    "Output: 7\n",
    "\n",
    "The maximum difference is between 3 and 10 (i.e., |3 - 10| = 7).\n",
    "\n",
    "Input: lst = [10, 11, 15, 3]\n",
    "Output: 12\n",
    "\n",
    "The maximum difference is between 15 and 3 (i.e., |15 - 3| = 12).\n",
    "\"\"\""
   ]
  },
  {
   "cell_type": "code",
   "execution_count": null,
   "id": "77d3ca95",
   "metadata": {},
   "outputs": [],
   "source": [
    "\"\"\"\n",
    "BEGIN\n",
    "    \n",
    "    FUNCTION determine_abs_max_diff(num_list):\n",
    "            IF num_list and len(num_list)>1:\n",
    "                \n",
    "                SET element = num_list[0]\n",
    "                SET high = 0\n",
    "                \n",
    "                FOR index FROM 1 to LEN(num_list):\n",
    "                    \n",
    "                    diff = temp-element\n",
    "                    \n",
    "                    if diff < 0:\n",
    "                    \n",
    "                        diff = diff * -1\n",
    "                    \n",
    "                    END IF \n",
    "                    \n",
    "                    if diff > high:\n",
    "                    \n",
    "                        high = diff\n",
    "                    \n",
    "                    END IF\n",
    "                    \n",
    "                    element = num_list[index]\n",
    "                    \n",
    "                RETURN high        \n",
    "\n",
    "            ELIF len(num_list) == 1:\n",
    "            \n",
    "                RETURN num_list[0]\n",
    "            \n",
    "            ELSE:\n",
    "            \n",
    "                RETURN -1\n",
    "                \n",
    "    END FUNCTION\n",
    "    \n",
    "    //MAIN\n",
    "        num_list -- ADD INPUT LIST and READ IT CONVERT IT INTO INT TYPE DATA \n",
    "        SET result  = call determine_abs_max_diff(num_list)\n",
    "        PRINT result\n",
    "    \n",
    "END\n",
    "\"\"\""
   ]
  },
  {
   "cell_type": "code",
   "execution_count": 46,
   "id": "b7f0f64f",
   "metadata": {},
   "outputs": [
    {
     "name": "stdout",
     "output_type": "stream",
     "text": [
      "7\n"
     ]
    }
   ],
   "source": [
    "def determine_abs_max_diff(num_list: list)->int:\n",
    "    \"\"\"Determines the abs between the numbers and returns the highest difference\n",
    "    \n",
    "    Parameters\n",
    "    ----------\n",
    "        num_list:list = A list of integers of type int\n",
    "    \n",
    "    Returns\n",
    "    --------  \n",
    "        int: This returns the highest difference between 2 consequtive numbers\n",
    "    \"\"\"\n",
    "    if len(num_list) > 1:\n",
    "        element = num_list[0]\n",
    "        high = 0\n",
    "        for index in range(1,len(num_list)):\n",
    "            \n",
    "            diff =  num_list[index] - element\n",
    "            \n",
    "            if diff < 0 :\n",
    "                diff = diff * -1\n",
    "            \n",
    "            if diff > high:\n",
    "                high = diff\n",
    "            \n",
    "            element = num_list[index]\n",
    "            \n",
    "        return high\n",
    "            \n",
    "    elif len(num_list) == 1:\n",
    "        return num_list[0]\n",
    "    else:\n",
    "        return -1\n",
    "\n",
    "num_list = list(map(int,input().split()))\n",
    "\n",
    "result = determine_abs_max_diff(num_list)\n",
    "\n",
    "print(result)"
   ]
  },
  {
   "cell_type": "markdown",
   "id": "d20661ac",
   "metadata": {},
   "source": [
    "# Problem Statement 13"
   ]
  },
  {
   "cell_type": "code",
   "execution_count": null,
   "id": "70fdcc76",
   "metadata": {},
   "outputs": [],
   "source": [
    "\"\"\"\n",
    "Merge Two Sorted Lists\n",
    "\n",
    "You are given two sorted lists of integers. Write a Python function to merge these two sorted lists into one sorted list. The resulting list should also be in non-decreasing order.\n",
    "\n",
    "Parameters:\n",
    "\n",
    "list1 (List of integers): The first sorted list.\n",
    "\n",
    "list2 (List of integers): The second sorted list.\n",
    "\n",
    "Returns:\n",
    "\n",
    "A single list of integers, containing all elements from list1 and list2, sorted in non-decreasing order.\n",
    "\n",
    "Example:\n",
    "\n",
    "Input: list1 = [1, 3, 5], list2 = [2, 4, 6]\n",
    "Output: [1, 2, 3, 4, 5, 6]\n",
    "\n",
    "Input: list1 = [1, 4, 7], list2 = [2, 3, 5, 8]\n",
    "Output: [1, 2, 3, 4, 5, 7, 8]\n",
    "\"\"\""
   ]
  },
  {
   "cell_type": "code",
   "execution_count": null,
   "id": "60484a8e",
   "metadata": {},
   "outputs": [
    {
     "data": {
      "text/plain": [
       "'\\nBEGIN\\n\\n    FUNCTION call_merge_two_sorted_lists(lst1, lst2):\\n        \\n    END FUNCTION\\n    \\n    FUNCTION call_bubble_sort(lst):\\n                FOR i FROM 0 to len(lst) DO:\\n                    SET SWAP = FALSE\\n                    FOR j FROM 0 to len(lst)-1-i DO:\\n    END FUNCTION\\n    \\n    //MAIN\\n    Read the Data list of Type INT assign it to lst1\\n    Read the Data list of Type INT assign it to lst2\\n    SET result = call call_merge_two_sorted_lists(lst1, lst2)\\n    PRINT result\\n    \\n\\nEND\\n'"
      ]
     },
     "execution_count": 48,
     "metadata": {},
     "output_type": "execute_result"
    }
   ],
   "source": [
    "\"\"\"\n",
    "BEGIN\n",
    "\n",
    "    FUNCTION call_merge_two_sorted_lists(lst1, lst2):\n",
    "    \n",
    "                lst1 =  call_bubble_sort(lst1)\n",
    "                lst2 =  call_bubble_sort(lst2)\n",
    "                \n",
    "                RETURN lst1.extend(lst2)\n",
    "                \n",
    "    END FUNCTION\n",
    "    \n",
    "    FUNCTION call_bubble_sort(lst):\n",
    "                FOR i FROM 0 to len(lst) DO:\n",
    "                    SET SWAP = FALSE\n",
    "                    FOR j FROM 0 to len(lst)-1-i DO:\n",
    "                    \n",
    "                        IF lst[j] > lst[j+1]:\n",
    "                            lst[j],lst[j+1] = lst[j+1],lst[j]\n",
    "                            SWAP = TRUE\n",
    "                        END IF\n",
    "                    \n",
    "                    IF NOT SWAP:\n",
    "                        BREAK\n",
    "                RETURN lst\n",
    "                        \n",
    "    END FUNCTION\n",
    "    \n",
    "    //MAIN\n",
    "    Read the Data list of Type INT assign it to lst1\n",
    "    Read the Data list of Type INT assign it to lst2\n",
    "    SET result = call call_merge_two_sorted_lists(lst1, lst2)\n",
    "    PRINT result\n",
    "    \n",
    "\n",
    "END\n",
    "\"\"\""
   ]
  },
  {
   "cell_type": "code",
   "execution_count": null,
   "id": "990264cc",
   "metadata": {},
   "outputs": [
    {
     "name": "stdout",
     "output_type": "stream",
     "text": [
      "lst1 [1, 2, 3]\n",
      "lst2 [1, 2, 3]\n",
      "[1, 2, 3, 1, 2, 3]\n"
     ]
    }
   ],
   "source": [
    "def merge_sorted_list(lst1:list, lst2:list )->list:\n",
    "    \"\"\"Sorts the 2 lists and extends the Final result\n",
    "    Parameters\n",
    "    ----------\n",
    "        lst1: List of type integers\n",
    "        lst2: List of type integers\n",
    "    Returns\n",
    "    --------\n",
    "        list : Returns the final sorted list\n",
    "    \"\"\"\n",
    "    \n",
    "    lst1.extend(lst2)\n",
    "    \n",
    "    lst1 = call_bubble_sort(lst1)\n",
    "    \n",
    "    return lst1\n",
    "\n",
    "def call_bubble_sort(arr):\n",
    "    \"\"\"\n",
    "    Reads the list of integers and sorts them\n",
    "    \n",
    "    Parameters\n",
    "    -----------\n",
    "        arr:list A list of Intergers type \n",
    "    \n",
    "    Returns\n",
    "    ---------\n",
    "        list: A Sorted list\n",
    "    \"\"\"\n",
    "    for i in range(len(arr)):\n",
    "        swap = False\n",
    "        for j in range(len(arr)-1-i):\n",
    "            if arr[j] > arr[j+1]:\n",
    "                arr[j],arr[j+1]  = arr[j+1],arr[j]\n",
    "                swap = True\n",
    "        if swap == False:\n",
    "            break\n",
    "            \n",
    "    return arr      \n",
    "lst1 = list(map(int,input().split()))\n",
    "lst2 = list(map(int,input().split()))\n",
    "arr = merge_sorted_list(lst1,lst2)\n",
    "print(arr)\n"
   ]
  },
  {
   "cell_type": "markdown",
   "id": "f860e813",
   "metadata": {},
   "source": [
    "# Problem Statement 14"
   ]
  },
  {
   "cell_type": "code",
   "execution_count": null,
   "id": "789673e5",
   "metadata": {},
   "outputs": [],
   "source": [
    "\"\"\"\n",
    "Rotate a List\n",
    "Rotate a List (Without Slicing)\n",
    "\n",
    "You are given a list of integers and an integer k. Write a Python function to rotate the list to the right by k positions without using slicing. A rotation shifts elements from the end of the list to the front.\n",
    "\n",
    "Parameters:\n",
    "\n",
    "lst (List of integers): The list to be rotated.\n",
    "\n",
    "k (Integer): The number of positions to rotate the list.\n",
    "\n",
    "Returns:\n",
    "\n",
    "A list of integers rotated by k positions.\n",
    "\n",
    "Example:\n",
    "\n",
    "Input: lst = [1, 2, 3, 4, 5], k = 2\n",
    "Output: [4, 5, 1, 2, 3]\n",
    "\n",
    "Input: lst = [10, 20, 30, 40, 50], k = 3\n",
    "Output: [30, 40, 50, 10, 20]\n",
    "\"\"\""
   ]
  },
  {
   "cell_type": "code",
   "execution_count": null,
   "id": "3e5f0743",
   "metadata": {},
   "outputs": [
    {
     "data": {
      "text/plain": [
       "'\\nBEGIN\\n      \\n    FUNCTION call_arr_rotation(lst,k)\\n                FOR rot FROM 0 to k DO:\\n\\n    END FUNCTION\\n    \\n    // MAIN\\n    \\n    READ lst\\n    READ k\\n    \\n    SET RESULT =  call call_arr_rotation(lst,k)\\n    \\n    PRINT RESULT\\n\\nEND\\n'"
      ]
     },
     "execution_count": 1,
     "metadata": {},
     "output_type": "execute_result"
    }
   ],
   "source": [
    "\"\"\"\n",
    "BEGIN\n",
    "      \n",
    "    FUNCTION call_arr_rotation(lst,k):\n",
    "                \n",
    "                k = k % n\n",
    "                \n",
    "                FOR i FROM 0 to k:\n",
    "                    element  = lst.pop()\n",
    "                    lst.insert(element,0)\n",
    "                RETURN lst\n",
    "                \n",
    "    END FUNCTION\n",
    "    \n",
    "    // MAIN\n",
    "    \n",
    "    READ lst\n",
    "    READ k\n",
    "    \n",
    "    SET RESULT =  call call_arr_rotation(lst,k)\n",
    "    \n",
    "    PRINT RESULT\n",
    "\n",
    "END\n",
    "\"\"\""
   ]
  },
  {
   "cell_type": "code",
   "execution_count": 2,
   "id": "12aaa595",
   "metadata": {},
   "outputs": [
    {
     "name": "stdout",
     "output_type": "stream",
     "text": [
      "[3, 4, 5, 1, 2]\n"
     ]
    }
   ],
   "source": [
    "lst = [1,2,3,4,5]\n",
    "k =  3\n",
    "def call_arr_rotation(lst, k):\n",
    "    \"\"\"Determines the rotation of the array\n",
    "        \n",
    "    Parameters\n",
    "    ----------\n",
    "        - lst: list array of numbers\n",
    "        - k: rotation number\n",
    "    \n",
    "    Returns\n",
    "    --------\n",
    "        - The rotated array\n",
    "    \"\"\"\n",
    "    k =  k % len(lst)\n",
    "    \n",
    "    for i in range(k):\n",
    "        element = lst.pop()\n",
    "        lst.insert(0,element)\n",
    "    return lst\n",
    "\n",
    "result  = call_arr_rotation(lst,k)\n",
    "print(result)"
   ]
  },
  {
   "cell_type": "markdown",
   "id": "0996aa75",
   "metadata": {},
   "source": [
    "# Problem Statement 15 "
   ]
  },
  {
   "cell_type": "code",
   "execution_count": null,
   "id": "5c7b121e",
   "metadata": {},
   "outputs": [],
   "source": [
    "\"\"\"\n",
    "Merge 2 List into Dictionary\n",
    "Merge Lists to Dictionary\n",
    "\n",
    "Design a Python function named merge_lists_to_dictionary to merge two lists into a dictionary where elements from the first list act as keys and elements from the second list act as values.\n",
    "\n",
    "Parameters:\n",
    "\n",
    "keys (List): A list of keys.\n",
    "\n",
    "values (List): A list of values.\n",
    "\n",
    "Returns:\n",
    "\n",
    "A dictionary containing merged key-value pairs.\n",
    "\n",
    "Example:\n",
    "\n",
    "Input: keys = ['a', 'b', 'c'], values = [1, 2, 3]\n",
    "Output: {'a': 1, 'b': 2, 'c': 3}\n",
    "\n",
    "Input: keys = ['x', 'y', 'z'], values = [10, 20, 30]\n",
    "Output: {'x': 10, 'y': 20, 'z': 30}\n",
    "\n",
    "\n",
    "\"\"\""
   ]
  },
  {
   "cell_type": "code",
   "execution_count": null,
   "id": "217fae97",
   "metadata": {},
   "outputs": [],
   "source": [
    "\"\"\"\n",
    "BEGIN\n",
    "    \n",
    "    FUNCTION make_dictionary(lst1,lst2)\n",
    "                RETURN dict(zip(lst1,lst2))\n",
    "    END FUNCTION\n",
    "    \n",
    "    //MAIN\n",
    "        READ lst1 , lst2\n",
    "        SET result  = make_dictionary(lst1, lst2)\n",
    "        PRINT result\n",
    "    \n",
    "END\n",
    "\"\"\""
   ]
  },
  {
   "cell_type": "code",
   "execution_count": 5,
   "id": "1165cac9",
   "metadata": {},
   "outputs": [
    {
     "name": "stdout",
     "output_type": "stream",
     "text": [
      "Result {1: 4, 2: 5, 3: 6}\n"
     ]
    }
   ],
   "source": [
    "lst1 = list(map(int,input().split()))\n",
    "lst2 = list(map(int,input().split()))\n",
    "\n",
    "def make_dictionary(lst1:list,lst2:list)->dict[str,str]:\n",
    "    \"\"\"\n",
    "    Combines the list and Returns a dict\n",
    "    \n",
    "    Args:\n",
    "        lst1: A list of data\n",
    "        lst2: A list of data\n",
    "    \n",
    "    Returns:\n",
    "        -A dict where the lists are combined\n",
    "    \"\"\"\n",
    "    return dict(zip(lst1,lst2))\n",
    "\n",
    "result = make_dictionary(lst1, lst2)\n",
    "print(\"Result\",result)  \n"
   ]
  },
  {
   "cell_type": "markdown",
   "id": "d7b9ae94",
   "metadata": {},
   "source": [
    "# Problem Statement 16"
   ]
  },
  {
   "cell_type": "code",
   "execution_count": null,
   "id": "e9f9d621",
   "metadata": {},
   "outputs": [],
   "source": [
    "\"\"\"\n",
    "Merge Three Dictionaries\n",
    "\n",
    "Design a Python function named merge_three_dictionaries to merge exactly three dictionaries into one.\n",
    "\n",
    "Parameters:\n",
    "\n",
    "dict1 (Dictionary): The first dictionary to be merged.\n",
    "\n",
    "dict2 (Dictionary): The second dictionary to be merged.\n",
    "\n",
    "dict3 (Dictionary): The third dictionary to be merged.\n",
    "\n",
    "Returns:\n",
    "\n",
    "A single dictionary containing all key-value pairs from the three input dictionaries.\n",
    "\n",
    "Example:\n",
    "\n",
    "Input: ({'a': 1, 'b': 2}, {'c': 3, 'd': 4}, {'e': 5, 'f': 6})\n",
    "Output: {'a': 1, 'b': 2, 'c': 3, 'd': 4, 'e': 5, 'f': 6}\n",
    "\n",
    "Input: ({'x': 10, 'y': 20}, {'z': 30}, {'a': 40, 'b': 50})\n",
    "Output: {'x': 10, 'y': 20, 'z': 30, 'a': 40, 'b': 50}\n",
    "\"\"\""
   ]
  },
  {
   "cell_type": "code",
   "execution_count": null,
   "id": "53411e9e",
   "metadata": {},
   "outputs": [],
   "source": [
    "\"\"\"\n",
    "BEGIN\n",
    "    FUNCTION merge_dictionaries(dict1, dict2, dict3):\n",
    "        dict1.update(dict2)\n",
    "        dict1.update(dict3)\n",
    "        RETURN dict\n",
    "    END FUNCTION\n",
    "END\n",
    "\"\"\""
   ]
  },
  {
   "cell_type": "code",
   "execution_count": 9,
   "id": "426d35e1",
   "metadata": {},
   "outputs": [
    {
     "name": "stdout",
     "output_type": "stream",
     "text": [
      "result {'1': 1, '2': 2, '3': 3, '4': 4, '5': 5, '6': 6, '7': 7, '8': 8, '9': 9}\n"
     ]
    }
   ],
   "source": [
    "dict_1  = {\"1\":1,\"2\":2,\"3\":3}\n",
    "dict_2  = {\"4\":4,\"5\":5,\"6\":6}\n",
    "dict_3  = {\"7\":7,\"8\":8,\"9\":9}\n",
    "\n",
    "def merge_dictionaries(dict1:dict, dict2:dict, dict3:dict)->dict:\n",
    "    \"\"\"\n",
    "    Merges dictionaries and Returns the final dictionary\n",
    "    \n",
    "    Args:\n",
    "        dict1: A dictionary of elements\n",
    "        dict2: A dictionary of elements\n",
    "        dict3: A dictionary of elements\n",
    "    \n",
    "    Returns:\n",
    "        Returns a final dictionary\n",
    "    \"\"\"\n",
    "    dict1.update(dict2)\n",
    "    dict1.update(dict3)\n",
    "    return dict1\n",
    "\n",
    "result  = merge_dictionaries(dict_1,dict_2,dict_3)\n",
    "print(\"result\",result)\n",
    "    \n"
   ]
  },
  {
   "cell_type": "markdown",
   "id": "c7b484c8",
   "metadata": {},
   "source": [
    "# Problem Statement 17"
   ]
  },
  {
   "cell_type": "code",
   "execution_count": null,
   "id": "9e806509",
   "metadata": {},
   "outputs": [],
   "source": [
    "\"\"\"\n",
    "Words Frequency in a Sentence\n",
    "Count Word Frequency\n",
    "\n",
    "Design a Python function named count_word_frequency to count the frequency of words in a sentence and store the counts in a dictionary.\n",
    "\n",
    "Parameters:\n",
    "\n",
    "sentence (str): The input sentence where you need to count the frequency of each word.\n",
    "\n",
    "Returns:\n",
    "\n",
    "A dictionary where the keys are words from the sentence and the values are their corresponding frequencies.\n",
    "\n",
    "Example:\n",
    "\n",
    "Input: \"hello world hello\"\n",
    "Output: {'hello': 2, 'world': 1}\n",
    "\n",
    "Input: \"the quick brown fox jumps over the lazy dog\"\n",
    "Output: {'the': 2, 'quick': 1, 'brown': 1, 'fox': 1, 'jumps': 1, 'over': 1, 'lazy': 1, 'dog': 1}\n",
    "\"\"\""
   ]
  },
  {
   "cell_type": "code",
   "execution_count": 11,
   "id": "b2aca156",
   "metadata": {},
   "outputs": [
    {
     "data": {
      "text/plain": [
       "'\\nBEGIN\\n\\n    FUNCTION count_words(paragraph:str):\\n                SET words =  paragraph.split()\\n                SET result = {}\\n                IF word in words:\\n                    IF word in result:\\n                        result[word] +=1\\n                    ELSE\\n                        result[word]=1\\n                END IF\\n            RETURN result\\n    \\n    END FUNCTION\\n    \\n    //MAIN\\n    READ paragraph\\n    SET result  =  call count_words(paragraph)\\n    PRINT result\\n                    \\n\\nEND\\n'"
      ]
     },
     "execution_count": 11,
     "metadata": {},
     "output_type": "execute_result"
    }
   ],
   "source": [
    "\"\"\"\n",
    "BEGIN\n",
    "\n",
    "    FUNCTION count_words(paragraph:str):\n",
    "                SET words =  paragraph.split()\n",
    "                SET result = {}\n",
    "                IF word in words:\n",
    "                    IF word in result:\n",
    "                        result[word] +=1\n",
    "                    ELSE\n",
    "                        result[word]=1\n",
    "                END IF\n",
    "            RETURN result\n",
    "    \n",
    "    END FUNCTION\n",
    "    \n",
    "    //MAIN\n",
    "    READ paragraph\n",
    "    SET result  =  call count_words(paragraph)\n",
    "    PRINT result\n",
    "                    \n",
    "\n",
    "END\n",
    "\"\"\""
   ]
  },
  {
   "cell_type": "code",
   "execution_count": 14,
   "id": "eedd3f4b",
   "metadata": {},
   "outputs": [
    {
     "name": "stdout",
     "output_type": "stream",
     "text": [
      "Result {'he': 1, 'quick': 1, 'brown': 1, 'fox': 1, 'jumps': 1, 'over': 1, 'the': 1, 'lazy': 1, 'dog': 1}\n"
     ]
    }
   ],
   "source": [
    "\n",
    "paragraph  = \"he quick brown fox jumps over the lazy dog\"\n",
    "def count_words(paragraph:str)->dict:\n",
    "    \"\"\"\n",
    "    Count the number of words and returns the result\n",
    "    Args:\n",
    "        paragraph:str The str data either a sentence or parapgraph\n",
    "    Returns:\n",
    "        dict - Returns the words and their counts\n",
    "    \"\"\"\n",
    "    words = paragraph.split()\n",
    "    result = {}\n",
    "    for word in words:\n",
    "        if word in result:\n",
    "            result[word]+=1\n",
    "        else:\n",
    "            result[word]=1\n",
    "    return result\n",
    "\n",
    "result = count_words(paragraph)\n",
    "print(\"Result\",result)"
   ]
  },
  {
   "cell_type": "markdown",
   "id": "b3dafbaa",
   "metadata": {},
   "source": [
    "# Problem Statement 18"
   ]
  },
  {
   "cell_type": "code",
   "execution_count": null,
   "id": "43d3aa1c",
   "metadata": {},
   "outputs": [],
   "source": [
    "\"\"\"\n",
    "Palindromic Tuple\n",
    "Check if Tuple is Palindromic\n",
    "\n",
    "Design a Python function named is_palindromic_tuple to check if a tuple is palindromic, meaning it reads the same forwards and backwards.\n",
    "\n",
    "Parameters:\n",
    "\n",
    "tup (tuple): The input tuple that you need to check for palindromic property.\n",
    "\n",
    "Returns:\n",
    "\n",
    "True if the tuple is palindromic, False otherwise.\n",
    "\n",
    "Example:\n",
    "\n",
    "Input: (1, 2, 3, 2, 1)\n",
    "Output: True\n",
    "\n",
    "Input: ('a', 'b', 'c', 'b', 'a')\n",
    "Output: True\n",
    "\n",
    "Input: (1, 2, 3, 4, 5)\n",
    "Output: False\n",
    "\n",
    "Input: ('x', 'y', 'z', 'x')\n",
    "Output: False\n",
    "\n",
    "Input: ('a',)\n",
    "Output: True\n",
    "\"\"\""
   ]
  },
  {
   "cell_type": "code",
   "execution_count": null,
   "id": "ed37136d",
   "metadata": {},
   "outputs": [],
   "source": [
    "\"\"\"\n",
    "BEGIN\n",
    "\n",
    "    FUNCTION check_pallindrome_tuple(tup):\n",
    "                RETURN tup == tup[::-1]\n",
    "    END FUNCTION\n",
    "    \n",
    "    //MAIN\n",
    "        READ tup\n",
    "        SET result =check_pallindrome_tuple(tup)\n",
    "        PRINT result\n",
    "END\n",
    "\"\"\""
   ]
  },
  {
   "cell_type": "code",
   "execution_count": 16,
   "id": "5027faba",
   "metadata": {},
   "outputs": [
    {
     "name": "stdout",
     "output_type": "stream",
     "text": [
      "result False\n"
     ]
    }
   ],
   "source": [
    "def check_pallindrome_tuple(tup:tuple):\n",
    "    \"\"\"\n",
    "    Given a Tuple need to check if the elements in it are in a pallindrome sequence\n",
    "    Args:\n",
    "        tup: A tuple containing elements\n",
    "    Returns:\n",
    "        bool: True/False\n",
    "    \"\"\"\n",
    "    return tup ==  tup[::-1]\n",
    "\n",
    "tup = (1,2,3)\n",
    "result = check_pallindrome_tuple(tup)\n",
    "print(\"result\",result)\n"
   ]
  },
  {
   "cell_type": "markdown",
   "id": "1bb8e5c0",
   "metadata": {},
   "source": [
    "# Problem Statement 19"
   ]
  },
  {
   "cell_type": "code",
   "execution_count": null,
   "id": "0338463f",
   "metadata": {},
   "outputs": [],
   "source": [
    "\"\"\"\n",
    "Merge Dictionaries with Common Keys\n",
    "Problem Description\n",
    "\n",
    "Merge Dictionaries with Overlapping Keys\n",
    "\n",
    "Design a Python function named merge_dicts_with_overlapping_keys that merges multiple dictionaries into a single dictionary. If a key appears in more than one dictionary, sum up their values.\n",
    "\n",
    "Parameters:\n",
    "\n",
    "dicts (list): A list of dictionaries where keys might overlap.\n",
    "\n",
    "Returns:\n",
    "\n",
    "A single dictionary where values for overlapping keys are summed.\n",
    "\n",
    "Example:\n",
    "\n",
    "Input: [{'a': 1, 'b': 2}, {'b': 3, 'c': 4}, {'c': 5, 'd': 6}]\n",
    "Output: {'a': 1, 'b': 5, 'c': 9, 'd': 6}\n",
    "\n",
    "Input: [{'x': 10, 'y': 20}, {'y': 30, 'z': 40}, {'z': 50, 'x': 60}]\n",
    "Output: {'x': 70, 'y': 50, 'z': 90}\n",
    "\"\"\""
   ]
  },
  {
   "cell_type": "code",
   "execution_count": null,
   "id": "5ccd3349",
   "metadata": {},
   "outputs": [],
   "source": [
    "\"\"\"\n",
    "BEGIN\n",
    "    FUNCTION build_dictionary(lst_dicts:list[dict,...]):\n",
    "                SET result = {}\n",
    "                FOR EACH dct in lst_dicts:\n",
    "                    FOR key,value in dct:\n",
    "                        if key not in result:\n",
    "                            result[key]=value\n",
    "                        else:\n",
    "                            result[key] = result[value] + value\n",
    "                    END FOR\n",
    "                END FOR\n",
    "                RETURN RESULT\n",
    "END\n",
    "\"\"\""
   ]
  },
  {
   "cell_type": "code",
   "execution_count": 21,
   "id": "13383f63",
   "metadata": {},
   "outputs": [
    {
     "name": "stdout",
     "output_type": "stream",
     "text": [
      "Result {'1': 3, '2': 2}\n"
     ]
    }
   ],
   "source": [
    "lst_dcts = [{\"1\":1},{\"2\":2,\"1\":2}]\n",
    "\n",
    "def build_dictionary(lst_dcts:list[dict]):\n",
    "    \"\"\"\n",
    "    Given a list of dictionaries it needs to sum up the values if key exists else append the data\n",
    "    Args:\n",
    "        lst_dcts: A list of dictionaries\n",
    "    Returns:\n",
    "        result:dict A dictionary of final result\n",
    "    \"\"\"\n",
    "    result = {}\n",
    "    for dct in lst_dcts:\n",
    "        for key,value in dct.items():\n",
    "            if key in result:\n",
    "                result[key] = result[key]+value\n",
    "            else:\n",
    "                result[key]=value\n",
    "    return result\n",
    "\n",
    "result = build_dictionary(lst_dcts)\n",
    "print(\"Result\",result)"
   ]
  },
  {
   "cell_type": "markdown",
   "id": "03e9a00d",
   "metadata": {},
   "source": [
    "# Problem Statement 20"
   ]
  },
  {
   "cell_type": "code",
   "execution_count": null,
   "id": "4786da0c",
   "metadata": {},
   "outputs": [],
   "source": [
    "\"\"\"\n",
    "Check if List is Subset of another List\n",
    "Check if a List is a Subset of Another List (Brute Force Approach)\n",
    "\n",
    "You are given two lists of integers. Write a Python program that checks whether the first list is a subset of the second list using a brute-force approach, without using the in keyword. A list is considered a subset if all elements of the first list are present in the second list.\n",
    "\n",
    "Parameters:\n",
    "\n",
    "lst1 (List of integers): The first list, which is being checked as a subset.\n",
    "\n",
    "lst2 (List of integers): The second list, which is the list to compare against.\n",
    "\n",
    "Returns:\n",
    "\n",
    "A boolean value True if lst1 is a subset of lst2, otherwise False.\n",
    "\n",
    "Example:\n",
    "\n",
    "Input: lst1 = [1, 2, 3], lst2 = [1, 2, 3, 4, 5]\n",
    "Output: True\n",
    "\n",
    "All elements in lst1 are present in lst2.\n",
    "\n",
    "Input: lst1 = [1, 6], lst2 = [1, 2, 3, 4, 5]\n",
    "Output: False\n",
    "\n",
    "The element 6 is not present in lst2.\n",
    "\"\"\""
   ]
  },
  {
   "cell_type": "code",
   "execution_count": null,
   "id": "85aa0a4f",
   "metadata": {},
   "outputs": [],
   "source": [
    "\"\"\"\n",
    "BEGIN\n",
    "    FUNCTION validate_the_subset(sub_set,lst):\n",
    "                SET pos = 0\n",
    "                \n",
    "                FOR index FROM 0 to len(lst)-1 DO:\n",
    "                    \n",
    "                    IF lst[index] == sub_set[pos]:\n",
    "                        pos = pos + 1\n",
    "                    ELSE:\n",
    "                        pos = 0\n",
    "                    \n",
    "                    IF pos  == len(sub_set) - 1:\n",
    "                        RETURN TRUE\n",
    "\n",
    "                END FOR\n",
    "            RETURN FALSE\n",
    "\n",
    "    END FUNCTION\n",
    "    \n",
    "    // MAIN\n",
    "    READ sub_set,lst\n",
    "    SET RESULT = call validate_the_subset(sub_set,lst)\n",
    "    PRINT RESULT\n",
    "END\n",
    "\"\"\""
   ]
  },
  {
   "cell_type": "code",
   "execution_count": null,
   "id": "7c1c68c9",
   "metadata": {},
   "outputs": [
    {
     "name": "stdout",
     "output_type": "stream",
     "text": [
      "False\n"
     ]
    }
   ],
   "source": [
    "def validate_the_subset(sub_set:list, lst:list)->bool:\n",
    "    \"\"\"\n",
    "    Determines the sublist present in main list or not\n",
    "    Args:\n",
    "        sub_set :- its a subset or a list of data\n",
    "        lst \":- The main list\n",
    "    Returns:\n",
    "        bool\n",
    "    \"\"\"\n",
    "    pos = 0\n",
    "    for index in range(len(lst)):\n",
    "        if lst[index] == sub_set[pos]:\n",
    "            pos = pos + 1\n",
    "        else:\n",
    "            pos = 0\n",
    "        if pos  == len(sub_set):\n",
    "            return True\n",
    "    return False\n",
    "\n",
    "\n",
    "sub_set = [1,2,9] \n",
    "lst = [4,3,2,1,2,3]\n",
    "result = validate_the_subset(sub_set,lst)\n",
    "print(result)"
   ]
  },
  {
   "cell_type": "code",
   "execution_count": null,
   "id": "031e3446",
   "metadata": {},
   "outputs": [],
   "source": []
  }
 ],
 "metadata": {
  "kernelspec": {
   "display_name": "Python 3",
   "language": "python",
   "name": "python3"
  },
  "language_info": {
   "codemirror_mode": {
    "name": "ipython",
    "version": 3
   },
   "file_extension": ".py",
   "mimetype": "text/x-python",
   "name": "python",
   "nbconvert_exporter": "python",
   "pygments_lexer": "ipython3",
   "version": "3.11.4"
  }
 },
 "nbformat": 4,
 "nbformat_minor": 5
}

{
 "cells": [
  {
   "cell_type": "markdown",
   "id": "898cdec1",
   "metadata": {},
   "source": [
    "| Pattern       | Category       | Purpose                                                                  |\n",
    "| ------------- | -------------- | ------------------------------------------------------------------------ |\n",
    "| **Singleton** | **Creational** | Ensures only one instance of a class exists.                             |\n",
    "| **Factory** | **Creational** | Creates objects without specifying exact class.                          |\n",
    "| **Builder** | **Creational** | Builds complex objects step-by-step.                                     |\n",
    "| **Adapter** | **Structural** | Converts one interface into another expected by the client.              |\n",
    "| **Strategy** | **Behavioral** | Allows selecting an algorithm/strategy at runtime.                       |\n",
    "| **Observer** | **Behavioral** | Notifies objects automatically when another object changes.              |\n",
    "| **State** | **Behavioral** | Allows an object to change its behavior when its internal state changes. |"
   ]
  },
  {
   "cell_type": "markdown",
   "id": "cf4a4b64",
   "metadata": {},
   "source": [
    "# Singleton Design Pattern"
   ]
  },
  {
   "cell_type": "code",
   "execution_count": 121,
   "id": "5dbc22d4",
   "metadata": {},
   "outputs": [],
   "source": [
    "import logging\n",
    "from abc import ABC, abstractmethod, ABCMeta\n",
    "import threading\n",
    "\n",
    "# Thread-safe Singleton Metaclass\n",
    "class ThreadSafeSingleton(ABCMeta):\n",
    "    _instances = {}\n",
    "    _lock = threading.Lock()\n",
    "\n",
    "    def __call__(cls, *args, **kwargs):\n",
    "        with cls._lock:\n",
    "            if cls not in cls._instances:\n",
    "                cls._instances[cls] = super().__call__(*args, **kwargs)\n",
    "        return cls._instances[cls]"
   ]
  },
  {
   "cell_type": "code",
   "execution_count": 122,
   "id": "6bc87ada",
   "metadata": {},
   "outputs": [],
   "source": [
    "# Interface for Logger\n",
    "class BaseLogger(ABC):\n",
    "    @abstractmethod\n",
    "    def debug(self, message): pass\n",
    "\n",
    "    @abstractmethod\n",
    "    def info(self, message): pass\n",
    "\n",
    "    @abstractmethod\n",
    "    def warning(self, message): pass\n",
    "\n",
    "    @abstractmethod\n",
    "    def error(self, message): pass"
   ]
  },
  {
   "cell_type": "code",
   "execution_count": 123,
   "id": "e16b806a",
   "metadata": {},
   "outputs": [
    {
     "name": "stderr",
     "output_type": "stream",
     "text": [
      "[2025-07-27 15:12:46,030] DEBUG - Hi]\n",
      "[2025-07-27 15:12:46,034] INFO - Hi]\n",
      "[2025-07-27 15:12:46,038] WARNING - Hi]\n",
      "[2025-07-27 15:12:46,040] ERROR - Hi]\n"
     ]
    },
    {
     "name": "stdout",
     "output_type": "stream",
     "text": [
      "2797220710864\n",
      "2797220710864\n"
     ]
    }
   ],
   "source": [
    "import logging\n",
    "\n",
    "class LoggerSystem(BaseLogger, metaclass=ThreadSafeSingleton):\n",
    "    \"\"\"\n",
    "        LoggerSystem is a class which deals with invoking the logger methods\n",
    "        Methods :- \n",
    "            _get_or_create_logger :- Helps to get or create the logger instance\n",
    "            debug :- This Functions reads the level 10 logger data\n",
    "            info :- This Functions reads the level 20 logger data\n",
    "            error :- This Functions reads the level 40 logger data\n",
    "            warning :- This Functions reads the level 30 logger data\n",
    "\n",
    "    \"\"\"\n",
    "    def __init__(self):\n",
    "        self.app_name = 'CodeGeN'\n",
    "        self.level = logging.DEBUG  \n",
    "        self.formatter = '[%(asctime)s] %(levelname)s - %(message)s]'\n",
    "        self._logger = self._get_or_create_logger()\n",
    "        \n",
    "    def _get_or_create_logger(self):\n",
    "        logger = logging.getLogger(self.app_name)\n",
    "        logger.setLevel(self.level)\n",
    "\n",
    "        if logger.hasHandlers():\n",
    "            return logger\n",
    "\n",
    "        formatter = logging.Formatter(self.formatter)\n",
    "\n",
    "        # Console Handler\n",
    "        console_handler = logging.StreamHandler()\n",
    "        console_handler.setFormatter(formatter)\n",
    "\n",
    "        # File Handler\n",
    "        file_handler = logging.FileHandler('app.log', mode='a')\n",
    "        file_handler.setFormatter(formatter)\n",
    "\n",
    "        # Add handlers\n",
    "        logger.addHandler(console_handler)\n",
    "        logger.addHandler(file_handler)\n",
    "\n",
    "        return logger\n",
    "    \n",
    "    def debug(self, message):\n",
    "        return self._logger.debug(message)\n",
    "    def error(self, message):\n",
    "        return self._logger.error(message)\n",
    "    def warning(self, message):\n",
    "        return self._logger.warning(message)\n",
    "    def info(self, message):\n",
    "        return self._logger.info(message)\n",
    "\n",
    "logger =  LoggerSystem()\n",
    "logger1 =  LoggerSystem()\n",
    "print(id(logger))\n",
    "print(id(logger1))\n",
    "\n",
    "logger.debug(\"Hi\")\n",
    "logger.info(\"Hi\")\n",
    "logger.warning(\"Hi\")\n",
    "logger.error(\"Hi\")\n",
    "\n"
   ]
  },
  {
   "cell_type": "code",
   "execution_count": 124,
   "id": "a1eb4e69",
   "metadata": {},
   "outputs": [],
   "source": [
    "## Example -2 Config Manager"
   ]
  },
  {
   "cell_type": "code",
   "execution_count": 125,
   "id": "611f6e3e",
   "metadata": {},
   "outputs": [],
   "source": [
    "import yaml\n",
    "from abc import ABC, abstractmethod\n",
    "\n",
    "class BaseConfig(ABC):\n",
    "    def __init__(self):\n",
    "        self._config = self._load_config()  # No path passed here\n",
    "    \n",
    "    @abstractmethod        \n",
    "    def _load_config(self, path=None):\n",
    "        pass\n",
    "\n",
    "    @abstractmethod\n",
    "    def get_data(self, parent, child):\n",
    "        pass\n",
    "\n",
    "\n",
    "# Assuming ThreadSafeSingleton is a metaclass you already have\n",
    "class ConfigManager(BaseConfig, metaclass=ThreadSafeSingleton):\n",
    "    def _load_config(self, path='config/config.yaml'):\n",
    "        with open(path, 'r') as file:\n",
    "            return yaml.safe_load(file)\n",
    "    \n",
    "    def get_data(self, parent, child):\n",
    "        parent_data = self._config.get(parent)\n",
    "        if parent_data is None:\n",
    "            raise ValueError(f\"Invalid parent key: '{parent}'\")\n",
    "\n",
    "        child_data = parent_data.get(child)\n",
    "        if child_data is None:\n",
    "            raise ValueError(f\"Invalid child key: '{child}' under parent '{parent}'\")\n",
    "        \n",
    "        return child_data\n"
   ]
  },
  {
   "cell_type": "code",
   "execution_count": 126,
   "id": "d170cabb",
   "metadata": {},
   "outputs": [
    {
     "name": "stdout",
     "output_type": "stream",
     "text": [
      "2797220608912\n",
      "2797220608912\n"
     ]
    },
    {
     "data": {
      "text/plain": [
       "'logs/app.log'"
      ]
     },
     "execution_count": 126,
     "metadata": {},
     "output_type": "execute_result"
    }
   ],
   "source": [
    "config_1 = ConfigManager()\n",
    "config_2 = ConfigManager()\n",
    "print(id(config_1))\n",
    "print(id(config_2))\n",
    "config_1.get_data(\"logging\",\"level\")\n",
    "config_2.get_data(\"logging\",\"file\")\n",
    "\n"
   ]
  },
  {
   "cell_type": "markdown",
   "id": "23d9336e",
   "metadata": {},
   "source": [
    "# Factory Method"
   ]
  },
  {
   "cell_type": "code",
   "execution_count": 127,
   "id": "3d4e7375",
   "metadata": {},
   "outputs": [
    {
     "name": "stdout",
     "output_type": "stream",
     "text": [
      "Processing payment via RazorPay: 1000\n"
     ]
    }
   ],
   "source": [
    "from abc import ABC, abstractmethod\n",
    "\n",
    "# Step 1: Interface\n",
    "class PaymentGateway(ABC):\n",
    "    @abstractmethod\n",
    "    def process_payment(self, amount):\n",
    "        pass\n",
    "\n",
    "# Step 2: Concrete Classes\n",
    "class PayPal(PaymentGateway):\n",
    "    def process_payment(self, amount):\n",
    "        print(\"Processing payment via PayPal:\", amount)\n",
    "\n",
    "class RazoPay(PaymentGateway):\n",
    "    def process_payment(self, amount):\n",
    "        print(\"Processing payment via RazorPay:\", amount)\n",
    "\n",
    "# Step 3: Factory\n",
    "class PaymentGatewayFactory:\n",
    "    @staticmethod\n",
    "    def get_gateway(payment_type: str) -> PaymentGateway:\n",
    "        payment_type = payment_type.lower()\n",
    "        if payment_type == 'razopay':\n",
    "            return RazoPay()\n",
    "        elif payment_type == 'paypal':\n",
    "            return PayPal()\n",
    "        else:\n",
    "            raise ValueError(\"Invalid payment type\")\n",
    "\n",
    "gateway = PaymentGatewayFactory.get_gateway(\"razopay\")\n",
    "gateway.process_payment(1000)"
   ]
  },
  {
   "cell_type": "code",
   "execution_count": null,
   "id": "0190d958",
   "metadata": {},
   "outputs": [],
   "source": [
    "# Abstract factory design pattern\n",
    "# it deals with factory of factories"
   ]
  },
  {
   "cell_type": "code",
   "execution_count": 35,
   "id": "c2bcfb3c",
   "metadata": {},
   "outputs": [],
   "source": [
    "# interface\n",
    "from abc import ABC, abstractmethod\n",
    "\n",
    "class GatewayInterface(ABC):\n",
    "    @abstractmethod\n",
    "    def process_payment(self,amount):\n",
    "        pass\n",
    "\n",
    "class GatewayValidator(ABC):\n",
    "    @abstractmethod\n",
    "    def validate_accno(self,acc):\n",
    "        pass"
   ]
  },
  {
   "cell_type": "code",
   "execution_count": 42,
   "id": "e3edd0d4",
   "metadata": {},
   "outputs": [],
   "source": [
    "# concrete classes \n",
    "class CreditCardPayment(GatewayInterface):\n",
    "    def process_payment(self,amount):\n",
    "        return f'{amount} credited via credit card'\n",
    "    \n",
    "class DebitCardPayment(GatewayInterface):\n",
    "    def process_payment(self,amount):\n",
    "        return f'{amount} credited via debit card'\n",
    "    \n",
    "    \n",
    "class CreditCardValidator(GatewayValidator):\n",
    "    def validate_accno(self, acc):\n",
    "        return acc.startswith(\"5\")\n",
    "\n",
    "class DebitCardValidator(GatewayValidator):\n",
    "    def validate_accno(self, acc):\n",
    "        return acc.startswith(\"6\")"
   ]
  },
  {
   "cell_type": "code",
   "execution_count": 43,
   "id": "4115e487",
   "metadata": {},
   "outputs": [],
   "source": [
    "# factory\n",
    "\n",
    "class PaymentFactory(ABC):\n",
    "    @abstractmethod\n",
    "    def process_payment(self,amount):\n",
    "        pass\n",
    "    @abstractmethod\n",
    "    def validate_accno(self,acc):\n",
    "        pass\n",
    "    "
   ]
  },
  {
   "cell_type": "code",
   "execution_count": 44,
   "id": "43cecbdd",
   "metadata": {},
   "outputs": [],
   "source": [
    "# concrete factories\n",
    "\n",
    "class CreditCardFactory(PaymentFactory):\n",
    "    def process_payment(self,amount):\n",
    "        return CreditCardPayment().process_payment(amount)\n",
    "    def validate_accno(self,acc):\n",
    "        return CreditCardValidator().validate_accno(acc)\n",
    "\n",
    "class DebitCardFactory(PaymentFactory):\n",
    "    def process_payment(self,amount):\n",
    "        return DebitCardPayment().process_payment(amount)\n",
    "    def validate_accno(self,acc):\n",
    "        return DebitCardValidator().validate_accno(acc)\n",
    "    "
   ]
  },
  {
   "cell_type": "code",
   "execution_count": 45,
   "id": "28a2e6c3",
   "metadata": {},
   "outputs": [
    {
     "data": {
      "text/plain": [
       "True"
      ]
     },
     "execution_count": 45,
     "metadata": {},
     "output_type": "execute_result"
    }
   ],
   "source": [
    "class PaymentGatewayFactory:\n",
    "    __registry = {}\n",
    "    @classmethod\n",
    "    def register_gateway(cls,name, class_instance):\n",
    "        if name.lower() not in cls.__registry:\n",
    "            cls.__registry[name] = class_instance\n",
    "            \n",
    "    @classmethod\n",
    "    def choose_gateway(cls,name):\n",
    "        if name.lower() in cls.__registry:\n",
    "            return cls.__registry[name] \n",
    "    \n",
    "\n",
    "PaymentGatewayFactory.register_gateway(\"credit\",CreditCardFactory()) \n",
    "PaymentGatewayFactory.register_gateway(\"debit\",DebitCardFactory()) \n",
    "\n",
    "payment_instance = PaymentGatewayFactory.choose_gateway('debit')\n",
    "payment_instance.process_payment(500)\n",
    "payment_instance.validate_accno('6')\n",
    "\n"
   ]
  },
  {
   "cell_type": "markdown",
   "id": "3ccfb2ec",
   "metadata": {},
   "source": [
    "# Builder Design Pattern\n",
    "- The Builder Pattern is a creational design pattern used to construct complex objects step-by-step. It separates the construction process from the actual representation of the object."
   ]
  },
  {
   "cell_type": "code",
   "execution_count": 128,
   "id": "c0fa491e",
   "metadata": {},
   "outputs": [],
   "source": [
    "# 🍕 1. Without Builder Pattern (Simple Instantiation)"
   ]
  },
  {
   "cell_type": "code",
   "execution_count": 129,
   "id": "95effb27",
   "metadata": {},
   "outputs": [
    {
     "name": "stdout",
     "output_type": "stream",
     "text": [
      "Pizza with pan baked dough, spicy sauce, and pepperoni topping.\n"
     ]
    }
   ],
   "source": [
    "class Pizza:\n",
    "    def __init__(self, dough, sauce, topping):\n",
    "        self.dough = dough\n",
    "        self.sauce = sauce\n",
    "        self.topping = topping\n",
    "\n",
    "    def __str__(self):\n",
    "        return f\"Pizza with {self.dough} dough, {self.sauce} sauce, and {self.topping} topping.\"\n",
    "\n",
    "# Create pizza directly\n",
    "pizza = Pizza(\"pan baked\", \"spicy\", \"pepperoni\")\n",
    "print(pizza)\n"
   ]
  },
  {
   "cell_type": "markdown",
   "id": "6a8bd0de",
   "metadata": {},
   "source": [
    "## Downsides:\n",
    "* Hard to manage when there are many options or configurations.\n",
    "\n",
    "* Constructor can get messy if more ingredients are added.\n",
    "\n",
    "* Changing construction logic means changing the core class."
   ]
  },
  {
   "cell_type": "markdown",
   "id": "6d53f60b",
   "metadata": {},
   "source": [
    "### 🧩 Components of the Builder Pattern\n",
    "\n",
    "| Component         | Role & Responsibility                                                               |\n",
    "|-------------------|--------------------------------------------------------------------------------------|\n",
    "| **Product**        | The complex object being built (e.g., `Pizza`, `Car`, etc.)                         |\n",
    "| **Builder Interface** | Defines the abstract methods for building parts of the product                    |\n",
    "| **Concrete Builder**  | Implements the builder interface and provides specifics for each build step       |\n",
    "| **Director**       | Orchestrates the steps using the builder to create the product                      |\n",
    "| **Client**         | Initiates the building process by choosing a builder and optionally a director      |\n"
   ]
  },
  {
   "cell_type": "code",
   "execution_count": 130,
   "id": "97244f46",
   "metadata": {},
   "outputs": [],
   "source": [
    "# 1. 🧱 Product: Pizza\n",
    "class Pizza:\n",
    "    def __init__(self):\n",
    "        self.dough = None\n",
    "        self.sauce = None\n",
    "        self.topping = None\n",
    "\n",
    "    def __str__(self):\n",
    "        return f\"Pizza with {self.dough} dough, {self.sauce} sauce, and {self.topping} topping.\"\n"
   ]
  },
  {
   "cell_type": "code",
   "execution_count": 131,
   "id": "902add93",
   "metadata": {},
   "outputs": [],
   "source": [
    "# 2. 🔧 Builder Interface\n",
    "\n",
    "from abc import ABC, abstractmethod\n",
    "\n",
    "class PizzaBuilder(ABC):\n",
    "    @abstractmethod\n",
    "    def build_dough(self): pass\n",
    "\n",
    "    @abstractmethod\n",
    "    def build_sauce(self): pass\n",
    "\n",
    "    @abstractmethod\n",
    "    def build_topping(self): pass\n",
    "\n",
    "    @abstractmethod\n",
    "    def get_pizza(self): pass\n"
   ]
  },
  {
   "cell_type": "code",
   "execution_count": 132,
   "id": "9b7cf541",
   "metadata": {},
   "outputs": [],
   "source": [
    "# 3. 🏗️ Concrete Builder\n",
    "\n",
    "class VegPizzaBuilder(PizzaBuilder):\n",
    "    def __init__(self):\n",
    "        self.pizza = Pizza()\n",
    "\n",
    "    def build_dough(self):\n",
    "        self.pizza.dough = \"whole wheat\"\n",
    "\n",
    "    def build_sauce(self):\n",
    "        self.pizza.sauce = \"herb tomato\"\n",
    "\n",
    "    def build_topping(self):\n",
    "        self.pizza.topping = \"bell peppers, olives, corn\"\n",
    "\n",
    "    def get_pizza(self):\n",
    "        return self.pizza\n",
    "\n",
    "\n",
    "class ChickenPizzaBuilder(PizzaBuilder):\n",
    "    def __init__(self):\n",
    "        self.pizza = Pizza()\n",
    "\n",
    "    def build_dough(self):\n",
    "        self.pizza.dough = \"classic\"\n",
    "\n",
    "    def build_sauce(self):\n",
    "        self.pizza.sauce = \"bbq\"\n",
    "\n",
    "    def build_topping(self):\n",
    "        self.pizza.topping = \"grilled chicken, onions\"\n",
    "\n",
    "    def get_pizza(self):\n",
    "        return self.pizza\n",
    "\n",
    "class MushroomPizzaBuilder(PizzaBuilder):\n",
    "    def __init__(self):\n",
    "        self.pizza = Pizza()\n",
    "\n",
    "    def build_dough(self):\n",
    "        self.pizza.dough = \"cheese burst\"\n",
    "\n",
    "    def build_sauce(self):\n",
    "        self.pizza.sauce = \"garlic white\"\n",
    "\n",
    "    def build_topping(self):\n",
    "        self.pizza.topping = \"button mushrooms, jalapeños\"\n",
    "\n",
    "    def get_pizza(self):\n",
    "        return self.pizza\n"
   ]
  },
  {
   "cell_type": "code",
   "execution_count": 133,
   "id": "aadf9682",
   "metadata": {},
   "outputs": [],
   "source": [
    "class PizzaChef:\n",
    "    def __init__(self, builder: PizzaBuilder):\n",
    "        self.builder = builder\n",
    "\n",
    "    def make_pizza(self):\n",
    "        self.builder.build_dough()\n",
    "        self.builder.build_sauce()\n",
    "        self.builder.build_topping()\n",
    "        return self.builder.get_pizza()\n"
   ]
  },
  {
   "cell_type": "code",
   "execution_count": 134,
   "id": "cb53e879",
   "metadata": {},
   "outputs": [
    {
     "name": "stdout",
     "output_type": "stream",
     "text": [
      "Pizza with whole wheat dough, herb tomato sauce, and bell peppers, olives, corn topping.\n",
      "Pizza with classic dough, bbq sauce, and grilled chicken, onions topping.\n",
      "Pizza with cheese burst dough, garlic white sauce, and button mushrooms, jalapeños topping.\n"
     ]
    }
   ],
   "source": [
    "for builder in [VegPizzaBuilder(), ChickenPizzaBuilder(), MushroomPizzaBuilder()]:\n",
    "    chef = PizzaChef(builder)\n",
    "    pizza = chef.make_pizza()\n",
    "    print(pizza)\n"
   ]
  },
  {
   "cell_type": "code",
   "execution_count": 135,
   "id": "258ad6c6",
   "metadata": {},
   "outputs": [],
   "source": [
    "# Example - 2\n",
    "# Notification System"
   ]
  },
  {
   "cell_type": "code",
   "execution_count": 153,
   "id": "c8e4985d",
   "metadata": {},
   "outputs": [],
   "source": [
    "import uuid\n",
    "# Product\n",
    "class Notification:\n",
    "    def __init__(self):\n",
    "        self.id = uuid.uuid4()\n",
    "        self.notification_type = None\n",
    "        self.sender = None\n",
    "        self.receiver = None\n",
    "        self.message = None\n",
    "    \n",
    "    def __str__(self):\n",
    "        return f'{self.id}-{self.notification_type}'"
   ]
  },
  {
   "cell_type": "code",
   "execution_count": 154,
   "id": "2e9807aa",
   "metadata": {},
   "outputs": [],
   "source": [
    "# notification builder\n",
    "from abc import abstractmethod, ABC\n",
    "class NotificationBuilder(ABC):\n",
    "    @abstractmethod\n",
    "    def add_notification_type(self):\n",
    "        pass\n",
    "    \n",
    "    @abstractmethod\n",
    "    def add_sender(self):\n",
    "        pass\n",
    "    \n",
    "    @abstractmethod\n",
    "    def add_receiver(self):\n",
    "        pass\n",
    "\n",
    "    @abstractmethod\n",
    "    def add_message(self):\n",
    "        pass\n",
    "    \n",
    "    @abstractmethod\n",
    "    def get_notification(self):\n",
    "        pass"
   ]
  },
  {
   "cell_type": "code",
   "execution_count": 155,
   "id": "539e568d",
   "metadata": {},
   "outputs": [],
   "source": [
    "# 3. 🏗️ Concrete Builder\n",
    "class EmailNotification(NotificationBuilder):\n",
    "    def __init__(self):\n",
    "        self.notification = Notification()\n",
    "    def add_notification_type(self):\n",
    "        self.notification.notification_type = \"Email\"\n",
    "    def add_sender(self):\n",
    "        self.notification.sender = \"shanu@gmail.com\"\n",
    "    def add_receiver(self):\n",
    "        self.notification.receiver = \"adari@gmail.com\"\n",
    "    def add_message(self):\n",
    "        self.notification.message = \"Hi Hello through email\"\n",
    "    def get_notification(self):\n",
    "        return self.notification\n",
    "\n",
    "\n",
    "class SMSNotification(NotificationBuilder):\n",
    "    def __init__(self):\n",
    "        self.notification = Notification()\n",
    "    def add_notification_type(self):\n",
    "        self.notification.notification_type = \"phone\"\n",
    "    def add_sender(self):\n",
    "        self.notification.sender = \"9999999999999999\"\n",
    "    def add_receiver(self):\n",
    "        self.notification.receiver = \"2222222222222222222\"\n",
    "    def add_message(self):\n",
    "        self.notification.message = \"Hi Hello\"\n",
    "    def get_notification(self):\n",
    "        return self.notification\n",
    "    \n",
    "    "
   ]
  },
  {
   "cell_type": "code",
   "execution_count": 156,
   "id": "a23963c2",
   "metadata": {},
   "outputs": [],
   "source": [
    "class NotificationOrchestrator:\n",
    "    def __init__(self, builder):\n",
    "        self.builder = builder\n",
    "    def create_notification(self):\n",
    "        self.builder.add_notification_type()\n",
    "        self.builder.add_sender()\n",
    "        self.builder.add_receiver()\n",
    "        self.builder.add_message()\n",
    "        return self.builder.get_notification()\n",
    "        "
   ]
  },
  {
   "cell_type": "code",
   "execution_count": 157,
   "id": "c83ca0de",
   "metadata": {},
   "outputs": [
    {
     "name": "stdout",
     "output_type": "stream",
     "text": [
      "e8042f24-8f54-40d6-83d2-0aba164ba9ce-Email\n",
      "9b33941f-5373-4b19-93bb-8849c2fee645-phone\n"
     ]
    }
   ],
   "source": [
    "for notify in [EmailNotification(), SMSNotification()]:\n",
    "    orchestrator = NotificationOrchestrator(notify)\n",
    "    result = orchestrator.create_notification()\n",
    "    print(result)\n"
   ]
  },
  {
   "cell_type": "markdown",
   "id": "d2f3ef85",
   "metadata": {},
   "source": [
    "# Example -3"
   ]
  },
  {
   "cell_type": "code",
   "execution_count": 51,
   "id": "631d7f6b",
   "metadata": {},
   "outputs": [],
   "source": [
    "#Product\n",
    "class Computer:\n",
    "    def __init__(self):\n",
    "        self.cpu = None\n",
    "        self.ram = None\n",
    "        self.storage = None"
   ]
  },
  {
   "cell_type": "code",
   "execution_count": 52,
   "id": "525782e8",
   "metadata": {},
   "outputs": [],
   "source": [
    "#Builder Interface\n",
    "from abc import ABC,abstractmethod\n",
    "\n",
    "class ComputerBuilder(ABC):\n",
    "    def __init__(self):\n",
    "        self.computer = Computer()\n",
    "    def get_computer(self):\n",
    "        return self.computer\n",
    "    @abstractmethod\n",
    "    def set_cpu(self):\n",
    "        pass\n",
    "    @abstractmethod\n",
    "    def set_ram(self):\n",
    "        pass\n",
    "    @abstractmethod\n",
    "    def set_storage(self):\n",
    "        pass"
   ]
  },
  {
   "cell_type": "code",
   "execution_count": 53,
   "id": "e866c496",
   "metadata": {},
   "outputs": [],
   "source": [
    "#Concrete classes\n",
    "class GamingComputer(ComputerBuilder):\n",
    "    def set_cpu(self):\n",
    "        self.computer.cpu = 'INTEL'\n",
    "    def set_ram(self):\n",
    "        self.computer.ram = '8gb'\n",
    "    def set_storage(self):\n",
    "        self.computer.storage = '1Tb'\n",
    "    def __str__(self):\n",
    "        return 'Gaming_PC'\n",
    "\n",
    "\n",
    "class OfficeComputer(ComputerBuilder):\n",
    "    def set_ram(self):\n",
    "        self.computer.ram = '16gb'\n",
    "    def set_storage(self):\n",
    "        self.computer.storage = '2Tb'\n",
    "    def set_cpu(self):\n",
    "        self.computer.cpu = 'DELL'\n",
    "    def __str__(self):\n",
    "        return 'OfficeComputer'\n",
    "    \n",
    "        "
   ]
  },
  {
   "cell_type": "code",
   "execution_count": 54,
   "id": "b554b3ab",
   "metadata": {},
   "outputs": [],
   "source": [
    "# director \n",
    "class Computer_Director:\n",
    "    def __init__(self,builder):\n",
    "        self.builder = builder\n",
    "    def build(self):\n",
    "        self.builder.set_cpu()\n",
    "        self.builder.set_ram()\n",
    "        self.builder.set_storage()\n",
    "        return self.builder.get_computer()\n",
    "    def __str__(self):\n",
    "        return str(self.builder)\n",
    "        \n",
    "        "
   ]
  },
  {
   "cell_type": "code",
   "execution_count": null,
   "id": "813621f1",
   "metadata": {},
   "outputs": [
    {
     "name": "stdout",
     "output_type": "stream",
     "text": [
      "Gaming_PC\n"
     ]
    }
   ],
   "source": [
    "#client\n",
    "gaming_pc = GamingComputer()\n",
    "\n",
    "= Computer_Director(gaming_pc)\n",
    "director.build()\n",
    "print(director)"
   ]
  },
  {
   "cell_type": "code",
   "execution_count": 59,
   "id": "4346efce",
   "metadata": {},
   "outputs": [
    {
     "name": "stdout",
     "output_type": "stream",
     "text": [
      "OfficeComputer\n"
     ]
    }
   ],
   "source": [
    "#client\n",
    "office_pc = OfficeComputer()\n",
    "director = Computer_Director(office_pc)\n",
    "director.build()\n",
    "print(director)"
   ]
  },
  {
   "cell_type": "code",
   "execution_count": 2,
   "id": "6e0a01b3",
   "metadata": {},
   "outputs": [
    {
     "name": "stdout",
     "output_type": "stream",
     "text": [
      "CPU: Intel i7, RAM: 16GB, Storage: 1TB SSD, GPU: RTX 3080, Cooling: Liquid, Peripherals: ['Keyboard', 'Mouse']\n",
      "CPU: Intel i5, RAM: 8GB, Storage: 512GB SSD, GPU: None, Cooling: None, Peripherals: None\n"
     ]
    }
   ],
   "source": [
    "# without builder pattern\n",
    "class Computer:\n",
    "    def __init__(self, cpu, ram, storage, gpu=None, cooling=None, peripherals=None):\n",
    "        self.cpu = cpu\n",
    "        self.ram = ram\n",
    "        self.storage = storage\n",
    "        self.gpu = gpu\n",
    "        self.cooling = cooling\n",
    "        self.peripherals = peripherals\n",
    "\n",
    "    def specifications(self):\n",
    "        return f\"CPU: {self.cpu}, RAM: {self.ram}, Storage: {self.storage}, GPU: {self.gpu}, Cooling: {self.cooling}, Peripherals: {self.peripherals}\"\n",
    "\n",
    "# Creating computers\n",
    "comp1 = Computer(\"Intel i7\", \"16GB\", \"1TB SSD\", gpu=\"RTX 3080\", cooling=\"Liquid\", peripherals=[\"Keyboard\", \"Mouse\"])\n",
    "comp2 = Computer(\"Intel i5\", \"8GB\", \"512GB SSD\")  # minimal build\n",
    "\n",
    "print(comp1.specifications())\n",
    "print(comp2.specifications())\n"
   ]
  },
  {
   "cell_type": "code",
   "execution_count": 13,
   "id": "696b707d",
   "metadata": {},
   "outputs": [
    {
     "name": "stdout",
     "output_type": "stream",
     "text": [
      "Office PC: \n",
      "        CPU: Intel i5\n",
      "        RAM: 16GB\n",
      "        Storage: 512GB SSD\n",
      "        GPU: None\n",
      "        Cooling: None\n",
      "        Peripherals: \n",
      "         1659178404432\n",
      "Gaming PC: \n",
      "        CPU: AMD Ryzen 9\n",
      "        RAM: 32GB\n",
      "        Storage: 1TB SSD\n",
      "        GPU: NVIDIA RTX 4080\n",
      "        Cooling: Liquid\n",
      "        Peripherals: Keyboard, Mouse, Headset\n",
      "         1659185299536\n",
      "New Office PC: \n",
      "        CPU: Intel i5\n",
      "        RAM: 16GB\n",
      "        Storage: 512GB SSD\n",
      "        GPU: NVIDIA RTX 4081\n",
      "        Cooling: None\n",
      "        Peripherals: \n",
      "         1659178178768\n"
     ]
    }
   ],
   "source": [
    "# Product\n",
    "class Computer:\n",
    "    def __init__(self):\n",
    "        self.cpu = None\n",
    "        self.ram = None\n",
    "        self.storage = None\n",
    "        self.gpu = None\n",
    "        self.cooling = None\n",
    "        self.peripherals = []\n",
    "\n",
    "    def specifications(self):\n",
    "        return f\"\"\"\n",
    "        CPU: {self.cpu}\n",
    "        RAM: {self.ram}\n",
    "        Storage: {self.storage}\n",
    "        GPU: {self.gpu}\n",
    "        Cooling: {self.cooling}\n",
    "        Peripherals: {', '.join(self.peripherals)}\n",
    "        \"\"\"\n",
    "\n",
    "\n",
    "# Builder\n",
    "class ComputerBuilder:\n",
    "    def __init__(self):\n",
    "        self.reset()\n",
    "                                                    \n",
    "    def reset(self):\n",
    "        \"\"\"Resets the builder with a new blank computer.\"\"\"\n",
    "        self._computer = Computer()\n",
    "\n",
    "    def set_cpu(self, cpu):\n",
    "        self._computer.cpu = cpu\n",
    "        return self\n",
    "\n",
    "    def set_ram(self, ram):\n",
    "        self._computer.ram = ram\n",
    "        return self\n",
    "\n",
    "    def set_storage(self, storage):\n",
    "        self._computer.storage = storage\n",
    "        return self\n",
    "\n",
    "    def set_gpu(self, gpu):\n",
    "        self._computer.gpu = gpu\n",
    "        return self\n",
    "\n",
    "    def set_cooling(self, cooling):\n",
    "        self._computer.cooling = cooling\n",
    "        return self\n",
    "\n",
    "    def add_peripheral(self, peripheral):\n",
    "        self._computer.peripherals.append(peripheral)\n",
    "        return self\n",
    "\n",
    "    def build(self):\n",
    "        \"\"\"Returns the built computer and resets the builder for next use.\"\"\"\n",
    "        product = self._computer\n",
    "        self.reset()\n",
    "        return product\n",
    "\n",
    "\n",
    "# Director (optional)\n",
    "class Director:\n",
    "    def __init__(self, builder):\n",
    "        self.builder = builder\n",
    "\n",
    "    def build_office_pc(self):\n",
    "        return (self.builder\n",
    "                .set_cpu(\"Intel i5\")\n",
    "                .set_ram(\"16GB\")\n",
    "                .set_storage(\"512GB SSD\")\n",
    "                .build())\n",
    "\n",
    "    def build_gaming_pc(self):\n",
    "        return (self.builder\n",
    "                .set_cpu(\"AMD Ryzen 9\")\n",
    "                .set_ram(\"32GB\")\n",
    "                .set_storage(\"1TB SSD\")\n",
    "                .set_gpu(\"NVIDIA RTX 4080\")\n",
    "                .set_cooling(\"Liquid\")\n",
    "                .add_peripheral(\"Keyboard\")\n",
    "                .add_peripheral(\"Mouse\")\n",
    "                .add_peripheral(\"Headset\")\n",
    "                .build())\n",
    "\n",
    "\n",
    "class OfficeDirector(Director):\n",
    "    def __init__(self,builder):\n",
    "        self.builder = builder\n",
    "    \n",
    "    def build_office_pc(self):\n",
    "        return (self.builder\n",
    "                .set_cpu(\"Intel i5\")\n",
    "                .set_ram(\"16GB\")\n",
    "                .set_storage(\"512GB SSD\")\n",
    "                .set_gpu(\"NVIDIA RTX 4081\")\n",
    "                .build())\n",
    "\n",
    "# Client code\n",
    "builder = ComputerBuilder()\n",
    "director = Director(builder)\n",
    "\n",
    "office_pc = director.build_office_pc()\n",
    "gaming_pc = director.build_gaming_pc()\n",
    "\n",
    "new_director = OfficeDirector(builder)\n",
    "new_office_pc =new_director.build_office_pc()\n",
    "\n",
    "print(\"Office PC:\", office_pc.specifications(), id(office_pc))\n",
    "print(\"Gaming PC:\", gaming_pc.specifications(), id(gaming_pc))\n",
    "print(\"New Office PC:\", new_office_pc.specifications(), id(new_office_pc))\n",
    "\n",
    "\n"
   ]
  },
  {
   "cell_type": "markdown",
   "id": "503d41dc",
   "metadata": {},
   "source": [
    "# What is the Adapter Pattern?\n",
    "The Adapter pattern is a structural design pattern that facilitates the interaction between two interfaces that are incompatible or cannot work together directly. It acts as a bridge, allowing objects with different interfaces to collaborate.\n",
    "- We have an old method in  a class which users love to use now we have to replace it with another vendor but client does not want to change the way its invoked so now the new methods changes in such a way it adapates to format of old method\n",
    "\n",
    "\n"
   ]
  },
  {
   "cell_type": "code",
   "execution_count": null,
   "id": "e4b7c251",
   "metadata": {},
   "outputs": [],
   "source": []
  },
  {
   "cell_type": "markdown",
   "id": "b4b22d93",
   "metadata": {},
   "source": [
    "## Conceptual Diagram\n",
    "\n",
    "The diagram you provided illustrates this pattern perfectly.\n",
    "\n",
    "```text\n",
    "                 ┌────────────────────┐\n",
    "                 │    UpiPayment      │◄───────┐  (Target Interface)\n",
    "                 └────────────────────┘        │\n",
    "                      ▲                        │\n",
    "     ┌────────────────┴─────────────┐          │\n",
    "     │        Adapter Classes        │          │\n",
    "     │ VisaPaymentAdapter           │           │\n",
    "     │ MasterCardPaymentAdapter     │           │\n",
    "     └──────────────────────────────┘           │\n",
    "             ▲                       ▲          │\n",
    "             │                       │          │\n",
    "     ┌───────┴───────┐     ┌─────────┴─────┐    │\n",
    "     │  VisaPayment  │     │ MasterCardPayment│ │\n",
    "     └───────────────┘     └──────────────────┘ │\n",
    "          (Adaptees)                            │\n",
    "                                                │\n",
    "                   ┌────────────────────────────┘\n",
    "                   │\n",
    "          Client Code Uses: `.make_payment()`"
   ]
  },
  {
   "cell_type": "code",
   "execution_count": 7,
   "id": "4da12020",
   "metadata": {},
   "outputs": [
    {
     "name": "stdout",
     "output_type": "stream",
     "text": [
      "Amount Credited via Visa: ₹500\n",
      "Amount Credited via MasterCard: ₹1000\n"
     ]
    }
   ],
   "source": [
    "class UpiPayment:  # Target interface\n",
    "    def make_payment(self, amount):\n",
    "        print(f\"Amount Credited via UPI: ₹{amount}\")\n",
    "\n",
    "\n",
    "# Adaptees\n",
    "class VisaPayment:\n",
    "    def pay(self, amount):\n",
    "        print(f\"Amount Credited via Visa: ₹{amount}\")\n",
    "\n",
    "\n",
    "class MasterCardPayment:\n",
    "    def add_payment(self, amount):\n",
    "        print(f\"Amount Credited via MasterCard: ₹{amount}\")\n",
    "\n",
    "\n",
    "# Adapters\n",
    "class VisaPaymentAdapter(UpiPayment):\n",
    "    def __init__(self, visa: VisaPayment):\n",
    "        self.visa = visa\n",
    "\n",
    "    def make_payment(self, amount):\n",
    "        self.visa.pay(amount)\n",
    "\n",
    "\n",
    "class MasterCardPaymentAdapter(UpiPayment):\n",
    "    def __init__(self, mastercard: MasterCardPayment):\n",
    "        self.mastercard = mastercard\n",
    "\n",
    "    def make_payment(self, amount):\n",
    "        self.mastercard.add_payment(amount)\n",
    "\n",
    "\n",
    "# Usage\n",
    "visa_adapter = VisaPaymentAdapter(VisaPayment())\n",
    "visa_adapter.make_payment(500)\n",
    "\n",
    "mastercard_adapter = MasterCardPaymentAdapter(MasterCardPayment())\n",
    "mastercard_adapter.make_payment(1000)\n"
   ]
  },
  {
   "cell_type": "markdown",
   "id": "73803603",
   "metadata": {},
   "source": [
    "# Strategy Design Pattern"
   ]
  },
  {
   "cell_type": "code",
   "execution_count": 2,
   "id": "efb5ce3a",
   "metadata": {},
   "outputs": [],
   "source": [
    "from abc import ABC, abstractmethod\n"
   ]
  },
  {
   "cell_type": "code",
   "execution_count": 3,
   "id": "4c8138f3",
   "metadata": {},
   "outputs": [],
   "source": [
    "class PaymentStrategy(ABC):\n",
    "    @abstractmethod\n",
    "    def pay(self, amount):\n",
    "        pass"
   ]
  },
  {
   "cell_type": "code",
   "execution_count": 4,
   "id": "f0d94daa",
   "metadata": {},
   "outputs": [],
   "source": [
    "class CreditCardPayment(PaymentStrategy):\n",
    "    def pay(self, amount):\n",
    "        print(f\"Paid {amount} using Credit Card.\")\n",
    "\n",
    "class PayPalPayment(PaymentStrategy):\n",
    "    def pay(self, amount):\n",
    "        print(f\"Paid {amount} using PayPal.\")\n",
    "\n",
    "class BankTransferPayment(PaymentStrategy):\n",
    "    def pay(self, amount):\n",
    "        print(f\"Paid {amount} using Bank Transfer.\")"
   ]
  },
  {
   "cell_type": "code",
   "execution_count": 5,
   "id": "df35a22d",
   "metadata": {},
   "outputs": [],
   "source": [
    "class PaymentContext:\n",
    "    def __init__(self, payment_strategy):\n",
    "        self.payment_strategy = payment_strategy\n",
    "\n",
    "    def set_payment_strategy(self, payment_strategy):\n",
    "        self.payment_strategy = payment_strategy\n",
    "    \n",
    "    def make_payment(self, amount):\n",
    "        self.payment_strategy.pay(amount)"
   ]
  },
  {
   "cell_type": "code",
   "execution_count": 7,
   "id": "ea51c134",
   "metadata": {},
   "outputs": [
    {
     "name": "stdout",
     "output_type": "stream",
     "text": [
      "Paid 100 using Credit Card.\n",
      "Paid 50 using PayPal.\n",
      "Paid 200 using Bank Transfer.\n"
     ]
    }
   ],
   "source": [
    "if __name__ == \"__main__\":\n",
    "    credit_card = CreditCardPayment()\n",
    "    paypal = PayPalPayment()\n",
    "    bank_transfer = BankTransferPayment()\n",
    "    payment_context = PaymentContext(credit_card)\n",
    "    \n",
    "    payment_context.make_payment(100)  # Output: Paid 100 using Credit Card.\n",
    "    payment_context.set_payment_strategy(paypal)\n",
    "    \n",
    "    payment_context.make_payment(50)  # Output: Paid 50 using PayPal.\n",
    "    payment_context.set_payment_strategy(bank_transfer)\n",
    "    payment_context.make_payment(200)  # Output: Paid 200 using Bank Transfer."
   ]
  },
  {
   "cell_type": "markdown",
   "id": "fca70a89",
   "metadata": {},
   "source": [
    "# Observer Design Pattern\n",
    "* The Observer Design Pattern is a behavioral pattern where one object (the Subject) maintains a list of dependents (Observers) and automatically notifies them whenever its state changes, without being tightly coupled to them\n",
    "## Example\n",
    "* \"It’s like a YouTube channel and its subscribers — when the channel uploads a video, all subscribers get notified automatically.\n",
    "* In Django we have a concept like signals if any change comes it invokes multiple independent events "
   ]
  },
  {
   "cell_type": "code",
   "execution_count": 5,
   "id": "b9016fcc",
   "metadata": {},
   "outputs": [
    {
     "name": "stdout",
     "output_type": "stream",
     "text": [
      "obs=> <__main__.MobileApp object at 0x000002A237A9B290>\n",
      "[Mobile] ACME updated: 99.0\n",
      "obs=> <__main__.EmailAlert object at 0x000002A237A99050>\n",
      "obs=> <__main__.AuditLogger object at 0x000002A237AB8FD0>\n",
      "[Audit] Logged ACME -> 99.0\n"
     ]
    }
   ],
   "source": [
    "# Step 1: Define an Observer interface (what every subscriber must implement)\n",
    "from abc import ABC, abstractmethod\n",
    "\n",
    "class Observer(ABC):\n",
    "    @abstractmethod\n",
    "    def update(self, symbol: str, price: float) -> None:\n",
    "        ...\n",
    "\n",
    "# Step 2: Create a Subject base that manages subscribers\n",
    "class Subject:\n",
    "    def __init__(self):\n",
    "        self._observers: list[Observer] = []\n",
    "\n",
    "    def attach(self, observer: Observer) -> None:\n",
    "        self._observers.append(observer)\n",
    "\n",
    "    def detach(self, observer: Observer) -> None:\n",
    "        self._observers.remove(observer)\n",
    "\n",
    "    def _notify(self, symbol: str, price: float) -> None:\n",
    "        for obs in list(self._observers):\n",
    "            print(\"obs=>\",obs)\n",
    "            obs.update(symbol, price)\n",
    "\n",
    "# Step 3: Concrete Subject – the stock feed that changes over time\n",
    "class StockFeed(Subject):\n",
    "    def __init__(self, symbol: str, price: float):\n",
    "        super().__init__()\n",
    "        self.symbol = symbol\n",
    "        self._price = price\n",
    "\n",
    "    @property\n",
    "    def price(self) -> float:\n",
    "        return self._price\n",
    "\n",
    "    def set_price(self, new_price: float) -> None:\n",
    "        if new_price == self._price:\n",
    "            return  # no change -> no spam\n",
    "        self._price = new_price\n",
    "        # Price changed -> notify all observers\n",
    "        self._notify(self.symbol, self._price)\n",
    "\n",
    "# Step 4: Concrete Observers – independent reactions\n",
    "class MobileApp(Observer):\n",
    "    def update(self, symbol: str, price: float) -> None:\n",
    "        print(f\"[Mobile] {symbol} updated: {price}\")\n",
    "\n",
    "class EmailAlert(Observer):\n",
    "    def __init__(self, threshold: float):\n",
    "        self.threshold = threshold\n",
    "\n",
    "    def update(self, symbol: str, price: float) -> None:\n",
    "        if price >= self.threshold:\n",
    "            print(f\"[Email] {symbol} crossed {self.threshold}: current {price}\")\n",
    "\n",
    "class AuditLogger(Observer):\n",
    "    def update(self, symbol: str, price: float) -> None:\n",
    "        print(f\"[Audit] Logged {symbol} -> {price}\")\n",
    "\n",
    "# Step 5: Wire it up and run\n",
    "if __name__ == \"__main__\":\n",
    "    feed = StockFeed(\"ACME\", 98.0)\n",
    "\n",
    "    mobile = MobileApp()\n",
    "    email = EmailAlert(threshold=100.0)\n",
    "    audit = AuditLogger()\n",
    "\n",
    "    # Subscribe observers at runtime\n",
    "    feed.attach(mobile)\n",
    "    feed.attach(email)\n",
    "    feed.attach(audit)\n",
    "\n",
    "    # State changes -> everyone gets notified\n",
    "    feed.set_price(99.0)\n",
    "\n"
   ]
  },
  {
   "cell_type": "markdown",
   "id": "2ac81c44",
   "metadata": {},
   "source": [
    "# Example - 2"
   ]
  },
  {
   "cell_type": "code",
   "execution_count": 3,
   "id": "e3d94b08",
   "metadata": {},
   "outputs": [
    {
     "name": "stdout",
     "output_type": "stream",
     "text": [
      "📧 Email Notification: Product is back in stock!\n",
      "📱 SMS Notification: Product is back in stock!\n"
     ]
    }
   ],
   "source": [
    "# Subject\n",
    "class Subject:\n",
    "    def __init__(self):\n",
    "        self._observers = []   # List of subscribers\n",
    "    \n",
    "    def attach(self, observer):\n",
    "        self._observers.append(observer)\n",
    "    \n",
    "    def detach(self, observer):\n",
    "        self._observers.remove(observer)\n",
    "    \n",
    "    def notify(self, message):\n",
    "        for observer in self._observers:\n",
    "            observer.update(message)\n",
    "\n",
    "# Observer Interface\n",
    "class Observer:\n",
    "    def update(self, message):\n",
    "        pass\n",
    "\n",
    "# Concrete Observers\n",
    "class EmailObserver(Observer):\n",
    "    def update(self, message):\n",
    "        print(f\"📧 Email Notification: {message}\")\n",
    "\n",
    "class SMSObserver(Observer):\n",
    "    def update(self, message):\n",
    "        print(f\"📱 SMS Notification: {message}\")\n",
    "\n",
    "# Usage\n",
    "if __name__ == \"__main__\":\n",
    "    subject = Subject()\n",
    "\n",
    "    email = EmailObserver()\n",
    "    sms = SMSObserver()\n",
    "\n",
    "    subject.attach(email)\n",
    "    subject.attach(sms)\n",
    "\n",
    "    subject.notify(\"Product is back in stock!\")\n"
   ]
  },
  {
   "cell_type": "markdown",
   "id": "7f7eb207",
   "metadata": {},
   "source": [
    "# State Design Pattern"
   ]
  },
  {
   "cell_type": "code",
   "execution_count": 6,
   "id": "1ba24197",
   "metadata": {},
   "outputs": [
    {
     "name": "stdout",
     "output_type": "stream",
     "text": [
      "Card inserted.\n",
      "PIN correct.\n",
      "Dispensing 500.\n",
      "Card ejected.\n"
     ]
    }
   ],
   "source": [
    "from abc import ABC, abstractmethod\n",
    "\n",
    "# ----- State Interface -----\n",
    "class ATMState(ABC):\n",
    "    @abstractmethod\n",
    "    def insert_card(self):\n",
    "        pass\n",
    "\n",
    "    @abstractmethod\n",
    "    def eject_card(self):\n",
    "        pass\n",
    "\n",
    "    @abstractmethod\n",
    "    def enter_pin(self, pin):\n",
    "        pass\n",
    "\n",
    "    @abstractmethod\n",
    "    def withdraw_cash(self, amount):\n",
    "        pass\n",
    "\n",
    "# ----- Concrete States -----\n",
    "class NoCardState(ATMState):\n",
    "    def __init__(self, atm_machine):\n",
    "        self.atm_machine = atm_machine\n",
    "\n",
    "    def insert_card(self):\n",
    "        print(\"Card inserted.\")\n",
    "        self.atm_machine.set_state(self.atm_machine.has_card_state)\n",
    "\n",
    "    def eject_card(self):\n",
    "        print(\"No card to eject.\")\n",
    "\n",
    "    def enter_pin(self, pin):\n",
    "        print(\"Insert a card first.\")\n",
    "\n",
    "    def withdraw_cash(self, amount):\n",
    "        print(\"Insert a card first.\")\n",
    "\n",
    "class HasCardState(ATMState):\n",
    "    def __init__(self, atm_machine):\n",
    "        self.atm_machine = atm_machine\n",
    "\n",
    "    def insert_card(self):\n",
    "        print(\"Card already inserted.\")\n",
    "\n",
    "    def eject_card(self):\n",
    "        print(\"Card ejected.\")\n",
    "        self.atm_machine.set_state(self.atm_machine.no_card_state)\n",
    "\n",
    "    def enter_pin(self, pin):\n",
    "        if pin == 1234:\n",
    "            print(\"PIN correct.\")\n",
    "            self.atm_machine.set_state(self.atm_machine.authenticated_state)\n",
    "        else:\n",
    "            print(\"PIN incorrect. Ejecting card.\")\n",
    "            self.atm_machine.set_state(self.atm_machine.no_card_state)\n",
    "\n",
    "    def withdraw_cash(self, amount):\n",
    "        print(\"Enter PIN first.\")\n",
    "\n",
    "class AuthenticatedState(ATMState):\n",
    "    def __init__(self, atm_machine):\n",
    "        self.atm_machine = atm_machine\n",
    "\n",
    "    def insert_card(self):\n",
    "        print(\"Card already inserted and authenticated.\")\n",
    "\n",
    "    def eject_card(self):\n",
    "        print(\"Card ejected.\")\n",
    "        self.atm_machine.set_state(self.atm_machine.no_card_state)\n",
    "\n",
    "    def enter_pin(self, pin):\n",
    "        print(\"Already authenticated.\")\n",
    "\n",
    "    def withdraw_cash(self, amount):\n",
    "        print(f\"Dispensing {amount}.\")\n",
    "        self.eject_card()\n",
    "\n",
    "# ----- Context -----\n",
    "class ATMMachine:\n",
    "    def __init__(self):\n",
    "        self.no_card_state = NoCardState(self)\n",
    "        self.has_card_state = HasCardState(self)\n",
    "        self.authenticated_state = AuthenticatedState(self)\n",
    "\n",
    "        self.current_state = self.no_card_state\n",
    "\n",
    "    def set_state(self, state):\n",
    "        self.current_state = state\n",
    "\n",
    "    def insert_card(self):\n",
    "        self.current_state.insert_card()\n",
    "\n",
    "    def eject_card(self):\n",
    "        self.current_state.eject_card()\n",
    "\n",
    "    def enter_pin(self, pin):\n",
    "        self.current_state.enter_pin(pin)\n",
    "\n",
    "    def withdraw_cash(self, amount):\n",
    "        self.current_state.withdraw_cash(amount)\n",
    "\n",
    "# ----- Usage -----\n",
    "if __name__ == \"__main__\":\n",
    "    atm = ATMMachine()\n",
    "\n",
    "    atm.insert_card()\n",
    "    atm.enter_pin(1234)\n",
    "    atm.withdraw_cash(500)\n"
   ]
  },
  {
   "cell_type": "markdown",
   "id": "195c33b7",
   "metadata": {},
   "source": [
    "# Example -2"
   ]
  },
  {
   "cell_type": "code",
   "execution_count": 4,
   "id": "d847b781",
   "metadata": {},
   "outputs": [
    {
     "name": "stdout",
     "output_type": "stream",
     "text": [
      "ATM is idle. Please insert card.\n",
      "Card inserted. Please enter PIN.\n",
      "PIN entered. You can withdraw cash now.\n",
      "ATM is idle. Please insert card.\n"
     ]
    }
   ],
   "source": [
    "from abc import ABC, abstractmethod\n",
    "\n",
    "# --- State Interface ---\n",
    "class State(ABC):\n",
    "    @abstractmethod\n",
    "    def handle(self, context):\n",
    "        pass\n",
    "\n",
    "\n",
    "# --- Concrete States ---\n",
    "class IdleState(State):\n",
    "    def handle(self, context):\n",
    "        print(\"ATM is idle. Please insert card.\")\n",
    "        context.state = HasCardState()   # Change to next state\n",
    "\n",
    "\n",
    "class HasCardState(State):\n",
    "    def handle(self, context):\n",
    "        print(\"Card inserted. Please enter PIN.\")\n",
    "        context.state = PinEnteredState()\n",
    "\n",
    "\n",
    "class PinEnteredState(State):\n",
    "    def handle(self, context):\n",
    "        print(\"PIN entered. You can withdraw cash now.\")\n",
    "        context.state = IdleState()  # After transaction, go back to idle\n",
    "\n",
    "\n",
    "# --- Context (ATM Machine) ---\n",
    "class ATMContext:\n",
    "    def __init__(self):\n",
    "        self.state = IdleState()  # Initial state\n",
    "    \n",
    "    def request(self):\n",
    "        self.state.handle(self)   # Delegate work to current state\n",
    "\n",
    "\n",
    "# --- Usage ---\n",
    "if __name__ == \"__main__\":\n",
    "    atm = ATMContext()\n",
    "    \n",
    "    atm.request()  # Idle → Insert card\n",
    "    atm.request()  # HasCard → Enter PIN\n",
    "    atm.request()  # PinEntered → Withdraw cash\n",
    "    atm.request()  # Back to Idle\n"
   ]
  },
  {
   "cell_type": "markdown",
   "id": "23092112",
   "metadata": {},
   "source": [
    "# Example -3 "
   ]
  },
  {
   "cell_type": "code",
   "execution_count": 8,
   "id": "c3747bae",
   "metadata": {},
   "outputs": [
    {
     "name": "stdout",
     "output_type": "stream",
     "text": [
      "✅ Login successful! Welcome back.\n",
      "⛔ Account is suspended. Contact support.\n",
      "❌ Account is closed permanently. No login allowed.\n"
     ]
    }
   ],
   "source": [
    "from abc import ABC, abstractmethod\n",
    "\n",
    "\n",
    "# --- State Interface ---\n",
    "class AccountState(ABC):\n",
    "    @abstractmethod\n",
    "    def login(self, context):\n",
    "        pass\n",
    "\n",
    "\n",
    "# --- Concrete States ---\n",
    "class ActiveState(AccountState):\n",
    "    def login(self, context):\n",
    "        print(\"✅ Login successful! Welcome back.\")\n",
    "        \n",
    "\n",
    "class SuspendedState(AccountState):\n",
    "    def login(self, context):\n",
    "        print(\"⛔ Account is suspended. Contact support.\")\n",
    "\n",
    "\n",
    "class ClosedState(AccountState):\n",
    "    def login(self, context):\n",
    "        print(\"❌ Account is closed permanently. No login allowed.\")\n",
    "\n",
    "\n",
    "# --- Context (User Account) ---\n",
    "class UserAccount:\n",
    "    def __init__(self, state: AccountState):\n",
    "        self.state = state  # Current state\n",
    "    \n",
    "    def set_state(self, state: AccountState):\n",
    "        self.state = state\n",
    "    \n",
    "    def login(self):\n",
    "        self.state.login(self)\n",
    "\n",
    "\n",
    "# --- Usage Example ---\n",
    "if __name__ == \"__main__\":\n",
    "    # User account initially active\n",
    "    user = UserAccount(ActiveState())\n",
    "    user.login()   # ✅ Login successful\n",
    "\n",
    "    # Change to suspended\n",
    "    user.set_state(SuspendedState())\n",
    "    user.login()   # ⛔ Suspended\n",
    "\n",
    "    # Change to closed\n",
    "    user.set_state(ClosedState())\n",
    "    user.login()   # ❌ Closed\n"
   ]
  },
  {
   "cell_type": "code",
   "execution_count": null,
   "id": "f4dcde1c",
   "metadata": {},
   "outputs": [],
   "source": [
    "class Permission(ABC):\n",
    "    @abstractmethod\n",
    "    def validate_user(self):\n",
    "        pass "
   ]
  },
  {
   "cell_type": "code",
   "execution_count": null,
   "id": "8acaad10",
   "metadata": {},
   "outputs": [],
   "source": []
  }
 ],
 "metadata": {
  "kernelspec": {
   "display_name": "Python 3",
   "language": "python",
   "name": "python3"
  },
  "language_info": {
   "codemirror_mode": {
    "name": "ipython",
    "version": 3
   },
   "file_extension": ".py",
   "mimetype": "text/x-python",
   "name": "python",
   "nbconvert_exporter": "python",
   "pygments_lexer": "ipython3",
   "version": "3.11.4"
  }
 },
 "nbformat": 4,
 "nbformat_minor": 5
}

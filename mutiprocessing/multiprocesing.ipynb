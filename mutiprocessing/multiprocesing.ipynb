{
 "cells": [
  {
   "cell_type": "markdown",
   "id": "7c003a4e",
   "metadata": {},
   "source": [
    "### What is multiprocessing in Python?\n",
    "- Multiprocessing is a package in Python that allows the creation of multiple processes that run concurrently. It enables true parallelism by using separate memory space and CPU cores, unlike threading which is constrained by the GIL.\n",
    "\n",
    "### Why is multiprocessing used in Python?\n",
    "- It is used to perform CPU-bound tasks concurrently, utilizing multiple CPU cores. This overcomes the limitations of the Global Interpreter Lock (GIL), which prevents multiple threads from executing Python bytecodes simultaneously.\n",
    "\n",
    "### What if you forget to call join()?\n",
    "- The main program may exit before the child processes complete, leading to incomplete execution or orphaned processes.\n",
    "\n",
    "\n",
    "## What is the difference between daemon and non-daemon processes?\n",
    "\n",
    "- Daemon: Killed when the main program exits.\n",
    "- Non-daemon: Main program waits for them to finish.\n",
    "\n",
    "### What is a deadlock? How can you avoid it in multiprocessing?\n",
    "\n",
    "- A deadlock occurs when two or more processes are waiting for each other to release resources, causing all to freeze.\n",
    "\n",
    "#### Avoidance techniques:\n",
    "\n",
    "- Acquire locks in a consistent order.\n",
    "\n",
    "- Use timeout in acquire().\n",
    "\n",
    "- Minimize the critical section."
   ]
  },
  {
   "cell_type": "code",
   "execution_count": 1,
   "id": "f1567b56",
   "metadata": {},
   "outputs": [
    {
     "name": "stdout",
     "output_type": "stream",
     "text": [
      "STDOUT:\n",
      " 0\n",
      "a\n",
      "1\n",
      "b\n",
      "2\n",
      "c\n",
      "3\n",
      "d\n",
      "4\n",
      "e\n",
      "Total execution time: 5.18 seconds\n",
      "\n",
      "STDERR:\n",
      " \n"
     ]
    }
   ],
   "source": [
    "import subprocess\n",
    "import sys\n",
    "\n",
    "# Run the file with the same Python interpreter\n",
    "result = subprocess.run([sys.executable, \"example1.py\"], capture_output=True, text=True)\n",
    "\n",
    "print(\"STDOUT:\\n\", result.stdout)\n",
    "print(\"STDERR:\\n\", result.stderr)\n"
   ]
  },
  {
   "cell_type": "code",
   "execution_count": 3,
   "id": "8d1b311b",
   "metadata": {},
   "outputs": [
    {
     "name": "stdout",
     "output_type": "stream",
     "text": [
      "STDOUT:\n",
      " 0\n",
      "a\n",
      "1\n",
      "b\n",
      "2\n",
      "c\n",
      "3\n",
      "d\n",
      "4\n",
      "e\n",
      "Total execution time: 5.30 seconds\n",
      "\n",
      "STDERR:\n",
      " \n"
     ]
    }
   ],
   "source": [
    "import subprocess\n",
    "import sys\n",
    "\n",
    "# Run the file with the same Python interpreter\n",
    "result = subprocess.run([sys.executable, \"example2.py\"], capture_output=True, text=True)\n",
    "\n",
    "print(\"STDOUT:\\n\", result.stdout)\n",
    "print(\"STDERR:\\n\", result.stderr)\n"
   ]
  },
  {
   "cell_type": "code",
   "execution_count": 9,
   "id": "1fe30e5e",
   "metadata": {},
   "outputs": [
    {
     "name": "stdout",
     "output_type": "stream",
     "text": [
      "STDOUT:\n",
      " Task 1 running in process ID: 13208\n",
      "Task 2 running in process ID: 14752\n",
      "Task 3 running in process ID: 7572\n",
      "Task 4 running in process ID: 4028\n",
      "Task 5 running in process ID: 7792\n",
      "Task 4 done\n",
      "Task 2 done\n",
      "Task 3 done\n",
      "Task 1 done\n",
      "Task 5 done\n",
      "Total execution time: 1.88 seconds\n",
      "\n",
      "STDERR:\n",
      " \n"
     ]
    }
   ],
   "source": [
    "import subprocess\n",
    "import sys\n",
    "\n",
    "# Run the file with the same Python interpreter\n",
    "result = subprocess.run([sys.executable, \"example3.py\"], capture_output=True, text=True)\n",
    "\n",
    "print(\"STDOUT:\\n\", result.stdout)\n",
    "print(\"STDERR:\\n\", result.stderr)\n"
   ]
  },
  {
   "cell_type": "code",
   "execution_count": null,
   "id": "13a2eebc",
   "metadata": {},
   "outputs": [],
   "source": []
  }
 ],
 "metadata": {
  "kernelspec": {
   "display_name": "Python 3",
   "language": "python",
   "name": "python3"
  },
  "language_info": {
   "codemirror_mode": {
    "name": "ipython",
    "version": 3
   },
   "file_extension": ".py",
   "mimetype": "text/x-python",
   "name": "python",
   "nbconvert_exporter": "python",
   "pygments_lexer": "ipython3",
   "version": "3.11.4"
  }
 },
 "nbformat": 4,
 "nbformat_minor": 5
}

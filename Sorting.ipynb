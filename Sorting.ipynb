{
 "cells": [
  {
   "cell_type": "code",
   "execution_count": 1,
   "id": "3cbb0b47",
   "metadata": {},
   "outputs": [],
   "source": [
    "# Problem statment 1\n"
   ]
  },
  {
   "cell_type": "code",
   "execution_count": 4,
   "id": "f8c7bd6f",
   "metadata": {},
   "outputs": [
    {
     "data": {
      "text/plain": [
       "'\\nBEGIN\\n    FUNCTION bubble_sort(arr)\\n        FOR i FROM 0 TO LENGTH(arr) - 1:\\n            FOR j FROM 0 TO LENGTH(arr) - i - 2:\\n                IF arr[j] > arr[j + 1]:\\n                    SWAP arr[j] AND arr[j + 1]\\n        END FOR\\n    END FOR\\n        RETURN arr\\n    END FUNCTION\\nEND\\n'"
      ]
     },
     "execution_count": 4,
     "metadata": {},
     "output_type": "execute_result"
    }
   ],
   "source": [
    "\"\"\"\n",
    "BEGIN\n",
    "    FUNCTION bubble_sort(arr)\n",
    "        FOR i FROM 0 TO LENGTH(arr) - 1:\n",
    "            FOR j FROM 0 TO LENGTH(arr) - i - 2:\n",
    "                IF arr[j] > arr[j + 1]:\n",
    "                    SWAP arr[j] AND arr[j + 1]\n",
    "        END FOR\n",
    "    END FOR\n",
    "        RETURN arr\n",
    "    END FUNCTION\n",
    "END\n",
    "\"\"\""
   ]
  },
  {
   "cell_type": "code",
   "execution_count": 5,
   "id": "20d53807",
   "metadata": {},
   "outputs": [
    {
     "data": {
      "text/plain": [
       "[1, 2, 3, 4]"
      ]
     },
     "execution_count": 5,
     "metadata": {},
     "output_type": "execute_result"
    }
   ],
   "source": [
    "def bubble_sort(lst):\n",
    "    # Your code goes here\n",
    "    for i in range(len(lst)):\n",
    "        swap = False\n",
    "        for j in range(len(lst)-i-1):\n",
    "            if lst[j]>lst[j+1]:\n",
    "                lst[j],lst[j+1]=lst[j+1],lst[j]\n",
    "                swap = True\n",
    "        if not swap:\n",
    "            break\n",
    "    return lst\n",
    "\n",
    "bubble_sort([4,3,2,1])"
   ]
  },
  {
   "cell_type": "code",
   "execution_count": 6,
   "id": "de28286d",
   "metadata": {},
   "outputs": [],
   "source": [
    "# Problem statment 2"
   ]
  },
  {
   "cell_type": "code",
   "execution_count": null,
   "id": "034aacff",
   "metadata": {},
   "outputs": [],
   "source": [
    "\"\"\"\n",
    "BEGIN\n",
    "    FOR i FROM 0 TO LENGTH(arr):\n",
    "        SET min_index = i\n",
    "        FOR j FROM 1 to LENGTH(arr):\n",
    "            IF arr[j] < arr[min_index]:\n",
    "                SET min_index = j\n",
    "        END FOR\n",
    "    SWAP arr[i] AND arr[min_index]\n",
    "    END FOR\n",
    "END \n",
    "\"\"\""
   ]
  },
  {
   "cell_type": "code",
   "execution_count": null,
   "id": "067dcf71",
   "metadata": {},
   "outputs": [
    {
     "name": "stdout",
     "output_type": "stream",
     "text": [
      "lst: [15, 25, 12, 22, 11]\n",
      "lst: [11, 25, 12, 22, 15]\n",
      "lst: [11, 12, 25, 22, 15]\n",
      "lst: [11, 12, 15, 22, 25]\n",
      "lst: [11, 12, 15, 22, 25]\n",
      "[11, 12, 15, 22, 25]\n"
     ]
    }
   ],
   "source": [
    "lst = [15, 25, 12, 22, 11]\n",
    "def selection_sort(lst):\n",
    "    for i in range(len(lst)):\n",
    "        min_index = i\n",
    "        for j in range(i+1, len(lst)):\n",
    "            if lst[j] < lst[min_index]:\n",
    "                min_index = j\n",
    "        lst[i], lst[min_index] = lst[min_index], lst[i]\n",
    "    return lst\n",
    "result = selection_sort(lst)\n",
    "print(result)  "
   ]
  },
  {
   "cell_type": "code",
   "execution_count": 11,
   "id": "48f0dd84",
   "metadata": {},
   "outputs": [],
   "source": [
    "# bubble sort can be used to find the kth largest element in an array\n",
    "# selection sort can be used to find the kth smallest element in an array"
   ]
  },
  {
   "cell_type": "code",
   "execution_count": null,
   "id": "f4bfc997",
   "metadata": {},
   "outputs": [],
   "source": []
  }
 ],
 "metadata": {
  "kernelspec": {
   "display_name": "Python 3",
   "language": "python",
   "name": "python3"
  },
  "language_info": {
   "codemirror_mode": {
    "name": "ipython",
    "version": 3
   },
   "file_extension": ".py",
   "mimetype": "text/x-python",
   "name": "python",
   "nbconvert_exporter": "python",
   "pygments_lexer": "ipython3",
   "version": "3.11.4"
  }
 },
 "nbformat": 4,
 "nbformat_minor": 5
}

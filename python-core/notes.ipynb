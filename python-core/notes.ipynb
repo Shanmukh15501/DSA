{
 "cells": [
  {
   "cell_type": "markdown",
   "id": "b9ff42e0",
   "metadata": {},
   "source": [
    "# Difference btw List and Tuple"
   ]
  },
  {
   "cell_type": "markdown",
   "id": "475fcec3",
   "metadata": {},
   "source": [
    "## List\n",
    "- It is Mutable\n",
    "- Data insertion and deletion is fast\n",
    "- Consumes more memory\n",
    "- Iterations are slow\n",
    "- Example :- a=[1,2,3]\n",
    "## Tuple\n",
    "- It is immutable \n",
    "- Data insertion and deletion is slow\n",
    "- Consumes less memory\n",
    "- Iterations are fast\n",
    "- Example :- a =(1,2,)\n",
    "\n",
    "## Key Points\n",
    "- Mutable → you can modify the object’s contents without changing its identity (id() stays same).\n",
    "- Immutable → any “change” actually creates a new object in memory.\n",
    "\n",
    "\n",
    "## Mutable vs Immutable in Python (Point-wise)\n",
    "\n",
    "- Mutable objects: list, set, dict\n",
    "\n",
    "- Immutable objects: bool, int, float, str, tuple, frozenset\n",
    "\n",
    "- Whenever we are talking about mutable and immutable we are talking about references pointed\n",
    "\n",
    "- Immutable behavior: Cannot be changed in-place; modifying creates a new object → id changes.\n",
    "\n",
    "- Mutable behavior: Can be changed in-place; modifying does not change the id.\n",
    "\n",
    "- Heap memory: Both mutable and immutable objects are stored in heap memory.\n",
    "\n",
    "- Object creation:\n",
    "\n",
    "- Immutable: same value may point to the same object (e.g., small integers, interned strings).\n",
    "\n",
    "- Mutable: every new object, even with identical content, has a new heap location.\n",
    "\n",
    "- Reference counting: Python tracks references to all objects to manage garbage collection.\n",
    "\n",
    "- Tuple is immutable but elements in tuple can be updated if its a mutable data-type"
   ]
  },
  {
   "cell_type": "code",
   "execution_count": 36,
   "id": "1024ade8",
   "metadata": {},
   "outputs": [
    {
     "name": "stdout",
     "output_type": "stream",
     "text": [
      "140710045738056 140710045738056\n",
      "1994736160192 1994727939328\n",
      "1994727966128 shanu\n",
      "1994729220656 thanu\n",
      "1994729222528 (1, 2, [1])\n",
      "1994729222528 (1, 2, [1, 3])\n"
     ]
    }
   ],
   "source": [
    "a=10\n",
    "b=10\n",
    "print(id(a),id(b))\n",
    "c=[1,2,3]\n",
    "d=[1,2,3]\n",
    "print(id(c),id(d))\n",
    "e='shanu'\n",
    "print(id(e),e)\n",
    "e = e.replace('s','t')\n",
    "print(id(e),e)\n",
    "f = (1,2,[1])\n",
    "print(id(f),f)\n",
    "f[2].append(3)\n",
    "print(id(f),f)"
   ]
  },
  {
   "cell_type": "markdown",
   "id": "1fd2837a",
   "metadata": {},
   "source": [
    "# What is decorator Give an example\n",
    "- A function that takes another function as input, modifies or extends its behavior, and returns a new function.\n",
    "- Decorators let you add functionality to an existing function without changing its code"
   ]
  },
  {
   "cell_type": "code",
   "execution_count": null,
   "id": "a76174b4",
   "metadata": {},
   "outputs": [
    {
     "name": "stdout",
     "output_type": "stream",
     "text": [
      "HELLO THIS IS SHANMUKH ADARI\n"
     ]
    }
   ],
   "source": [
    "# without using @\n",
    "def function1(text):\n",
    "    return text.upper()\n",
    "def function2(text):\n",
    "    return text.lower()\n",
    "\n",
    "def greetings(selector,message):\n",
    "    return selector(message)\n",
    "\n",
    "result = greetings(function1,\"hello this is shanmukh ADARI\")\n",
    "print(result)\n",
    "    "
   ]
  },
  {
   "cell_type": "code",
   "execution_count": null,
   "id": "39da79af",
   "metadata": {},
   "outputs": [
    {
     "name": "stdout",
     "output_type": "stream",
     "text": [
      "HELLO THIS IS SHANMUKH ADARI\n"
     ]
    }
   ],
   "source": [
    "def uppercase(func):\n",
    "    def wrapper(*args,**kwargs):\n",
    "        result =  func(*args,**kwargs)\n",
    "        result = result.upper()\n",
    "        return result\n",
    "    return wrapper\n",
    "\n",
    "@uppercase\n",
    "def greetings(text):\n",
    "    return text\n",
    "\n",
    "result = greetings(\"hello this is shanmukh ADARI\")\n",
    "print(result)\n"
   ]
  },
  {
   "cell_type": "code",
   "execution_count": 8,
   "id": "f6f8b0d3",
   "metadata": {},
   "outputs": [
    {
     "name": "stdout",
     "output_type": "stream",
     "text": [
      "{'sum': 6, 'time_taken': 5.01462197303772}\n"
     ]
    }
   ],
   "source": [
    "# Lets build time consuming decorator \n",
    "import time\n",
    "\n",
    "def timestamp(func):\n",
    "    def wrapper(*args,**kwargs):\n",
    "        start_time =  time.time()\n",
    "        result = func(*args,**kwargs)\n",
    "        total_time = time.time() - start_time\n",
    "        if isinstance(result,dict):\n",
    "            result.update({\"time_taken\":total_time})\n",
    "        return result\n",
    "    return wrapper\n",
    "@timestamp\n",
    "def add_num(a=1,b=4):\n",
    "    time.sleep(5)\n",
    "    return {\"sum\":a+b}\n",
    "\n",
    "print(add_num(2,4))"
   ]
  },
  {
   "cell_type": "markdown",
   "id": "bb22e5c3",
   "metadata": {},
   "source": [
    "# List and Dict Comprehension"
   ]
  },
  {
   "cell_type": "code",
   "execution_count": 20,
   "id": "7f3c7221",
   "metadata": {},
   "outputs": [
    {
     "name": "stdout",
     "output_type": "stream",
     "text": [
      "[0, 2, 4, 6, 8]\n",
      "[0, 1, 2, 3, 4, 5, 6, 7, 8, 9]\n",
      "[0, -1, 2, -3, 4, -5, 6, -7, 8, -9]\n",
      "{0: 0, 1: 1, 2: 4, 3: 9, 4: 16, 5: 25, 6: 36, 7: 49, 8: 64, 9: 81}\n",
      "{0: 0, 2: 4, 4: 16, 6: 36, 8: 64}\n",
      "{0: 0, 1: 1, 2: 4, 3: 27, 4: 16, 5: 125}\n"
     ]
    }
   ],
   "source": [
    "a = [i for i in range(10) if i % 2 == 0]\n",
    "print(a)\n",
    "a = [i for i in range(10)]\n",
    "print(a)\n",
    "a = [i if i % 2 == 0 else -i for i in range(10)]\n",
    "print(a)\n",
    "\n",
    "# dictionary comprehension \n",
    "d = {i:i*i for i in range(10)}\n",
    "print(d)\n",
    "d = {i: i*i for i in range(10) if i % 2 == 0}\n",
    "print(d)\n",
    "d = {i: (i*i if i % 2 == 0 else i**3) for i in range(6)}\n",
    "print(d)\n"
   ]
  },
  {
   "cell_type": "markdown",
   "id": "af73aa88",
   "metadata": {},
   "source": [
    "# Memory Management in python\n",
    "## Types of Memory\n",
    "### Stack Memory\n",
    "\n",
    "- Stores references to objects, function calls, and local variables.\n",
    "- LIFO (Last-In-First-Out) structure.\n",
    "\n",
    "## Heap Memory\n",
    "- Stores actual objects (values, lists, dicts, custom objects, etc.).\n",
    "- Python manages heap memory automatically.\n",
    "\n",
    "\n",
    "### What is Reference Counting?\n",
    "\n",
    "- Python uses reference counting as a primary memory management technique.\n",
    "\n",
    "- Every object in memory has a reference count, which keeps track of how many variables are pointing to it.\n",
    "\n",
    "- When the reference count drops to 0, the object becomes unreachable, and Python automatically deletes it (garbage collection).\n",
    "\n",
    "### Garbage Collection (GC)\n",
    "\n",
    "- When an object’s reference count becomes 0, it becomes unreachable → Python can delete it automatically.\n",
    "\n",
    "- Python also has a cyclic garbage collector for objects referencing each other (like cycles in lists/dicts).\n",
    "\n"
   ]
  },
  {
   "cell_type": "code",
   "execution_count": 24,
   "id": "69b56c80",
   "metadata": {},
   "outputs": [
    {
     "name": "stdout",
     "output_type": "stream",
     "text": [
      "2\n",
      "3\n",
      "2\n"
     ]
    }
   ],
   "source": [
    "import sys\n",
    "\n",
    "a = [1, 2, 3]        # create a list object\n",
    "print(sys.getrefcount(a))  # e.g. 2\n",
    "\n",
    "b = a                 # assign another reference\n",
    "print(sys.getrefcount(a))  # e.g. 3\n",
    "\n",
    "del b                 # remove one reference\n",
    "print(sys.getrefcount(a))  # back to 2\n",
    "\n",
    "del a                 # no references left → object can be garbage collected\n",
    "\n"
   ]
  },
  {
   "cell_type": "code",
   "execution_count": 25,
   "id": "341f0bd8",
   "metadata": {},
   "outputs": [],
   "source": [
    "import gc\n",
    "\n",
    "gc.enable()   # Enable automatic garbage collection\n",
    "gc.disable()  # Disable automatic garbage collection"
   ]
  },
  {
   "cell_type": "markdown",
   "id": "8038dce8",
   "metadata": {},
   "source": [
    "# Generators in Python \n",
    "- Generators are special iterators that yield items one at a time instead of returning all items at once.\n",
    "- They generate values lazily, saving memory.\n",
    "- They are python functions with a yield key word, all iterators are generators\n",
    "## Key Keywords:\n",
    "- yield → used inside a function to produce a value and pause the function’s state.\n",
    "- next() → used to get the next value from a generator.\n",
    "## Memory Efficiency:\n",
    "- Unlike lists, generators do not store all values in memory.\n",
    "- Useful for large datasets or infinite sequences.\n",
    "- Each yield pauses the function, returning a value.\n",
    "- The state of the function is saved, so it resumes from the next statement on the next next() call."
   ]
  },
  {
   "cell_type": "code",
   "execution_count": 52,
   "id": "5cd25d29",
   "metadata": {},
   "outputs": [
    {
     "name": "stdout",
     "output_type": "stream",
     "text": [
      "f-1 0\n",
      "f-1 1\n",
      "f-2 hello\n",
      "f-2 shanu\n",
      "f-2 sai\n",
      "Returned value: 23\n",
      "f-3 0\n",
      "f-3 1\n",
      "f-3 2\n",
      "f-3 3\n",
      "f-3 4\n",
      "f-3 5\n",
      "f-3 6\n",
      "f-3 7\n",
      "f-4 ON\n",
      "f-4 OFF\n",
      "f-4 ON\n",
      "f-4 OFF\n",
      "f-4 ON\n"
     ]
    }
   ],
   "source": [
    "# In Python we have range object which returns a generator\n",
    "\n",
    "gen = (x**2 for x in range(5))\n",
    "print('f-1',next(gen))  # 0\n",
    "print('f-1',next(gen))  # 1\n",
    "\n",
    "#2️⃣ Generator Function with yield\n",
    "\n",
    "def get_result():\n",
    "    yield \"hello\"\n",
    "    yield \"shanu\"\n",
    "    a = 21\n",
    "    b = 2\n",
    "    yield \"sai\"\n",
    "    c = a + b\n",
    "    return c\n",
    "\n",
    "gen1 = get_result()\n",
    "\n",
    "print('f-2',next(gen1))  # hello\n",
    "print('f-2',next(gen1))  # shanu\n",
    "print('f-2',next(gen1))  # sai\n",
    "try:\n",
    "    next(gen1)\n",
    "except StopIteration as e:\n",
    "    print(\"Returned value:\", e.value)  # 23\n",
    "\n",
    "#3 How to write an infinite generator\n",
    "\n",
    "def infinite_numbers(start=0):\n",
    "    n = start\n",
    "    while True:          # loop runs forever\n",
    "        yield n\n",
    "        n += 1\n",
    "\n",
    "gen = infinite_numbers()\n",
    "\n",
    "print('f-3',next(gen))  # 0\n",
    "print('f-3',next(gen))  # 1\n",
    "print('f-3',next(gen))  # 2\n",
    "print('f-3',next(gen))  # 3\n",
    "print('f-3',next(gen))  # 4\n",
    "print('f-3',next(gen))  # 5\n",
    "print('f-3',next(gen))  # 6\n",
    "print('f-3',next(gen))  # 7\n",
    "\n",
    "#4 Infinte Toggle\n",
    "\n",
    "def toggle():\n",
    "    while(True):\n",
    "        yield \"ON\"\n",
    "        yield \"OFF\"\n",
    "\n",
    "gen = toggle()\n",
    "\n",
    "print('f-4',next(gen))\n",
    "print('f-4',next(gen))\n",
    "print('f-4',next(gen))\n",
    "print('f-4',next(gen))\n",
    "print('f-4',next(gen))"
   ]
  },
  {
   "cell_type": "code",
   "execution_count": 59,
   "id": "fe53e24a",
   "metadata": {},
   "outputs": [
    {
     "name": "stdout",
     "output_type": "stream",
     "text": [
      "First value\n",
      "Received: 10\n",
      "Second value\n",
      "Received: 30\n",
      "Generator finished.\n"
     ]
    }
   ],
   "source": [
    "# When a generator yields, Generators can receive values from the caller using the send() method. it can pause and accept a value that is assigned to the left-hand side of yield.\n",
    "# ✅ Key Points\n",
    "#A generator cannot be reused after exhaustion.\n",
    "#StopIteration is Python’s way of signaling the generator is done.\n",
    "#The .send() method behaves like next(), but also sends a value into the generator.\n",
    "\n",
    "def gen():\n",
    "    received = yield \"First value\"\n",
    "    print(\"Received:\", received)\n",
    "    received = yield \"Second value\"\n",
    "    print(\"Received:\", received)\n",
    "\n",
    "g = gen()\n",
    "\n",
    "print(next(g))   \n",
    "print(g.send(10))  \n",
    "try:\n",
    "    print(g.send(30))\n",
    "except StopIteration as e:\n",
    "    print(\"Generator finished.\")\n",
    "            \n"
   ]
  },
  {
   "cell_type": "code",
   "execution_count": null,
   "id": "1f70e66d",
   "metadata": {},
   "outputs": [],
   "source": []
  }
 ],
 "metadata": {
  "kernelspec": {
   "display_name": "Python 3",
   "language": "python",
   "name": "python3"
  },
  "language_info": {
   "codemirror_mode": {
    "name": "ipython",
    "version": 3
   },
   "file_extension": ".py",
   "mimetype": "text/x-python",
   "name": "python",
   "nbconvert_exporter": "python",
   "pygments_lexer": "ipython3",
   "version": "3.11.4"
  }
 },
 "nbformat": 4,
 "nbformat_minor": 5
}

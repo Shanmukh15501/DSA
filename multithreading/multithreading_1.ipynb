{
 "cells": [
  {
   "cell_type": "code",
   "execution_count": 1,
   "id": "86f6c507",
   "metadata": {},
   "outputs": [
    {
     "name": "stdout",
     "output_type": "stream",
     "text": [
      "0\n",
      "1\n",
      "2\n",
      "3\n",
      "4\n",
      "a\n",
      "b\n",
      "c\n",
      "d\n",
      "e\n",
      "Total execution time: 10.01 seconds\n"
     ]
    }
   ],
   "source": [
    "import time\n",
    "\n",
    "def print_numbers():\n",
    "    for i in range(5):\n",
    "        time.sleep(1)\n",
    "        print(i)\n",
    "\n",
    "def print_alphabets():\n",
    "    for i in ['a', 'b', 'c', 'd', 'e']:\n",
    "        time.sleep(1)\n",
    "        print(i)\n",
    "\n",
    "start_time = time.time()\n",
    "print_numbers()\n",
    "print_alphabets()\n",
    "end_time = time.time()\n",
    "total_time = end_time - start_time\n",
    "print(f\"Total execution time: {total_time:.2f} seconds\")"
   ]
  },
  {
   "cell_type": "markdown",
   "id": "ed0b0471",
   "metadata": {},
   "source": [
    "⛔ t1.join()\n",
    "This tells the main thread (your Python script) to pause and wait until Thread-1 is done.\n",
    "\n",
    "It doesn’t stop Thread-2. t2 can continue running in parallel.\n",
    "\n",
    "⛔ t2.join()\n",
    "After Thread-1 is done, this tells the main thread to now wait for Thread-2 to finish (if it's not done already)."
   ]
  },
  {
   "cell_type": "code",
   "execution_count": 6,
   "id": "c25270a4",
   "metadata": {},
   "outputs": [
    {
     "name": "stdout",
     "output_type": "stream",
     "text": [
      "a\n",
      "0\n",
      "b\n",
      "c\n",
      "1\n",
      "d\n",
      "e\n",
      "2\n",
      "3\n",
      "4\n",
      "woh Total execution time: 10.01 seconds\n"
     ]
    }
   ],
   "source": [
    "import threading\n",
    "import time\n",
    "\n",
    "def print_numbers():\n",
    "    for i in range(5):\n",
    "        time.sleep(2)\n",
    "        print(i)\n",
    "\n",
    "def print_alphabets():\n",
    "    for i in ['a', 'b', 'c', 'd', 'e']:\n",
    "        time.sleep(1)\n",
    "        print(i)\n",
    "            \n",
    "        \n",
    "# Create threads\n",
    "thread1 = threading.Thread(target=print_numbers, name=\"Thread-1\")\n",
    "thread2 = threading.Thread(target=print_alphabets, name=\"Thread-2\")\n",
    "\n",
    "start_time = time.time()\n",
    "\n",
    "# Start threads\n",
    "thread1.start()\n",
    "thread2.start()\n",
    "\n",
    "# Wait for threads to finish\n",
    "thread1.join()\n",
    "thread2.join()\n",
    "\n",
    "\n",
    "end_time = time.time()\n",
    "total_time = end_time - start_time\n",
    "\n",
    "print(f\"woh Total execution time: {total_time:.2f} seconds\")"
   ]
  },
  {
   "cell_type": "markdown",
   "id": "ef1dff74",
   "metadata": {},
   "source": [
    "| Thread Type           | Description                                                                     |\n",
    "| --------------------- | ------------------------------------------------------------------------------- |\n",
    "| **Daemon Thread**     | Background thread that is killed when the main thread ends. Optional task.      |\n",
    "| **Non-Daemon Thread** | Normal thread that keeps running and **blocks** program exit until it finishes. |\n"
   ]
  },
  {
   "cell_type": "markdown",
   "id": "98caebb2",
   "metadata": {},
   "source": [
    "| Feature / Aspect        | **CPU-bound Tasks**                                                 | **I/O-bound Tasks**                                 |\n",
    "| ----------------------- | ------------------------------------------------------------------- | --------------------------------------------------- |\n",
    "| **Definition**          | Tasks that use CPU heavily for computation                          | Tasks that spend time waiting for input/output      |\n",
    "| **Main Bottleneck**     | CPU (processing power)                                              | I/O (disk, network, DB, etc.)                       |\n",
    "| **Examples**            | - Complex math<br>- Image/video processing<br>- Sorting large lists | - File read/write<br>- Web scraping<br>- DB queries |\n",
    "| **GIL Impact**          | Major limitation in Python with threads                             | Less impact, threads can still switch on wait       |\n",
    "| **Best Tool**           | ✅ `multiprocessing` or `ProcessPoolExecutor`                        | ✅ `threading` or `ThreadPoolExecutor`               |\n",
    "| **Runs in Parallel?**   | ✅ Yes (via multiple processes)                                      | ❌ Not true parallelism (concurrent via threads)     |\n",
    "| **Runs Concurrently?**  | ❌ Not effectively with threads (GIL)                                | ✅ Yes, threads release GIL during I/O               |\n",
    "| **Use Multiple Cores?** | ✅ Yes (processes can use all CPU cores)                             | ❌ No (threads are limited by GIL)                   |\n",
    "| **Ideal Use Case**      | Heavy computation tasks                                             | Waiting on I/O or external response                 |\n"
   ]
  },
  {
   "cell_type": "markdown",
   "id": "3f5195c1",
   "metadata": {},
   "source": [
    "# ThreadPoolExecutor \n",
    "- The ThreadPoolExecutor (from concurrent.futures) is a high-level API that makes managing threads super simple, compared to manually starting and joining them.\n",
    "\n",
    "✅ Why use ThreadPoolExecutor?\n",
    "Instead of:\n",
    "\n",
    "- creating Thread() objects,\n",
    "\n",
    "- manually .start()ing them,\n",
    "\n",
    "- and calling .join()…\n",
    "\n",
    "- You can just submit tasks to a thread pool, and Python will handle the rest.\n",
    "\n",
    "- 🔒 1. A Thread Owns a Task Completely\n",
    "- That whole function is assigned to one thread Other threads will not “jump in” or “continue from where it paused”.\n",
    "\n",
    "\n"
   ]
  },
  {
   "cell_type": "code",
   "execution_count": 10,
   "id": "073943db",
   "metadata": {},
   "outputs": [
    {
     "name": "stdout",
     "output_type": "stream",
     "text": [
      "0\n",
      "a\n",
      "1\n",
      "b\n",
      "2\n",
      "c\n",
      "3\n",
      "d\n",
      "4\n",
      "e\n",
      "5\n",
      "6\n",
      "7\n",
      "8\n",
      "9\n",
      "Total execution time: 10.01 seconds\n"
     ]
    }
   ],
   "source": [
    "from concurrent.futures import ThreadPoolExecutor\n",
    "import time\n",
    "\n",
    "def print_numbers(n1,n2):\n",
    "    for i in range(n1+n2):\n",
    "        time.sleep(1)\n",
    "        print(i)\n",
    "\n",
    "def print_alphabets():\n",
    "    for i in ['a', 'b', 'c', 'd', 'e']:\n",
    "        time.sleep(1)\n",
    "        print(i)\n",
    "\n",
    "start_time = time.time()\n",
    "\n",
    "with ThreadPoolExecutor(max_workers=2) as executor:\n",
    "    executor.submit(print_numbers, 5,5)\n",
    "\n",
    "    executor.submit(print_alphabets)\n",
    "        \n",
    "\n",
    "end_time = time.time()\n",
    "print(f\"Total execution time: {end_time - start_time:.2f} seconds\")\n",
    "\n"
   ]
  },
  {
   "cell_type": "markdown",
   "id": "4d92c2b4",
   "metadata": {},
   "source": [
    "## ❓ What Is a Deadlock?\n",
    "- A deadlock happens when two or more threads wait for each other to release resources — but none ever do, so they all get stuck.\n",
    "-🧠 What is a Lock?\n",
    "-vA Lock in Python (from the threading module) is a mechanism to prevent multiple threads from accessing shared resources at the same time.\n",
    "- Think of a Lock like a door lock:\n",
    "- Only one thread can hold the lock (open the door).\n",
    "- Others must wait until the lock is released.\n",
    "## “If Python threads don’t run in parallel due to the GIL, why do we even need locks?”\n",
    "\n",
    "** Python Threads & the GIL\n",
    "- CPython (the default Python interpreter) uses a Global Interpreter Lock (GIL).\n",
    "- The GIL means: only one thread executes Python bytecode at a time, even if you have multiple cores.\n",
    "- So yes — Python threads don't do true parallelism for CPU-bound work. They do concurrency, not parallel execution.\n",
    "\n",
    "\n",
    "\n",
    "## So Why Use Locks?\n",
    "Because even concurrent access to shared variables can be unsafe.\n",
    "\n",
    "## GIL ≠ Thread-Safety\n",
    "- Even though only one thread runs at a time in the Python VM:\n",
    "- Python can switch threads in the middle of an operation.\n",
    "- This can break multi-step operations like counter += 1, which is:\n",
    "- Read counter\n",
    "- Add 1\n",
    "- Write back\n",
    "- These steps can be interrupted between, leading to a race condition."
   ]
  },
  {
   "cell_type": "code",
   "execution_count": 1,
   "id": "03314bef",
   "metadata": {},
   "outputs": [
    {
     "name": "stdout",
     "output_type": "stream",
     "text": [
      "Thread-A incremented counter to 1\n",
      "Thread-A incremented counter to 2\n",
      "Thread-A incremented counter to 3\n",
      "Thread-A incremented counter to 4\n",
      "Thread-A incremented counter to 5\n",
      "Thread-A incremented counter to 6\n",
      "Thread-A incremented counter to 7\n",
      "Thread-A incremented counter to 8\n",
      "Thread-A incremented counter to 9\n",
      "Thread-A incremented counter to 10\n",
      "Thread-B incremented counter to 11\n",
      "Thread-B incremented counter to 12\n",
      "Thread-B incremented counter to 13\n",
      "Thread-B incremented counter to 14\n",
      "Thread-B incremented counter to 15\n",
      "Thread-B incremented counter to 16\n",
      "Thread-B incremented counter to 17\n",
      "Thread-B incremented counter to 18\n",
      "Thread-B incremented counter to 19\n",
      "Thread-B incremented counter to 20\n",
      "Final counter: 20\n"
     ]
    }
   ],
   "source": [
    "import threading\n",
    "\n",
    "counter = 0\n",
    "lock = threading.Lock()  # Just to ensure clean output (optional)\n",
    "\n",
    "def increment():\n",
    "    global counter\n",
    "    for _ in range(10):\n",
    "        with lock:\n",
    "            counter += 1\n",
    "            # Print the thread currently executing\n",
    "            print(f\"{threading.current_thread().name} incremented counter to {counter}\")\n",
    "\n",
    "# Create 2 threads with names\n",
    "threads = [\n",
    "    threading.Thread(target=increment, name=\"Thread-A\"),\n",
    "    threading.Thread(target=increment, name=\"Thread-B\")\n",
    "]\n",
    "\n",
    "for t in threads:\n",
    "    t.start()\n",
    "\n",
    "for t in threads:\n",
    "    t.join()\n",
    "\n",
    "print(\"Final counter:\", counter)\n"
   ]
  },
  {
   "cell_type": "markdown",
   "id": "58cbeea4",
   "metadata": {},
   "source": [
    "# Output Example (shortened):\n",
    "\n",
    "Thread-A incremented counter to 1  \n",
    "Thread-B incremented counter to 2  \n",
    "Thread-A incremented counter to 3  \n",
    "...\n",
    "Final counter: 2000\n",
    "\n",
    "- When we have shared memory data its not safe to move on without lock because in python we cannot assume if thread 1 one is running it will run till end untill its task is done i between it might pause and other thread might come into action "
   ]
  },
  {
   "cell_type": "markdown",
   "id": "eda4a3e8",
   "metadata": {},
   "source": [
    "# 🧠 Real-world Analogy:\n",
    "- Think of two people at a narrow door.\n",
    "- Person A is waiting for Person B to move.\n",
    "- Person B is also waiting for Person A to move.\n",
    "- So... both are stuck. 🧍‍♂️🚪🧍‍♀️"
   ]
  },
  {
   "cell_type": "code",
   "execution_count": 2,
   "id": "feae041d",
   "metadata": {},
   "outputs": [],
   "source": [
    "# Do not run the code for deadlock example as it will cause the program to hang indefinitely."
   ]
  },
  {
   "cell_type": "code",
   "execution_count": null,
   "id": "085d44d7",
   "metadata": {},
   "outputs": [],
   "source": [
    "import threading\n",
    "import time\n",
    "\n",
    "lock1 = threading.Lock()\n",
    "lock2 = threading.Lock()\n",
    "\n",
    "def thread1():\n",
    "    with lock1:\n",
    "        print(\"Thread 1 acquired lock1\")\n",
    "        time.sleep(1)\n",
    "        with lock2:\n",
    "            print(\"Thread 1 acquired lock2\")\n",
    "\n",
    "def thread2():\n",
    "    with lock2:\n",
    "        print(\"Thread 2 acquired lock2\")\n",
    "        time.sleep(1)\n",
    "        with lock1:\n",
    "            print(\"Thread 2 acquired lock1\")\n",
    "\n",
    "t1 = threading.Thread(target=thread1)\n",
    "t2 = threading.Thread(target=thread2)\n",
    "\n",
    "t1.start()\n",
    "t2.start()\n",
    "\n",
    "t1.join()\n",
    "t2.join()\n",
    "\n",
    "print(\"Done\")\n"
   ]
  },
  {
   "cell_type": "markdown",
   "id": "888d539f",
   "metadata": {},
   "source": [
    "| Thread 1                         | Thread 2                         |\n",
    "| -------------------------------- | -------------------------------- |\n",
    "| Gets `lock1` ✅                   | Gets `lock2` ✅                   |\n",
    "| Waits for `lock2` ❌ (held by T2) | Waits for `lock1` ❌ (held by T1) |\n",
    "| Both are stuck forever 😵        | Both are stuck forever 😵        |\n",
    "\n",
    "Thread 1 acquired lock1  \n",
    "Thread 2 acquired lock2  \n",
    "And Your program hangsssssssssssss"
   ]
  },
  {
   "cell_type": "code",
   "execution_count": 3,
   "id": "0a230ef9",
   "metadata": {},
   "outputs": [],
   "source": [
    "# Preventing Deadlocks with Consistent Locking Order"
   ]
  },
  {
   "cell_type": "markdown",
   "id": "509fc655",
   "metadata": {},
   "source": [
    "- When Thread 1 acquires lock1 and then acquires lock2, it is holding both locks at the same time — it has not released lock1 while holding lock2.\n",
    "\n",
    "#### Here’s the step-by-step:\n",
    "\n",
    "- Thread 1 calls with lock1: — it acquires lock1.\n",
    "\n",
    "- Inside that block, Thread 1 calls with lock2: — it acquires lock2 while still holding lock1.\n",
    "\n",
    "- Now Thread 1 has both lock1 and lock2 locked simultaneously.\n",
    "\n",
    "- It can only release lock2 when the inner with lock2: block ends.\n",
    "\n",
    "- It can only release lock1 when the outer with lock1: block ends."
   ]
  },
  {
   "cell_type": "code",
   "execution_count": null,
   "id": "6374cbf8",
   "metadata": {},
   "outputs": [
    {
     "name": "stdout",
     "output_type": "stream",
     "text": [
      "Thread 1 trying to acquire lock1\n",
      "Thread 1 acquired lock1\n",
      "Thread 2 trying to acquire lock1\n",
      "Thread 1 trying to acquire lock2\n",
      "Thread 1 acquired lock2\n",
      "Thread 1 is doing work\n",
      "Thread 1 released lock2\n",
      "Thread 1 released lock1\n",
      "Thread 2 acquired lock1\n",
      "Thread 2 trying to acquire lock2\n",
      "Thread 2 acquired lock2\n",
      "Thread 2 is doing work\n",
      "Thread 2 released lock2\n",
      "Thread 2 released lock1\n",
      "✅ Both threads finished without deadlock\n"
     ]
    }
   ],
   "source": [
    "import threading\n",
    "import time\n",
    "\n",
    "# Create two locks\n",
    "lock1 = threading.Lock()\n",
    "lock2 = threading.Lock()\n",
    "\n",
    "def thread1():\n",
    "    print(\"Thread 1 trying to acquire lock1\")\n",
    "    with lock1:\n",
    "        print(\"Thread 1 acquired lock1\")\n",
    "        time.sleep(1)\n",
    "        print(\"Thread 1 trying to acquire lock2\")\n",
    "        with lock2:\n",
    "            print(\"Thread 1 acquired lock2\")\n",
    "            time.sleep(1)\n",
    "            print(\"Thread 1 is doing work\")\n",
    "        print(\"Thread 1 released lock2\")\n",
    "    print(\"Thread 1 released lock1\")\n",
    "\n",
    "def thread2():\n",
    "    print(\"Thread 2 trying to acquire lock1\")\n",
    "    with lock1:  # 🔑 Same order as thread1\n",
    "        print(\"Thread 2 acquired lock1\")\n",
    "        time.sleep(1)\n",
    "        print(\"Thread 2 trying to acquire lock2\")\n",
    "        with lock2:\n",
    "            print(\"Thread 2 acquired lock2\")\n",
    "            print(\"Thread 2 is doing work\")\n",
    "            \n",
    "        print(\"Thread 2 released lock2\")\n",
    "    print(\"Thread 2 released lock1\")\n",
    "\n",
    "# Create and start threads\n",
    "t1 = threading.Thread(target=thread1)\n",
    "t2 = threading.Thread(target=thread2)\n",
    "\n",
    "t1.start()\n",
    "t2.start()\n",
    "\n",
    "t1.join()\n",
    "t2.join()\n",
    "\n",
    "print(\"✅ Both threads finished without deadlock\")\n"
   ]
  },
  {
   "cell_type": "markdown",
   "id": "9d4a682b",
   "metadata": {},
   "source": [
    "# ✅ 11. Producer–Consumer Problem (Inter-Thread Communication)\n",
    "# 🧠 Concept:\n",
    "- Producer: Generates data and adds to a shared queue.\n",
    "- Consumer: Takes data from the queue and processes it.\n",
    "- queue.Queue() is thread-safe, so no need for manual locking!"
   ]
  },
  {
   "cell_type": "code",
   "execution_count": 4,
   "id": "955aaf2e",
   "metadata": {},
   "outputs": [
    {
     "name": "stdout",
     "output_type": "stream",
     "text": [
      "Producer: produced item 0\n",
      "Consumer: consumed item 0\n",
      "Producer: produced item 1\n",
      "Consumer: consumed item 1\n",
      "Producer: produced item 2\n",
      "Consumer: consumed item 2\n",
      "Producer: produced item 3\n",
      "Consumer: consumed item 3\n",
      "Producer: produced item 4\n",
      "Consumer: consumed item 4\n",
      "Consumer: received None, exiting.\n"
     ]
    }
   ],
   "source": [
    "import threading\n",
    "import time\n",
    "import queue\n",
    "\n",
    "q = queue.Queue()\n",
    "\n",
    "def producer():\n",
    "    for i in range(5):\n",
    "        print(f\"Producer: produced item {i}\")\n",
    "        q.put(i)\n",
    "        time.sleep(2)\n",
    "    q.put(None)  # Sentinel to stop consumer\n",
    "\n",
    "def consumer():\n",
    "    while True:\n",
    "        item = q.get()\n",
    "        if item is None:\n",
    "            print(\"Consumer: received None, exiting.\")\n",
    "            break\n",
    "        print(f\"Consumer: consumed item {item}\")\n",
    "        time.sleep(1)\n",
    "\n",
    "t1 = threading.Thread(target=producer)\n",
    "t2 = threading.Thread(target=consumer)\n",
    "\n",
    "t1.start()\n",
    "t2.start()\n",
    "\n",
    "t1.join()\n",
    "t2.join()\n"
   ]
  },
  {
   "cell_type": "code",
   "execution_count": null,
   "id": "db911cd5",
   "metadata": {},
   "outputs": [],
   "source": []
  },
  {
   "cell_type": "code",
   "execution_count": null,
   "id": "573ea2e5",
   "metadata": {},
   "outputs": [],
   "source": []
  },
  {
   "cell_type": "code",
   "execution_count": 14,
   "id": "53c82050",
   "metadata": {},
   "outputs": [
    {
     "name": "stdout",
     "output_type": "stream",
     "text": [
      "Done\n",
      "Done\n",
      "Total execution time: 5.81 seconds\n"
     ]
    }
   ],
   "source": [
    "import threading\n",
    "import time\n",
    "\n",
    "def cpu_bound():\n",
    "    for i in range(10**8):\n",
    "        pass\n",
    "    print(\"Done\")\n",
    "\n",
    "            \n",
    "        \n",
    "# Create threads\n",
    "thread1 = threading.Thread(target=cpu_bound, name=\"Thread-1\")\n",
    "thread2 = threading.Thread(target=cpu_bound, name=\"Thread-2\")\n",
    "\n",
    "start_time = time.time()\n",
    "\n",
    "# Start threads\n",
    "thread1.start()\n",
    "thread2.start()\n",
    "\n",
    "# Wait for threads to finish\n",
    "thread1.join()\n",
    "thread2.join()\n",
    "\n",
    "\n",
    "end_time = time.time()\n",
    "total_time = end_time - start_time\n",
    "\n",
    "print(f\"Total execution time: {total_time:.2f} seconds\")"
   ]
  }
 ],
 "metadata": {
  "kernelspec": {
   "display_name": "Python 3",
   "language": "python",
   "name": "python3"
  },
  "language_info": {
   "codemirror_mode": {
    "name": "ipython",
    "version": 3
   },
   "file_extension": ".py",
   "mimetype": "text/x-python",
   "name": "python",
   "nbconvert_exporter": "python",
   "pygments_lexer": "ipython3",
   "version": "3.11.4"
  }
 },
 "nbformat": 4,
 "nbformat_minor": 5
}

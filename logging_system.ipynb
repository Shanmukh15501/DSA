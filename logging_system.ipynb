{
 "cells": [
  {
   "cell_type": "markdown",
   "id": "df10abfd",
   "metadata": {},
   "source": [
    "#  What is a Logger?\n",
    "- A logger is a tool that helps you record messages during the execution of your application, such as:\n",
    "\n",
    "- Errors (ERROR)\n",
    "\n",
    "- Warnings (WARNING)\n",
    "\n",
    "- Debug info (DEBUG)\n",
    "\n",
    "- General info (INFO)\n",
    "\n",
    "- Critical failures (CRITICAL)\n",
    "\n",
    "- This is super useful for:\n",
    "\n",
    "## Debugging issues\n",
    "\n",
    "- Monitoring app behavior\n",
    "\n",
    "- Auditing system activity\n",
    "\n",
    "\n"
   ]
  },
  {
   "cell_type": "markdown",
   "id": "d92cb122",
   "metadata": {},
   "source": [
    "# Levels from Lowest to Highest Severity\n"
   ]
  },
  {
   "cell_type": "markdown",
   "id": "6a437b8e",
   "metadata": {},
   "source": [
    "| Level | Value | Meaning |\n",
    "| :--- | :---: | :--- |\n",
    "| **DEBUG** | 10 | Detailed info for debugging 🐛 |\n",
    "| **INFO** | 20 | General events like \"Started app\" ℹ️ |\n",
    "| **WARNING** | 30 | Something unexpected ⚠️ |\n",
    "| **ERROR** | 40 | A problem occurred ❌ |\n",
    "| **CRITICAL** | 50 | Very serious error, system crash 💥 |\n",
    "\n",
    "\n",
    "### 📈 What Do the Logging Level Values Mean?\n",
    "\n",
    "The numeric **values** assigned to logging levels (like 10, 20, 30...) help the `logging` module decide **which messages to show** based on severity.\n",
    "\n",
    "#### 🧠 Here's how it works:\n",
    "- When you call `logger.setLevel(logging.INFO)`, it sets the **threshold to 20**.\n",
    "- That means:\n",
    "  - All messages with value **≥ 20** (`INFO`, `WARNING`, `ERROR`, `CRITICAL`) will be shown.\n",
    "  - Messages **below 20** (like `DEBUG` which is 10) will be **ignored**.\n",
    "\n",
    "#### ✅ Summary:\n",
    "The values are just **severity ranks**:\n",
    "- Lower value = less important\n",
    "- Higher value = more important\n",
    "\n",
    "This allows Python to **filter logs efficiently** without checking strings like `\"ERROR\"` or `\"DEBUG\"`.\n"
   ]
  },
  {
   "cell_type": "code",
   "execution_count": 20,
   "id": "e653a925",
   "metadata": {},
   "outputs": [
    {
     "name": "stderr",
     "output_type": "stream",
     "text": [
      "[2025-07-26 11:15:39,985] [DEBUG] - App started successfully\n",
      "[2025-07-26 11:15:39,985] [DEBUG] - App started successfully\n",
      "[2025-07-26 11:15:39,985] [DEBUG] - App started successfully\n",
      "[2025-07-26 11:15:39,985] [DEBUG] - App started successfully\n",
      "[2025-07-26 11:15:39,985] [DEBUG] - App started successfully\n",
      "[2025-07-26 11:15:39,989] [INFO] - App started successfully\n",
      "[2025-07-26 11:15:39,989] [INFO] - App started successfully\n",
      "[2025-07-26 11:15:39,989] [INFO] - App started successfully\n",
      "[2025-07-26 11:15:39,989] [INFO] - App started successfully\n",
      "[2025-07-26 11:15:39,989] [INFO] - App started successfully\n",
      "[2025-07-26 11:15:39,993] [WARNING] - This is a warning\n",
      "[2025-07-26 11:15:39,993] [WARNING] - This is a warning\n",
      "[2025-07-26 11:15:39,993] [WARNING] - This is a warning\n",
      "[2025-07-26 11:15:39,993] [WARNING] - This is a warning\n",
      "[2025-07-26 11:15:39,993] [WARNING] - This is a warning\n",
      "[2025-07-26 11:15:39,997] [ERROR] - Something went wrong\n",
      "[2025-07-26 11:15:39,997] [ERROR] - Something went wrong\n",
      "[2025-07-26 11:15:39,997] [ERROR] - Something went wrong\n",
      "[2025-07-26 11:15:39,997] [ERROR] - Something went wrong\n",
      "[2025-07-26 11:15:39,997] [ERROR] - Something went wrong\n"
     ]
    }
   ],
   "source": [
    "import logging\n",
    "\n",
    "# Create a logger\n",
    "logger = logging.getLogger(\"my_app1\")\n",
    "logger.setLevel(logging.DEBUG)\n",
    "\n",
    "console_handler = logging.StreamHandler()\n",
    "file_handler = logging.FileHandler('my_app.log')\n",
    "\n",
    "# Formatter\n",
    "formatter = logging.Formatter(\"[%(asctime)s] [%(levelname)s] - %(message)s\")\n",
    "\n",
    "console_handler.setFormatter(formatter)\n",
    "file_handler.setFormatter(formatter)\n",
    "\n",
    "# Add handlers\n",
    "logger.addHandler(console_handler)\n",
    "logger.addHandler(file_handler)\n",
    "\n",
    "# Log messages\n",
    "logger.debug(\"App started successfully\")\n",
    "logger.info(\"App started successfully\")\n",
    "logger.warning(\"This is a warning\")\n",
    "logger.error(\"Something went wrong\")\n"
   ]
  },
  {
   "cell_type": "code",
   "execution_count": null,
   "id": "415771c6",
   "metadata": {},
   "outputs": [],
   "source": []
  }
 ],
 "metadata": {
  "kernelspec": {
   "display_name": "Python 3",
   "language": "python",
   "name": "python3"
  },
  "language_info": {
   "codemirror_mode": {
    "name": "ipython",
    "version": 3
   },
   "file_extension": ".py",
   "mimetype": "text/x-python",
   "name": "python",
   "nbconvert_exporter": "python",
   "pygments_lexer": "ipython3",
   "version": "3.11.4"
  }
 },
 "nbformat": 4,
 "nbformat_minor": 5
}

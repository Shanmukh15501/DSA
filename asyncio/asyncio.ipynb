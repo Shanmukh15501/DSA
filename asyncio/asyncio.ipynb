{
 "cells": [
  {
   "cell_type": "markdown",
   "id": "04effc9c",
   "metadata": {},
   "source": [
    "## 1. Why Async?\n",
    "\n",
    "- Normally in Python:\n",
    "\n",
    "- Synchronous code → executes line by line.\n",
    "\n",
    "- If one task waits (like time.sleep(5) or network request), everything else stops.\n",
    "- With asyncio, you can run multiple tasks concurrently (overlap I/O waits like API calls, DB queries, file reads).\n",
    "It’s NOT the same as multithreading or multiprocessing."
   ]
  },
  {
   "cell_type": "markdown",
   "id": "ecf1e877",
   "metadata": {},
   "source": [
    "2.1 Coroutine\n",
    "A coroutine is a special function declared with async def. It returns a coroutine object, not a value, and must be awaited.\n",
    "\n",
    "Breakdown of what happens:\n",
    "1. Event Loop Starts\n",
    "asyncio.run(main()) creates and runs an event loop. This loop manages all asynchronous tasks.\n",
    "\n",
    "2. Coroutines Created\n",
    "Inside main(), three coroutine objects are created by calling say_hello(). These are not started yet; they're just objects.\n",
    "\n",
    "3. asyncio.gather(...) Starts the Coroutines\n",
    "asyncio.gather(...) schedules all three coroutines to run concurrently on the same event loop. It doesn't use threads or processes; it uses cooperative multitasking.\n",
    "\n",
    "4. Execution Begins\n",
    "- Each coroutine:\n",
    "- Prints \"Hello\".\n",
    "- Awaits asyncio.sleep(10), which tells the event loop: \"Pause me for 10 seconds, but go ahead and run other tasks in the meantime.\"\n",
    "- Because sleep is non-blocking, the event loop continues executing other coroutines while one is waiting.\n",
    "- So all three coroutines:\n",
    "- Print \"Hello\" almost instantly.\n",
    "- Begin their 10-second non-blocking sleep in parallel.\n",
    "- After approximately 10 seconds, they resume and print \"World\" one after another or nearly simultaneously (depending on how the event loop schedules them).\n",
    "\n",
    "5. Return Values Collected\n",
    "- Each coroutine returns the elapsed time (around 10 seconds).\n",
    "- asyncio.gather(...) collects these values in a list."
   ]
  },
  {
   "cell_type": "code",
   "execution_count": 7,
   "id": "8dab3b9a",
   "metadata": {},
   "outputs": [
    {
     "name": "stdout",
     "output_type": "stream",
     "text": [
      "STDOUT:\n",
      " Hello\n",
      "World\n",
      "Execution times: ('Total Time', 10.01495885848999)\n",
      "\n",
      "STDERR:\n",
      " \n"
     ]
    }
   ],
   "source": [
    "import subprocess\n",
    "import sys\n",
    "\n",
    "# Run the file with the same Python interpreter\n",
    "result = subprocess.run([sys.executable, \"async_example1.py\"], capture_output=True, text=True)\n",
    "\n",
    "print(\"STDOUT:\\n\", result.stdout)\n",
    "print(\"STDERR:\\n\", result.stderr)\n",
    "\n"
   ]
  },
  {
   "cell_type": "code",
   "execution_count": 9,
   "id": "1e9322f2",
   "metadata": {},
   "outputs": [
    {
     "name": "stdout",
     "output_type": "stream",
     "text": [
      "STDOUT:\n",
      " Hello\n",
      "Hello\n",
      "Hello\n",
      "World\n",
      "World\n",
      "World\n",
      "Execution times: [10.009049415588379, 10.009049415588379, 10.009049415588379]\n",
      "\n",
      "STDERR:\n",
      " \n"
     ]
    }
   ],
   "source": [
    "import subprocess\n",
    "import sys\n",
    "\n",
    "# Run the file with the same Python interpreter\n",
    "result = subprocess.run([sys.executable, \"async_example2.py\"], capture_output=True, text=True)\n",
    "\n",
    "print(\"STDOUT:\\n\", result.stdout)\n",
    "print(\"STDERR:\\n\", result.stderr)\n",
    "\n"
   ]
  },
  {
   "cell_type": "code",
   "execution_count": 31,
   "id": "58fdc707",
   "metadata": {},
   "outputs": [
    {
     "name": "stdout",
     "output_type": "stream",
     "text": [
      "Task-1 started (blocking)\n",
      "Task-2 started (blocking)\n",
      "Task-3 started (blocking)\n",
      "Task-1 finished\n",
      "Task-2 finished\n",
      "Task-3 finished\n",
      "Results: ['Task-1 done', 'Task-2 done', 'Task-3 done'] 10.040251016616821\n"
     ]
    }
   ],
   "source": [
    "#Threads and async\n",
    "import asyncio\n",
    "import time\n",
    "from concurrent.futures import ThreadPoolExecutor\n",
    "\n",
    "start =  time.time()\n",
    "def blocking_task(name):\n",
    "    print(f\"{name} started (blocking)\")\n",
    "    time.sleep(10)\n",
    "    print(f\"{name} finished\")\n",
    "    return f\"{name} done\"\n",
    "\n",
    "loop = asyncio.get_running_loop()\n",
    "#run_in_executor() expects a regular (sync) function, not an async def.\n",
    "with ThreadPoolExecutor() as pool:\n",
    "    results = await asyncio.gather(\n",
    "        loop.run_in_executor(pool, blocking_task, \"Task-1\"),\n",
    "        loop.run_in_executor(pool, blocking_task, \"Task-2\"),\n",
    "        loop.run_in_executor(pool, blocking_task, \"Task-3\"),\n",
    "    )\n",
    "print(\"Results:\", results,time.time()-start)\n",
    "\n"
   ]
  },
  {
   "cell_type": "code",
   "execution_count": 29,
   "id": "6ba5eaf8",
   "metadata": {},
   "outputs": [
    {
     "name": "stdout",
     "output_type": "stream",
     "text": [
      "STDOUT:\n",
      " [Request Block 1] Blocking task started\n",
      "[Request Block 2] Blocking task started\n",
      "[Request Block 3] Blocking task started[Request 1] Hello\n",
      "\n",
      "[Request 2] Hello\n",
      "[Request 3] Hello\n",
      "[Request 1] Blocking task finished\n",
      "[Request 2] Blocking task finished\n",
      "[Request 3] Blocking task finished\n",
      "[Request 1] World\n",
      "[Request 2] World\n",
      "[Request 3] World\n",
      "[Request 1] Results: ['[Request 1] Async Done', '[Request 1] Blocking Done']\n",
      "[Request 2] Results: ['[Request 2] Async Done', '[Request 2] Blocking Done']\n",
      "[Request 3] Results: ['[Request 3] Async Done', '[Request 3] Blocking Done']\n",
      "\n",
      "STDERR:\n",
      " \n"
     ]
    }
   ],
   "source": [
    "import subprocess\n",
    "import sys\n",
    "\n",
    "# Run the file with the same Python interpreter\n",
    "result = subprocess.run([sys.executable, \"async_example3.py\"], capture_output=True, text=True)\n",
    "\n",
    "print(\"STDOUT:\\n\", result.stdout)\n",
    "print(\"STDERR:\\n\", result.stderr)\n",
    "\n"
   ]
  },
  {
   "cell_type": "code",
   "execution_count": 34,
   "id": "8313aced",
   "metadata": {},
   "outputs": [
    {
     "name": "stdout",
     "output_type": "stream",
     "text": [
      "STDOUT:\n",
      " Task-1 started (in process)\n",
      "Task-2 started (in process)\n",
      "Task-3 started (in process)\n",
      "Task-2 finished\n",
      "Task-1 finished\n",
      "Task-3 finished\n",
      "Results: ['Task-1 done', 'Task-2 done', 'Task-3 done']\n",
      "\n",
      "STDERR:\n",
      " \n"
     ]
    }
   ],
   "source": [
    "import subprocess\n",
    "import sys\n",
    "\n",
    "# Run the file with the same Python interpreter\n",
    "result = subprocess.run([sys.executable, \"async_example4.py\"], capture_output=True, text=True)\n",
    "\n",
    "print(\"STDOUT:\\n\", result.stdout)\n",
    "print(\"STDERR:\\n\", result.stderr)\n",
    "\n"
   ]
  },
  {
   "cell_type": "code",
   "execution_count": null,
   "id": "89d51a36",
   "metadata": {},
   "outputs": [],
   "source": []
  }
 ],
 "metadata": {
  "kernelspec": {
   "display_name": "Python 3",
   "language": "python",
   "name": "python3"
  },
  "language_info": {
   "codemirror_mode": {
    "name": "ipython",
    "version": 3
   },
   "file_extension": ".py",
   "mimetype": "text/x-python",
   "name": "python",
   "nbconvert_exporter": "python",
   "pygments_lexer": "ipython3",
   "version": "3.11.4"
  }
 },
 "nbformat": 4,
 "nbformat_minor": 5
}

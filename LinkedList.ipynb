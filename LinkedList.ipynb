{
 "cells": [
  {
   "cell_type": "markdown",
   "id": "be138ffd",
   "metadata": {},
   "source": [
    "# Linked_List"
   ]
  },
  {
   "cell_type": "code",
   "execution_count": 45,
   "id": "df9d493c",
   "metadata": {},
   "outputs": [
    {
     "name": "stdout",
     "output_type": "stream",
     "text": [
      "40\n",
      "300\n",
      "20\n",
      "30\n"
     ]
    }
   ],
   "source": [
    "class Node:\n",
    "    def __init__(self, data):\n",
    "        self.data = data\n",
    "        self.next = None\n",
    "\n",
    "class LinkedList:\n",
    "    def __init__(self):\n",
    "        self.head = None\n",
    "    \n",
    "    def insert_at_beginning(self, data):\n",
    "\n",
    "        new_node =  Node(data)\n",
    "\n",
    "        if not self.head:\n",
    "            self.head = new_node\n",
    "            return \n",
    "         \n",
    "        current =  self.head\n",
    "        self.head = new_node \n",
    "        self.head.next = current\n",
    "    \n",
    "    def append(self, data):\n",
    "        \n",
    "        new_node = Node(data)\n",
    "        \n",
    "        if not self.head:\n",
    "            self.head = new_node\n",
    "            return \n",
    "\n",
    "        current = self.head\n",
    "        \n",
    "        while current.next:\n",
    "            current = current.next\n",
    "        current.next = new_node\n",
    "        \n",
    "    def insert_at_pos(self, pos, data):\n",
    "        if pos == 0:\n",
    "            self.insert_at_beginning(data)\n",
    "        else:\n",
    "            current = self.head\n",
    "            index = 1\n",
    "            while(current.next):\n",
    "                if index == pos:\n",
    "                    new_node = Node(data)\n",
    "                    new_node.next = current.next\n",
    "                    current.next = new_node\n",
    "                current = current.next\n",
    "                index =  index + 1\n",
    "    \n",
    "    def delete_by_value(self, value):\n",
    "        \"\"\"\n",
    "        Given a Value need to Search for the value in the linked list and delete it if found\n",
    "        \"\"\"        \n",
    "        if not self.head:\n",
    "            return\n",
    "        \n",
    "        if self.head.data == value:\n",
    "            self.head =  self.head.next\n",
    "            return\n",
    "        \n",
    "        current  = self.head\n",
    "        \n",
    "        while(current.next and current.next.data!=value):\n",
    "            current = current.next\n",
    "        \n",
    "        if not current:\n",
    "            return \n",
    "        current.next = current.next.next\n",
    "    \n",
    "    def delete_by_index(self,index):\n",
    "        \n",
    "        if index < 0:\n",
    "            return\n",
    "        \n",
    "        current  = self.head\n",
    "        if index == 0:\n",
    "            self.head = self.head.next\n",
    "            return\n",
    "        \n",
    "        pos = 0\n",
    "        while(current.next and pos!=index-1):\n",
    "            pos = pos + 1\n",
    "            current = current.next\n",
    "        \n",
    "        current.next  = current.next.next\n",
    "\n",
    "    def reverse_linked_list(self):\n",
    "        \n",
    "        current = self.head\n",
    "        prev = None\n",
    "        while(current):\n",
    "            next_node = current.next\n",
    "            current.next = prev\n",
    "            prev = current\n",
    "            current = next_node\n",
    "        self.head = prev\n",
    "    \n",
    "    def length_of_list(self):\n",
    "        current  = self.head\n",
    "        count = 0\n",
    "        while(current):\n",
    "            count = count + 1\n",
    "            current =  current.next\n",
    "        return count\n",
    "        \n",
    "    def display(self):\n",
    "        current = self.head\n",
    "        while(current):\n",
    "            print(current.data)\n",
    "            current= current.next\n",
    "        \n",
    "obj = LinkedList()\n",
    "obj.append(10)\n",
    "obj.append(20)\n",
    "obj.append(30)\n",
    "obj.insert_at_beginning(40)\n",
    "obj.insert_at_beginning(50)\n",
    "obj.insert_at_pos(2,300)\n",
    "obj.delete_by_value(10)\n",
    "obj.delete_by_index(0)\n",
    "obj.display()"
   ]
  },
  {
   "cell_type": "code",
   "execution_count": 46,
   "id": "efdfec85",
   "metadata": {},
   "outputs": [
    {
     "name": "stdout",
     "output_type": "stream",
     "text": [
      "30\n",
      "20\n",
      "300\n",
      "40\n"
     ]
    }
   ],
   "source": [
    "obj.reverse_linked_list()\n",
    "obj.display()"
   ]
  },
  {
   "cell_type": "code",
   "execution_count": 47,
   "id": "4eb0239e",
   "metadata": {},
   "outputs": [
    {
     "data": {
      "text/plain": [
       "4"
      ]
     },
     "execution_count": 47,
     "metadata": {},
     "output_type": "execute_result"
    }
   ],
   "source": [
    "obj.length_of_list()\n"
   ]
  },
  {
   "cell_type": "code",
   "execution_count": null,
   "id": "f9315e81",
   "metadata": {},
   "outputs": [],
   "source": []
  },
  {
   "cell_type": "code",
   "execution_count": null,
   "id": "955c27fb",
   "metadata": {},
   "outputs": [],
   "source": []
  }
 ],
 "metadata": {
  "kernelspec": {
   "display_name": "Python 3",
   "language": "python",
   "name": "python3"
  },
  "language_info": {
   "codemirror_mode": {
    "name": "ipython",
    "version": 3
   },
   "file_extension": ".py",
   "mimetype": "text/x-python",
   "name": "python",
   "nbconvert_exporter": "python",
   "pygments_lexer": "ipython3",
   "version": "3.11.4"
  }
 },
 "nbformat": 4,
 "nbformat_minor": 5
}

{
 "cells": [
  {
   "cell_type": "code",
   "execution_count": null,
   "id": "5499ed71",
   "metadata": {},
   "outputs": [],
   "source": [
    "\"\"\"\n",
    "Linear Search Algorithm\n",
    "Problem Description:\n",
    "\n",
    "Title: Linear Search in a List\n",
    "\n",
    "Description: Implement a function linear_search that performs a linear search on a list to find a given value. The function should return the index of the first occurrence of the value in the list, or -1 if the value is not found.\n",
    "\n",
    "Parameters:\n",
    "\n",
    "arr: A list of elements (can be empty)\n",
    "\n",
    "target: The value to search for in the list\n",
    "\n",
    "Return:\n",
    "\n",
    "The index of the first occurrence of the target value (0-based), or -1 if not found\n",
    "\n",
    "Examples:\n",
    "\n",
    "linear_search([3, 7, 2, 5], 2) should return 2\n",
    "\n",
    "linear_search([1, 1, 2, 1], 1) should return 0\n",
    "\n",
    "linear_search([], 5) should return -1\n",
    "\n",
    "linear_search([4, 2, 8], 6) should return -1\n",
    "\n",
    "\"\"\""
   ]
  },
  {
   "cell_type": "code",
   "execution_count": 1,
   "id": "35c88c61",
   "metadata": {},
   "outputs": [
    {
     "data": {
      "text/plain": [
       "'\\nBEGIN\\n    FUNCTION linear_search(arr, target):\\n        FOR i FROM 0 TO LENGTH(arr) - 1:\\n            IF arr[i] == target:\\n                RETURN i\\n        END FOR\\n        RETURN -1\\n    END FUNCTION\\n'"
      ]
     },
     "execution_count": 1,
     "metadata": {},
     "output_type": "execute_result"
    }
   ],
   "source": [
    "\"\"\"\n",
    "BEGIN\n",
    "    FUNCTION linear_search(arr, target):\n",
    "        FOR i FROM 0 TO LENGTH(arr) - 1:\n",
    "            IF arr[i] == target:\n",
    "                RETURN i\n",
    "        END FOR\n",
    "        RETURN -1\n",
    "    END FUNCTION\n",
    "\"\"\""
   ]
  },
  {
   "cell_type": "code",
   "execution_count": 4,
   "id": "71690343",
   "metadata": {},
   "outputs": [
    {
     "data": {
      "text/plain": [
       "2"
      ]
     },
     "execution_count": 4,
     "metadata": {},
     "output_type": "execute_result"
    }
   ],
   "source": [
    "def linear_search(arr, target):\n",
    "    # TODO: Implement this function\n",
    "    for i in range(len(arr)):\n",
    "        if arr[i] == target:\n",
    "            return i\n",
    "    return -1\n",
    "linear_search([1, 2, 3, 4], 3)  # Output: 2"
   ]
  },
  {
   "cell_type": "code",
   "execution_count": 5,
   "id": "49edec0a",
   "metadata": {},
   "outputs": [],
   "source": [
    "# Binary Search Algorithm"
   ]
  },
  {
   "cell_type": "code",
   "execution_count": 6,
   "id": "17c8caf5",
   "metadata": {},
   "outputs": [
    {
     "data": {
      "text/plain": [
       "'\\nBEGIN\\n    FUNCTION binary_search(arr, target)\\n        SET low = 0\\n        SET high = LENGTH(arr) - 1\\n\\n        WHILE low <= high DO\\n            SET mid = (low + high) // 2\\n\\n            IF arr[mid] == target THEN\\n                RETURN mid\\n            ELSE IF arr[mid] > target THEN\\n                SET high = mid - 1\\n            ELSE\\n                SET low = mid + 1\\n            END IF\\n        END WHILE\\n\\n        RETURN -1  // Target not found\\n    END FUNCTION\\nEND\\n'"
      ]
     },
     "execution_count": 6,
     "metadata": {},
     "output_type": "execute_result"
    }
   ],
   "source": [
    "\"\"\"\n",
    "BEGIN\n",
    "    FUNCTION binary_search(arr, target)\n",
    "        SET low = 0\n",
    "        SET high = LENGTH(arr) - 1\n",
    "\n",
    "        WHILE low <= high DO\n",
    "            SET mid = (low + high) // 2\n",
    "\n",
    "            IF arr[mid] == target THEN\n",
    "                RETURN mid\n",
    "            ELSE IF arr[mid] > target THEN\n",
    "                SET high = mid - 1\n",
    "            ELSE\n",
    "                SET low = mid + 1\n",
    "            END IF\n",
    "        END WHILE\n",
    "\n",
    "        RETURN -1  // Target not found\n",
    "    END FUNCTION\n",
    "END\n",
    "\"\"\""
   ]
  },
  {
   "cell_type": "code",
   "execution_count": 7,
   "id": "2cc72435",
   "metadata": {},
   "outputs": [
    {
     "data": {
      "text/plain": [
       "2"
      ]
     },
     "execution_count": 7,
     "metadata": {},
     "output_type": "execute_result"
    }
   ],
   "source": [
    "def binary_search(arr, target):\n",
    "    low = 0\n",
    "    high = len(arr) - 1\n",
    "\n",
    "    while low <= high:\n",
    "        mid = (low + high) // 2\n",
    "\n",
    "        if arr[mid] == target:\n",
    "            return mid\n",
    "        elif arr[mid] > target:\n",
    "            high = mid - 1\n",
    "        else:\n",
    "            low = mid + 1\n",
    "\n",
    "    return -1  # Target not found\n",
    "\n",
    "binary_search([1, 2, 3, 4, 5], 3)  # Output: 2"
   ]
  },
  {
   "cell_type": "code",
   "execution_count": null,
   "id": "bc90536e",
   "metadata": {},
   "outputs": [],
   "source": []
  }
 ],
 "metadata": {
  "kernelspec": {
   "display_name": "Python 3",
   "language": "python",
   "name": "python3"
  },
  "language_info": {
   "codemirror_mode": {
    "name": "ipython",
    "version": 3
   },
   "file_extension": ".py",
   "mimetype": "text/x-python",
   "name": "python",
   "nbconvert_exporter": "python",
   "pygments_lexer": "ipython3",
   "version": "3.11.4"
  }
 },
 "nbformat": 4,
 "nbformat_minor": 5
}

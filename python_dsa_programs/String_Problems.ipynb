{
 "cells": [
  {
   "cell_type": "code",
   "execution_count": 2,
   "id": "292e272e",
   "metadata": {},
   "outputs": [],
   "source": [
    "# Problem Statement 1"
   ]
  },
  {
   "cell_type": "code",
   "execution_count": null,
   "id": "15dc1fef",
   "metadata": {},
   "outputs": [],
   "source": [
    "\"\"\"\n",
    "Reverse a string\n",
    "Problem Description:\n",
    "\n",
    "You are given a string s. Your task is to return the reversed version of the string.\n",
    "\n",
    "\n",
    "\n",
    "Input:\n",
    "\n",
    "A single string s, where the length of s is between 1 and 1000.\n",
    "\n",
    "\n",
    "\n",
    "Output:\n",
    "\n",
    "A single string that is the reverse of the input string.\n",
    "\n",
    "\n",
    "\n",
    "Example:\n",
    "\n",
    "Input: \"hello\"\n",
    "Output: \"olleh\"\n",
    " \n",
    "Input: \"Python\"\n",
    "Output: \"nohtyP\"\n",
    "\"\"\""
   ]
  },
  {
   "cell_type": "code",
   "execution_count": null,
   "id": "4be5d581",
   "metadata": {},
   "outputs": [],
   "source": [
    "\"\"\"\n",
    "BEGIN\n",
    "    FUCNTION reverse_string(s: str) -> str:\n",
    "    \n",
    "        RETURN s[::-1]    \n",
    "        \n",
    "    END FUNCTION\n",
    "END\n",
    "\"\"\""
   ]
  },
  {
   "cell_type": "code",
   "execution_count": 3,
   "id": "353ad888",
   "metadata": {},
   "outputs": [
    {
     "name": "stdout",
     "output_type": "stream",
     "text": [
      "olleh\n"
     ]
    }
   ],
   "source": [
    "def reverse_string(s: str) -> str:\n",
    "    \"\"\"\n",
    "    This function takes a string as input and returns the reversed string.\n",
    "    \n",
    "    Args: The input string to be reversed.\n",
    "    Return: The reversed string.\n",
    "    \"\"\"\n",
    "    return s[::-1]  \n",
    "print(reverse_string(\"hello\"))  # Output: \"olleh\""
   ]
  },
  {
   "cell_type": "code",
   "execution_count": null,
   "id": "be5ca9c8",
   "metadata": {},
   "outputs": [],
   "source": [
    "# Problem Statement 2\n"
   ]
  },
  {
   "cell_type": "code",
   "execution_count": null,
   "id": "e1215d09",
   "metadata": {},
   "outputs": [],
   "source": [
    "\"\"\"\n",
    "Count Vowels in a string\n",
    "Problem Description:\n",
    "\n",
    "You are given a string s. Your task is to count the number of vowels (both uppercase and lowercase) in the string and return the total count.\n",
    "\n",
    "Input:\n",
    "\n",
    "A single string s, where the length of s is between 1 and 1000.\n",
    "\n",
    "Output:\n",
    "\n",
    "An integer representing the total count of vowels in the input string.\n",
    "\"\"\""
   ]
  },
  {
   "cell_type": "code",
   "execution_count": null,
   "id": "1e7bfc50",
   "metadata": {},
   "outputs": [],
   "source": [
    "\"\"\"\n",
    "BEGIN\n",
    "\tdef count_vowels_string(s:str):\n",
    "\t\tcount = 0\n",
    "\t\tvowels = ['a','e','i','o','u']\n",
    "\t\tfor char in s:\n",
    "\t\t\tif char in vowels:\n",
    "\t\t\t\tcount = count + 1\n",
    "\t\tRETURN count\n",
    "END\n",
    "\"\"\""
   ]
  },
  {
   "cell_type": "code",
   "execution_count": 12,
   "id": "b45f1c5b",
   "metadata": {},
   "outputs": [
    {
     "name": "stdout",
     "output_type": "stream",
     "text": [
      "Counting vowels in the string...\n",
      "2\n"
     ]
    }
   ],
   "source": [
    "def count_vowels_string(s:str):\n",
    "    \n",
    "    \"\"\"\n",
    "    This function counts the number of vowels in a given string.\n",
    "    \n",
    "    Args: The input string to count vowels from.\n",
    "    Return: The total count of vowels in the string.\n",
    "    \"\"\"\n",
    "    print(\"Counting vowels in the string...\")\n",
    "    vowels = ['a', 'e', 'i', 'o', 'u', 'A', 'E', 'I', 'O', 'U']\n",
    "    count = 0\n",
    "    for char in s:\n",
    "        if char in vowels:\n",
    "            count += 1\n",
    "    return count\n",
    "\n",
    "print(count_vowels_string(\"hello\"))  # Output: 2"
   ]
  },
  {
   "cell_type": "code",
   "execution_count": 13,
   "id": "865cf007",
   "metadata": {},
   "outputs": [],
   "source": [
    "# Problem Statement 3"
   ]
  },
  {
   "cell_type": "code",
   "execution_count": 14,
   "id": "7b709851",
   "metadata": {},
   "outputs": [
    {
     "data": {
      "text/plain": [
       "'\\nCheck for same strings\\nProblem Description:\\n\\nYou are given two strings s and t. Your task is to check if the two strings are equal. Two strings are considered equal if they have the same length and the same characters at each position. You are not allowed to use any built-in string comparison functions.\\n\\n\\n\\nInput:\\n\\nTwo strings s and t, where 1 <= len(s), len(t) <= 1000.\\n\\n\\n\\nOutput:\\n\\nA boolean value (True or False) indicating whether the two strings are equal.\\n\\n\\n\\nExample:\\n\\nInput: s = \"hello\", t = \"hello\"\\nOutput: True\\n \\nInput: s = \"hello\", t = \"world\"\\nOutput: False\\n\\n\\nDisclaimer: This Udemy coding exercise is still in development, so some advanced complexities might not be fully checked. Please use it primarily for basic code validation.\\n'"
      ]
     },
     "execution_count": 14,
     "metadata": {},
     "output_type": "execute_result"
    }
   ],
   "source": [
    "\"\"\"\n",
    "Check for same strings\n",
    "Problem Description:\n",
    "\n",
    "You are given two strings s and t. Your task is to check if the two strings are equal. Two strings are considered equal if they have the same length and the same characters at each position. You are not allowed to use any built-in string comparison functions.\n",
    "\n",
    "\n",
    "\n",
    "Input:\n",
    "\n",
    "Two strings s and t, where 1 <= len(s), len(t) <= 1000.\n",
    "\n",
    "\n",
    "\n",
    "Output:\n",
    "\n",
    "A boolean value (True or False) indicating whether the two strings are equal.\n",
    "\n",
    "\n",
    "\n",
    "Example:\n",
    "\n",
    "Input: s = \"hello\", t = \"hello\"\n",
    "Output: True\n",
    " \n",
    "Input: s = \"hello\", t = \"world\"\n",
    "Output: False\n",
    "\n",
    "\n",
    "Disclaimer: This Udemy coding exercise is still in development, so some advanced complexities might not be fully checked. Please use it primarily for basic code validation.\n",
    "\"\"\""
   ]
  },
  {
   "cell_type": "code",
   "execution_count": 15,
   "id": "e67feb9e",
   "metadata": {},
   "outputs": [
    {
     "data": {
      "text/plain": [
       "'\\nBEGIN\\n\\tFUNCTION validate_strings(s,t):\\n\\t\\tRETURN s == t\\n\\tEND FUNCTION\\nEND\\n'"
      ]
     },
     "execution_count": 15,
     "metadata": {},
     "output_type": "execute_result"
    }
   ],
   "source": [
    "\"\"\"\n",
    "BEGIN\n",
    "\tFUNCTION validate_strings(s,t):\n",
    "\t\tRETURN s == t\n",
    "\tEND FUNCTION\n",
    "END\n",
    "\"\"\""
   ]
  },
  {
   "cell_type": "code",
   "execution_count": 20,
   "id": "15628dac",
   "metadata": {},
   "outputs": [
    {
     "data": {
      "text/plain": [
       "True"
      ]
     },
     "execution_count": 20,
     "metadata": {},
     "output_type": "execute_result"
    }
   ],
   "source": [
    "def validate_strings(s:str,t:str)->bool:\n",
    "\t\"\"\"\n",
    "\tValidates the two strings and returns bool\n",
    "\tArgs:\n",
    "\t\ts:The string 1\n",
    "\t\tt:The string 2\n",
    "\tReturns:\n",
    "\t\t\tbool\n",
    "\t\"\"\"\n",
    "\treturn s == t\n",
    "validate_strings(\"hello\", \"hello\")  # Output: True"
   ]
  },
  {
   "cell_type": "code",
   "execution_count": 21,
   "id": "6d188e17",
   "metadata": {},
   "outputs": [],
   "source": [
    "# Problem Statement 4"
   ]
  },
  {
   "cell_type": "code",
   "execution_count": 22,
   "id": "ee8a975e",
   "metadata": {},
   "outputs": [
    {
     "data": {
      "text/plain": [
       "'\\nCheck Palindrome\\nProblem Description:\\n\\nYou are given a string s. Your task is to check if the string is a palindrome. A string is considered a palindrome if it reads the same forward and backward, ignoring spaces, punctuation, and case.\\n\\n\\n\\nInput:\\n\\nA single string s, where the length of s is between 1 and 1000.\\n\\n\\n\\nOutput:\\n\\nA boolean value: True if the string is a palindrome, and False otherwise.\\n\\n\\n\\nExample:\\n\\nInput: \"A man a plan a canal Panama\"\\nOutput: True\\n \\nInput: \"Hello, World!\"\\nOutput: False\\n'"
      ]
     },
     "execution_count": 22,
     "metadata": {},
     "output_type": "execute_result"
    }
   ],
   "source": [
    "\"\"\"\n",
    "Check Palindrome\n",
    "Problem Description:\n",
    "\n",
    "You are given a string s. Your task is to check if the string is a palindrome. A string is considered a palindrome if it reads the same forward and backward, ignoring spaces, punctuation, and case.\n",
    "\n",
    "\n",
    "\n",
    "Input:\n",
    "\n",
    "A single string s, where the length of s is between 1 and 1000.\n",
    "\n",
    "\n",
    "\n",
    "Output:\n",
    "\n",
    "A boolean value: True if the string is a palindrome, and False otherwise.\n",
    "\n",
    "\n",
    "\n",
    "Example:\n",
    "\n",
    "Input: \"A man a plan a canal Panama\"\n",
    "Output: True\n",
    " \n",
    "Input: \"Hello, World!\"\n",
    "Output: False\n",
    "\"\"\""
   ]
  },
  {
   "cell_type": "code",
   "execution_count": null,
   "id": "1546a9fe",
   "metadata": {},
   "outputs": [],
   "source": [
    "\"\"\"\n",
    "BEGIN\n",
    "\tFUNCTION check_pallindrome(s:str)\n",
    "\t\t\tnew_string = ''\n",
    "\t\t\tFOR EACH char in s DO:\n",
    "\t\t\t\tIF char.is_alpha():\n",
    "\t\t\t\t\tnew_string = new_string + char\n",
    "\t\t\t\tEND IF\n",
    "\t\t\tEND FOR\n",
    "\t\tRETURN new_string == new_string[::-1]\n",
    "\t\t\t\t\n",
    "\tEND FUNCTION\n",
    "END\n",
    "\"\"\""
   ]
  },
  {
   "cell_type": "code",
   "execution_count": 25,
   "id": "3cecc64d",
   "metadata": {},
   "outputs": [
    {
     "data": {
      "text/plain": [
       "False"
      ]
     },
     "execution_count": 25,
     "metadata": {},
     "output_type": "execute_result"
    }
   ],
   "source": [
    "def is_palindrome(s):\n",
    "    \"\"\"\n",
    "        This function checks if a given string is a palindrome.\n",
    "    Args: The input string to check for palindrome.\n",
    "    Returns: True if the string is a palindrome, False otherwise.\n",
    "    \"\"\"\n",
    "    new_string = ''\n",
    "    for char in s:\n",
    "        if char.isalpha():\n",
    "            new_string += char.lower()\n",
    "    return new_string == new_string[::-1]\n",
    "is_palindrome(\"hello\")"
   ]
  },
  {
   "cell_type": "code",
   "execution_count": null,
   "id": "98cf6f5c",
   "metadata": {},
   "outputs": [],
   "source": [
    "\"\"\"\n",
    "Check for anagrams\n",
    "Problem Description:\n",
    "\n",
    "You are given two strings s and t. Your task is to determine if string t is an anagram of string s. An anagram is a word or phrase formed by rearranging the characters of a different word or phrase, using all the original characters exactly once.\n",
    "\n",
    "\n",
    "\n",
    "Input:\n",
    "\n",
    "Two strings s and t where both lengths are between 1 and 1000.\n",
    "\n",
    "\n",
    "\n",
    "Output:\n",
    "\n",
    "Return True if t is an anagram of s, and False otherwise.\n",
    "\n",
    "\n",
    "\n",
    "Example:\n",
    "\n",
    "Input: s = \"anagram\", t = \"nagaram\"\n",
    "Output: True\n",
    " \n",
    "Input: s = \"rat\", t = \"car\"\n",
    "Output: False\n",
    "\n",
    "\"\"\""
   ]
  },
  {
   "cell_type": "code",
   "execution_count": 26,
   "id": "d48a335a",
   "metadata": {},
   "outputs": [
    {
     "data": {
      "text/plain": [
       "'\\nBEGIN\\n    FUNCTION is_anagram(s:str, t:str) -> bool:\\n    \\n    s_arr = [0]*26\\n    t_arr = [0]*26\\n    s=s.lower()\\n    t=t.lower()\\n    FOR EACH char in s DO:\\n        s_arr[ord(char)%26] += 1\\n    END FOR\\n    FOR EACH char in s DO:\\n        t_arr[ord(char)%26] += 1\\n    END FOR\\n    RETURN s_arr == t_arr\\n    END FUNCTION\\nEND \\n\\n'"
      ]
     },
     "execution_count": 26,
     "metadata": {},
     "output_type": "execute_result"
    }
   ],
   "source": [
    "\"\"\"\n",
    "BEGIN\n",
    "    FUNCTION is_anagram(s:str, t:str) -> bool:\n",
    "    \n",
    "    s_arr = [0]*26\n",
    "    t_arr = [0]*26\n",
    "    s=s.lower()\n",
    "    t=t.lower()\n",
    "    FOR EACH char in s DO:\n",
    "        s_arr[ord(char)%26] += 1\n",
    "    END FOR\n",
    "    FOR EACH char in s DO:\n",
    "        t_arr[ord(char)%26] += 1\n",
    "    END FOR\n",
    "    RETURN s_arr == t_arr\n",
    "    END FUNCTION\n",
    "END \n",
    "\n",
    "\"\"\""
   ]
  },
  {
   "cell_type": "code",
   "execution_count": 30,
   "id": "bf475c2a",
   "metadata": {},
   "outputs": [
    {
     "name": "stdout",
     "output_type": "stream",
     "text": [
      "1 True\n",
      "2 False\n"
     ]
    }
   ],
   "source": [
    "def check_anagram(s: str, t: str) -> bool:\n",
    "    \"\"\"\n",
    "    This function checks if two strings are anagrams of each other.\n",
    "    \n",
    "    Args: \n",
    "        s: The first string.\n",
    "        t: The second string.\n",
    "        \n",
    "    Returns: \n",
    "        True if t is an anagram of s, False otherwise.\n",
    "    \"\"\"\n",
    "    s_arr = [0] * 26\n",
    "    t_arr = [0] * 26\n",
    "    s = s.lower()\n",
    "    t = t.lower()\n",
    "    \n",
    "    for char in s:\n",
    "        s_arr[ord(char) - ord('a')] += 1\n",
    "    for char in t:\n",
    "        t_arr[ord(char) - ord('a')] += 1\n",
    "        \n",
    "    return s_arr == t_arr\n",
    "\n",
    "print(\"1\",check_anagram(\"anagram\", \"nagaram\"))\n",
    "print(\"2\",check_anagram(\"cat\", \"tar\"))"
   ]
  },
  {
   "cell_type": "code",
   "execution_count": null,
   "id": "cf1355cc",
   "metadata": {},
   "outputs": [],
   "source": []
  },
  {
   "cell_type": "code",
   "execution_count": null,
   "id": "92b4a0e8",
   "metadata": {},
   "outputs": [],
   "source": []
  }
 ],
 "metadata": {
  "kernelspec": {
   "display_name": "Python 3",
   "language": "python",
   "name": "python3"
  },
  "language_info": {
   "codemirror_mode": {
    "name": "ipython",
    "version": 3
   },
   "file_extension": ".py",
   "mimetype": "text/x-python",
   "name": "python",
   "nbconvert_exporter": "python",
   "pygments_lexer": "ipython3",
   "version": "3.11.4"
  }
 },
 "nbformat": 4,
 "nbformat_minor": 5
}
